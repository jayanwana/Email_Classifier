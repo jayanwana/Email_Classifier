{
 "cells": [
  {
   "cell_type": "markdown",
   "id": "determined-billy",
   "metadata": {},
   "source": [
    "# Email Classifier Notebook"
   ]
  },
  {
   "cell_type": "markdown",
   "id": "handled-secondary",
   "metadata": {},
   "source": [
    "### Import Libraries"
   ]
  },
  {
   "cell_type": "code",
   "execution_count": 1,
   "id": "tracked-attempt",
   "metadata": {},
   "outputs": [],
   "source": [
    "import re\n",
    "import numpy as np\n",
    "import pandas as pd\n",
    "import seaborn as sns\n",
    "import matplotlib.pyplot as plt\n",
    "from sklearn.pipeline import Pipeline\n",
    "from sklearn.model_selection import train_test_split, GridSearchCV, cross_val_score, KFold\n",
    "# from sklearn.ensemble import RandomForestClassifier\n",
    "from sklearn.linear_model import LogisticRegression\n",
    "from sklearn.svm import SVC\n",
    "from sklearn.metrics import accuracy_score, roc_auc_score, confusion_matrix, ConfusionMatrixDisplay, roc_curve, RocCurveDisplay, classification_report\n",
    "from sklearn import metrics\n",
    "from catboost import Pool, CatBoostClassifier\n",
    "import nltk\n",
    "from nltk.corpus import stopwords\n",
    "from paramsearch import paramsearch\n",
    "from itertools import product, chain\n",
    "from nltk.tokenize import word_tokenize\n",
    "from nltk import pos_tag\n",
    "from nltk.corpus import stopwords\n",
    "from nltk.stem import WordNetLemmatizer\n",
    "from sklearn.preprocessing import LabelEncoder\n",
    "from collections import defaultdict\n",
    "from nltk.corpus import wordnet as wn\n",
    "from sklearn.feature_extraction.text import TfidfVectorizer\n",
    "from sklearn import model_selection, naive_bayes, svm"
   ]
  },
  {
   "cell_type": "markdown",
   "id": "tropical-height",
   "metadata": {},
   "source": [
    "### Download NLTK packages"
   ]
  },
  {
   "cell_type": "code",
   "execution_count": 2,
   "id": "three-composition",
   "metadata": {},
   "outputs": [
    {
     "name": "stderr",
     "output_type": "stream",
     "text": [
      "[nltk_data] Downloading package stopwords to\n",
      "[nltk_data]     C:\\Users\\jayan\\AppData\\Roaming\\nltk_data...\n",
      "[nltk_data]   Package stopwords is already up-to-date!\n",
      "[nltk_data] Downloading package punkt to\n",
      "[nltk_data]     C:\\Users\\jayan\\AppData\\Roaming\\nltk_data...\n",
      "[nltk_data]   Package punkt is already up-to-date!\n",
      "[nltk_data] Downloading package wordnet to\n",
      "[nltk_data]     C:\\Users\\jayan\\AppData\\Roaming\\nltk_data...\n",
      "[nltk_data]   Package wordnet is already up-to-date!\n",
      "[nltk_data] Downloading package omw-1.4 to\n",
      "[nltk_data]     C:\\Users\\jayan\\AppData\\Roaming\\nltk_data...\n",
      "[nltk_data]   Package omw-1.4 is already up-to-date!\n",
      "[nltk_data] Downloading package averaged_perceptron_tagger to\n",
      "[nltk_data]     C:\\Users\\jayan\\AppData\\Roaming\\nltk_data...\n",
      "[nltk_data]   Package averaged_perceptron_tagger is already up-to-\n",
      "[nltk_data]       date!\n"
     ]
    },
    {
     "data": {
      "text/plain": [
       "True"
      ]
     },
     "execution_count": 2,
     "metadata": {},
     "output_type": "execute_result"
    }
   ],
   "source": [
    "nltk.download('stopwords')\n",
    "nltk.download('punkt')\n",
    "nltk.download('wordnet')\n",
    "nltk.download('omw-1.4')\n",
    "nltk.download('averaged_perceptron_tagger')"
   ]
  },
  {
   "cell_type": "markdown",
   "id": "mexican-squad",
   "metadata": {},
   "source": [
    "## Functions for data processing and cross validation"
   ]
  },
  {
   "cell_type": "code",
   "execution_count": 32,
   "id": "threatened-impact",
   "metadata": {},
   "outputs": [],
   "source": [
    "from io import StringIO\n",
    "from html.parser import HTMLParser\n",
    "import unicodedata\n",
    "\n",
    "\n",
    "# Class to parse and remove html in email data\n",
    "class MLStripper(HTMLParser):\n",
    "    def __init__(self):\n",
    "        super().__init__()\n",
    "        self.reset()\n",
    "        self.strict = False\n",
    "        self.convert_charrefs= True\n",
    "        self.text = StringIO()\n",
    "        self.start_tags = list()\n",
    "        self.end_tags = list()\n",
    "        self.attributes = list()\n",
    "        \n",
    "    def handle_data(self, d):\n",
    "        self.text.write(d)\n",
    "        \n",
    "    def get_data(self):\n",
    "        return self.text.getvalue()\n",
    "    \n",
    "    def is_text_html(self):\n",
    "        return True if len(self.start_tags) else False\n",
    "\n",
    "    def handle_starttag(self, tag, attrs):\n",
    "        self.start_tags.append(tag)\n",
    "        self.attributes.append(attrs)\n",
    "        \n",
    "# Remove email address if in text\n",
    "def remove_emails(x):\n",
    "     return re.sub(r'([a-z0-9+._-]+@[a-z0-9+._-]+\\.[a-z0-9+_-]+)', '',x)\n",
    "    \n",
    "def check_for_emails(x):\n",
    "    return 1 if len(re.findall(r'([a-z0-9+._-]+@[a-z0-9+._-]+\\.[a-z0-9+_-]+)', x)) else 0\n",
    "\n",
    "#  remove html tags\n",
    "def strip_tags(html):\n",
    "    s = MLStripper()\n",
    "    s.feed(html)\n",
    "    return unicodedata.normalize(\"NFKD\", s.get_data()).encode('ascii', 'ignore').decode('utf-8', 'ignore').replace('&nbs=p;', '').replace('=2C', ',').replace('=2E', '.').replace('=40', '@').replace('=28', '(').replace('=29', ')').replace('=5F', '_').replace('=2F', '/')\n",
    "\n",
    "def check_for_urls(x):\n",
    "    return 1 if len(re.findall(r'(http|https|ftp|ssh)://([\\w_-]+(?:(?:\\.[\\w_-]+)+))([\\w.,@?^=%&:/~+#-]*[\\w@?^=%&/~+#-])?', x)) else 0\n",
    "\n",
    "def remove_urls(x):\n",
    "    return re.sub(r'(http|https|ftp|ssh)://([\\w_-]+(?:(?:\\.[\\w_-]+)+))([\\w.,@?^=%&:/~+#-]*[\\w@?^=%&/~+#-])?', '' , x)\n",
    "\n",
    "def cont_to_exp(x):\n",
    "    if type(x) is str:\n",
    "        for key in contractions:\n",
    "            value = contractions[key]\n",
    "            x = x.replace(key, value)\n",
    "        return x\n",
    "    else:\n",
    "        return x\n",
    "\n",
    "def remove_special_chars(x):\n",
    "    x = re.sub(r'[^\\w ]+', \" \", x)\n",
    "    x = ' '.join(x.split())\n",
    "    return x\n",
    "\n",
    "def remove_stopwords(x):\n",
    "    return ' '.join([t for t in x.split() if t not in stopwords])\n",
    "\n",
    "# this function does 3-fold crossvalidation with catboostclassifier\n",
    "def crossvaltest(params,train_set,train_label,cat_dims,n_splits=3):\n",
    "    kf = KFold(n_splits=n_splits,shuffle=True)\n",
    "    res = []\n",
    "    text_features = ['Text']\n",
    "    for train_index, test_index in kf.split(train_set):\n",
    "        train = train_set.iloc[train_index,:]\n",
    "        test = train_set.iloc[test_index,:]\n",
    "\n",
    "        labels = train_label.iloc[train_index]\n",
    "        test_labels = train_label.iloc[test_index]\n",
    "        train_pool = Pool(\n",
    "            train,\n",
    "            labels,\n",
    "            text_features=text_features,\n",
    "            feature_names=text_features\n",
    "        )\n",
    "        valid_pool = Pool(\n",
    "            test,\n",
    "            test_labels,\n",
    "            text_features=text_features,\n",
    "            feature_names=text_features\n",
    "        )\n",
    "        clf = CatBoostClassifier(**params)\n",
    "\n",
    "\n",
    "        clf.fit(train_pool, eval_set=valid_pool)\n",
    "\n",
    "        res.append(np.mean(clf.predict(test)==np.ravel(test_labels)))\n",
    "    return np.mean(res)\n",
    "\n",
    "# this function runs grid search on several parameters\n",
    "def catboost_param_tune(params,train_set,train_label,cat_dims=None,n_splits=3):\n",
    "    ps = paramsearch(params)\n",
    "    # search 'border_count', 'l2_leaf_reg' etc. individually\n",
    "    #   but 'iterations','learning_rate' together\n",
    "    for prms in chain(ps.grid_search(['border_count']),\n",
    "                      ps.grid_search(['l2_leaf_reg']),\n",
    "                      ps.grid_search(['iterations','learning_rate']),\n",
    "                      ps.grid_search(['depth'])):\n",
    "        res = crossvaltest(prms,train_set,train_label,cat_dims,n_splits)\n",
    "        # save the crossvalidation result so that future iterations can reuse the best parameters\n",
    "        ps.register_result(res,prms)\n",
    "        print(res,prms,'best:',ps.bestscore(),ps.bestparam())\n",
    "    return ps.bestparam()"
   ]
  },
  {
   "cell_type": "code",
   "execution_count": 4,
   "id": "agricultural-royalty",
   "metadata": {},
   "outputs": [],
   "source": [
    "contractions = { \n",
    "\"ain't\": \"am not\",\n",
    "\"aren't\": \"are not\",\n",
    "\"can't\": \"cannot\",\n",
    "\"can't've\": \"cannot have\",\n",
    "\"'cause\": \"because\",\n",
    "\"could've\": \"could have\",\n",
    "\"couldn't\": \"could not\",\n",
    "\"couldn't've\": \"could not have\",\n",
    "\"didn't\": \"did not\",\n",
    "\"doesn't\": \"does not\",\n",
    "\"don't\": \"do not\",\n",
    "\"hadn't\": \"had not\",\n",
    "\"hadn't've\": \"had not have\",\n",
    "\"hasn't\": \"has not\",\n",
    "\"haven't\": \"have not\",\n",
    "\"he'd\": \"he would\",\n",
    "\"he'd've\": \"he would have\",\n",
    "\"he'll\": \"he will\",\n",
    "\"he'll've\": \"he will have\",\n",
    "\"he's\": \"he is\",\n",
    "\"how'd\": \"how did\",\n",
    "\"how'd'y\": \"how do you\",\n",
    "\"how'll\": \"how will\",\n",
    "\"how's\": \"how does\",\n",
    "\"i'd\": \"i would\",\n",
    "\"i'd've\": \"i would have\",\n",
    "\"i'll\": \"i will\",\n",
    "\"i'll've\": \"i will have\",\n",
    "\"i'm\": \"i am\",\n",
    "\"i've\": \"i have\",\n",
    "\"isn't\": \"is not\",\n",
    "\"it'd\": \"it would\",\n",
    "\"it'd've\": \"it would have\",\n",
    "\"it'll\": \"it will\",\n",
    "\"it'll've\": \"it will have\",\n",
    "\"it's\": \"it is\",\n",
    "\"let's\": \"let us\",\n",
    "\"ma'am\": \"madam\",\n",
    "\"mayn't\": \"may not\",\n",
    "\"might've\": \"might have\",\n",
    "\"mightn't\": \"might not\",\n",
    "\"mightn't've\": \"might not have\",\n",
    "\"must've\": \"must have\",\n",
    "\"mustn't\": \"must not\",\n",
    "\"mustn't've\": \"must not have\",\n",
    "\"needn't\": \"need not\",\n",
    "\"needn't've\": \"need not have\",\n",
    "\"o'clock\": \"of the clock\",\n",
    "\"oughtn't\": \"ought not\",\n",
    "\"oughtn't've\": \"ought not have\",\n",
    "\"shan't\": \"shall not\",\n",
    "\"sha'n't\": \"shall not\",\n",
    "\"shan't've\": \"shall not have\",\n",
    "\"she'd\": \"she would\",\n",
    "\"she'd've\": \"she would have\",\n",
    "\"she'll\": \"she will\",\n",
    "\"she'll've\": \"she will have\",\n",
    "\"she's\": \"she is\",\n",
    "\"should've\": \"should have\",\n",
    "\"shouldn't\": \"should not\",\n",
    "\"shouldn't've\": \"should not have\",\n",
    "\"so've\": \"so have\",\n",
    "\"so's\": \"so is\",\n",
    "\"that'd\": \"that would\",\n",
    "\"that'd've\": \"that would have\",\n",
    "\"that's\": \"that is\",\n",
    "\"there'd\": \"there would\",\n",
    "\"there'd've\": \"there would have\",\n",
    "\"there's\": \"there is\",\n",
    "\"they'd\": \"they would\",\n",
    "\"they'd've\": \"they would have\",\n",
    "\"they'll\": \"they will\",\n",
    "\"they'll've\": \"they will have\",\n",
    "\"they're\": \"they are\",\n",
    "\"they've\": \"they have\",\n",
    "\"to've\": \"to have\",\n",
    "\"wasn't\": \"was not\",\n",
    "\" u \": \" you \",\n",
    "\" ur \": \" your \",\n",
    "\" n \": \" and \",\n",
    "\"won't\": \"would not\",\n",
    "'dis': 'this',\n",
    "'bak': 'back',\n",
    "'brng': 'bring'}"
   ]
  },
  {
   "cell_type": "code",
   "execution_count": 5,
   "id": "distributed-craps",
   "metadata": {},
   "outputs": [],
   "source": [
    "pd.options.mode.chained_assignment = None"
   ]
  },
  {
   "cell_type": "code",
   "execution_count": 6,
   "id": "monetary-encoding",
   "metadata": {},
   "outputs": [],
   "source": [
    "# Load dataset\n",
    "df = pd.read_excel('data/phishing_email_.xlsx')"
   ]
  },
  {
   "cell_type": "markdown",
   "id": "other-internet",
   "metadata": {},
   "source": [
    "### Preliminary data description"
   ]
  },
  {
   "cell_type": "code",
   "execution_count": 7,
   "id": "elder-backup",
   "metadata": {
    "pycharm": {
     "name": "#%%\n"
    }
   },
   "outputs": [
    {
     "name": "stdout",
     "output_type": "stream",
     "text": [
      "<class 'pandas.core.frame.DataFrame'>\n",
      "RangeIndex: 11929 entries, 0 to 11928\n",
      "Data columns (total 2 columns):\n",
      " #   Column  Non-Null Count  Dtype \n",
      "---  ------  --------------  ----- \n",
      " 0   Text    11913 non-null  object\n",
      " 1   Class   11929 non-null  int64 \n",
      "dtypes: int64(1), object(1)\n",
      "memory usage: 186.5+ KB\n"
     ]
    }
   ],
   "source": [
    "df.info()"
   ]
  },
  {
   "cell_type": "code",
   "execution_count": 8,
   "id": "dying-volunteer",
   "metadata": {},
   "outputs": [
    {
     "data": {
      "text/html": [
       "<div>\n",
       "<style scoped>\n",
       "    .dataframe tbody tr th:only-of-type {\n",
       "        vertical-align: middle;\n",
       "    }\n",
       "\n",
       "    .dataframe tbody tr th {\n",
       "        vertical-align: top;\n",
       "    }\n",
       "\n",
       "    .dataframe thead th {\n",
       "        text-align: right;\n",
       "    }\n",
       "</style>\n",
       "<table border=\"1\" class=\"dataframe\">\n",
       "  <thead>\n",
       "    <tr style=\"text-align: right;\">\n",
       "      <th></th>\n",
       "      <th>Class</th>\n",
       "    </tr>\n",
       "  </thead>\n",
       "  <tbody>\n",
       "    <tr>\n",
       "      <th>count</th>\n",
       "      <td>11929.000000</td>\n",
       "    </tr>\n",
       "    <tr>\n",
       "      <th>mean</th>\n",
       "      <td>0.434823</td>\n",
       "    </tr>\n",
       "    <tr>\n",
       "      <th>std</th>\n",
       "      <td>0.495754</td>\n",
       "    </tr>\n",
       "    <tr>\n",
       "      <th>min</th>\n",
       "      <td>0.000000</td>\n",
       "    </tr>\n",
       "    <tr>\n",
       "      <th>25%</th>\n",
       "      <td>0.000000</td>\n",
       "    </tr>\n",
       "    <tr>\n",
       "      <th>50%</th>\n",
       "      <td>0.000000</td>\n",
       "    </tr>\n",
       "    <tr>\n",
       "      <th>75%</th>\n",
       "      <td>1.000000</td>\n",
       "    </tr>\n",
       "    <tr>\n",
       "      <th>max</th>\n",
       "      <td>1.000000</td>\n",
       "    </tr>\n",
       "  </tbody>\n",
       "</table>\n",
       "</div>"
      ],
      "text/plain": [
       "              Class\n",
       "count  11929.000000\n",
       "mean       0.434823\n",
       "std        0.495754\n",
       "min        0.000000\n",
       "25%        0.000000\n",
       "50%        0.000000\n",
       "75%        1.000000\n",
       "max        1.000000"
      ]
     },
     "execution_count": 8,
     "metadata": {},
     "output_type": "execute_result"
    }
   ],
   "source": [
    "df.describe()"
   ]
  },
  {
   "cell_type": "code",
   "execution_count": 9,
   "id": "numerous-calculation",
   "metadata": {},
   "outputs": [
    {
     "data": {
      "text/plain": [
       "0    0.565177\n",
       "1    0.434823\n",
       "Name: Class, dtype: float64"
      ]
     },
     "execution_count": 9,
     "metadata": {},
     "output_type": "execute_result"
    }
   ],
   "source": [
    "df.Class.value_counts(normalize=True)"
   ]
  },
  {
   "cell_type": "code",
   "execution_count": 10,
   "id": "functioning-individual",
   "metadata": {
    "scrolled": true
   },
   "outputs": [
    {
     "data": {
      "text/plain": [
       "Text(0, 0.5, 'classes')"
      ]
     },
     "execution_count": 10,
     "metadata": {},
     "output_type": "execute_result"
    },
    {
     "data": {
      "image/png": "[encoded data removed]",
      "text/plain": [
       "<Figure size 432x288 with 1 Axes>"
      ]
     },
     "metadata": {
      "needs_background": "light"
     },
     "output_type": "display_data"
    }
   ],
   "source": [
    "data=df.Class.value_counts()\n",
    "sns.barplot(x=data.index,y=data)\n",
    "plt.gca().set_ylabel('classes')"
   ]
  },
  {
   "cell_type": "markdown",
   "id": "sharp-instruction",
   "metadata": {},
   "source": [
    "## Data Cleaning and Processing"
   ]
  },
  {
   "cell_type": "code",
   "execution_count": 11,
   "id": "known-jackson",
   "metadata": {},
   "outputs": [],
   "source": [
    "df['Text']=df['Text'].astype(str)"
   ]
  },
  {
   "cell_type": "code",
   "execution_count": 12,
   "id": "increasing-closing",
   "metadata": {
    "pycharm": {
     "name": "#%%\n"
    }
   },
   "outputs": [
    {
     "data": {
      "text/plain": [
       "0"
      ]
     },
     "execution_count": 12,
     "metadata": {},
     "output_type": "execute_result"
    }
   ],
   "source": [
    "df['Text'].isnull().sum()"
   ]
  },
  {
   "cell_type": "code",
   "execution_count": 13,
   "id": "smooth-simon",
   "metadata": {
    "scrolled": false
   },
   "outputs": [],
   "source": [
    "df.dropna(inplace=True)"
   ]
  },
  {
   "cell_type": "code",
   "execution_count": 14,
   "id": "opposed-career",
   "metadata": {},
   "outputs": [],
   "source": [
    "df.drop_duplicates(inplace=True)"
   ]
  },
  {
   "cell_type": "code",
   "execution_count": 15,
   "id": "mechanical-mattress",
   "metadata": {},
   "outputs": [],
   "source": [
    "df = df[df.Text.str.len() > 30]"
   ]
  },
  {
   "cell_type": "code",
   "execution_count": 16,
   "id": "proper-organic",
   "metadata": {},
   "outputs": [],
   "source": [
    "df['Has_Email'] = df['Text'].apply(lambda x: check_for_emails(x))\n",
    "df['Has_URL'] = df['Text'].apply(lambda x: check_for_urls(x))"
   ]
  },
  {
   "cell_type": "code",
   "execution_count": 17,
   "id": "cubic-convert",
   "metadata": {},
   "outputs": [],
   "source": [
    "df['Text'] = df['Text'].apply(lambda x: strip_tags(x))"
   ]
  },
  {
   "cell_type": "code",
   "execution_count": 18,
   "id": "serious-defensive",
   "metadata": {
    "pycharm": {
     "name": "#%%\n"
    }
   },
   "outputs": [],
   "source": [
    "df['Text'] = df['Text'].apply(lambda x: cont_to_exp(x))"
   ]
  },
  {
   "cell_type": "code",
   "execution_count": 19,
   "id": "static-mounting",
   "metadata": {
    "pycharm": {
     "name": "#%%\n"
    }
   },
   "outputs": [],
   "source": [
    "df['Text'] = df['Text'].apply(lambda x: remove_special_chars(x))\n",
    "df['Text'] = df['Text'].apply(lambda x: x.lower())"
   ]
  },
  {
   "cell_type": "code",
   "execution_count": 20,
   "id": "helpful-ideal",
   "metadata": {},
   "outputs": [],
   "source": [
    "df['Text_Length'] = df['Text'].apply(lambda x: len(x))"
   ]
  },
  {
   "cell_type": "markdown",
   "id": "mysterious-davis",
   "metadata": {},
   "source": [
    "## Exploratory Data Analysis"
   ]
  },
  {
   "cell_type": "code",
   "execution_count": 21,
   "id": "material-nevada",
   "metadata": {},
   "outputs": [
    {
     "name": "stdout",
     "output_type": "stream",
     "text": [
      "<class 'pandas.core.frame.DataFrame'>\n",
      "Int64Index: 9116 entries, 0 to 11928\n",
      "Data columns (total 5 columns):\n",
      " #   Column       Non-Null Count  Dtype \n",
      "---  ------       --------------  ----- \n",
      " 0   Text         9116 non-null   object\n",
      " 1   Class        9116 non-null   int64 \n",
      " 2   Has_Email    9116 non-null   int64 \n",
      " 3   Has_URL      9116 non-null   int64 \n",
      " 4   Text_Length  9116 non-null   int64 \n",
      "dtypes: int64(4), object(1)\n",
      "memory usage: 427.3+ KB\n"
     ]
    }
   ],
   "source": [
    "df.info()"
   ]
  },
  {
   "cell_type": "code",
   "execution_count": 22,
   "id": "suited-account",
   "metadata": {},
   "outputs": [
    {
     "data": {
      "text/html": [
       "<div>\n",
       "<style scoped>\n",
       "    .dataframe tbody tr th:only-of-type {\n",
       "        vertical-align: middle;\n",
       "    }\n",
       "\n",
       "    .dataframe tbody tr th {\n",
       "        vertical-align: top;\n",
       "    }\n",
       "\n",
       "    .dataframe thead th {\n",
       "        text-align: right;\n",
       "    }\n",
       "</style>\n",
       "<table border=\"1\" class=\"dataframe\">\n",
       "  <thead>\n",
       "    <tr style=\"text-align: right;\">\n",
       "      <th></th>\n",
       "      <th>Class</th>\n",
       "      <th>Has_Email</th>\n",
       "      <th>Has_URL</th>\n",
       "      <th>Text_Length</th>\n",
       "    </tr>\n",
       "  </thead>\n",
       "  <tbody>\n",
       "    <tr>\n",
       "      <th>count</th>\n",
       "      <td>9116.000000</td>\n",
       "      <td>9116.000000</td>\n",
       "      <td>9116.000000</td>\n",
       "      <td>9116.000000</td>\n",
       "    </tr>\n",
       "    <tr>\n",
       "      <th>mean</th>\n",
       "      <td>0.468078</td>\n",
       "      <td>0.159609</td>\n",
       "      <td>0.129882</td>\n",
       "      <td>1359.686485</td>\n",
       "    </tr>\n",
       "    <tr>\n",
       "      <th>std</th>\n",
       "      <td>0.499007</td>\n",
       "      <td>0.366264</td>\n",
       "      <td>0.336191</td>\n",
       "      <td>2468.580160</td>\n",
       "    </tr>\n",
       "    <tr>\n",
       "      <th>min</th>\n",
       "      <td>0.000000</td>\n",
       "      <td>0.000000</td>\n",
       "      <td>0.000000</td>\n",
       "      <td>0.000000</td>\n",
       "    </tr>\n",
       "    <tr>\n",
       "      <th>25%</th>\n",
       "      <td>0.000000</td>\n",
       "      <td>0.000000</td>\n",
       "      <td>0.000000</td>\n",
       "      <td>103.000000</td>\n",
       "    </tr>\n",
       "    <tr>\n",
       "      <th>50%</th>\n",
       "      <td>0.000000</td>\n",
       "      <td>0.000000</td>\n",
       "      <td>0.000000</td>\n",
       "      <td>473.000000</td>\n",
       "    </tr>\n",
       "    <tr>\n",
       "      <th>75%</th>\n",
       "      <td>1.000000</td>\n",
       "      <td>0.000000</td>\n",
       "      <td>0.000000</td>\n",
       "      <td>2196.250000</td>\n",
       "    </tr>\n",
       "    <tr>\n",
       "      <th>max</th>\n",
       "      <td>1.000000</td>\n",
       "      <td>1.000000</td>\n",
       "      <td>1.000000</td>\n",
       "      <td>49896.000000</td>\n",
       "    </tr>\n",
       "  </tbody>\n",
       "</table>\n",
       "</div>"
      ],
      "text/plain": [
       "             Class    Has_Email      Has_URL   Text_Length\n",
       "count  9116.000000  9116.000000  9116.000000   9116.000000\n",
       "mean      0.468078     0.159609     0.129882   1359.686485\n",
       "std       0.499007     0.366264     0.336191   2468.580160\n",
       "min       0.000000     0.000000     0.000000      0.000000\n",
       "25%       0.000000     0.000000     0.000000    103.000000\n",
       "50%       0.000000     0.000000     0.000000    473.000000\n",
       "75%       1.000000     0.000000     0.000000   2196.250000\n",
       "max       1.000000     1.000000     1.000000  49896.000000"
      ]
     },
     "execution_count": 22,
     "metadata": {},
     "output_type": "execute_result"
    }
   ],
   "source": [
    "df.describe()"
   ]
  },
  {
   "cell_type": "code",
   "execution_count": 23,
   "id": "artistic-hygiene",
   "metadata": {},
   "outputs": [
    {
     "data": {
      "text/plain": [
       "0    0.531922\n",
       "1    0.468078\n",
       "Name: Class, dtype: float64"
      ]
     },
     "execution_count": 23,
     "metadata": {},
     "output_type": "execute_result"
    }
   ],
   "source": [
    "df.Class.value_counts(normalize=True)"
   ]
  },
  {
   "cell_type": "markdown",
   "id": "hazardous-company",
   "metadata": {},
   "source": [
    "#### display how the data is shared between the classes"
   ]
  },
  {
   "cell_type": "code",
   "execution_count": 24,
   "id": "objective-lewis",
   "metadata": {},
   "outputs": [
    {
     "data": {
      "text/plain": [
       "Text(0, 0.5, 'classes')"
      ]
     },
     "execution_count": 24,
     "metadata": {},
     "output_type": "execute_result"
    },
    {
     "data": {
      "image/png": "[encoded data removed]",
      "text/plain": [
       "<Figure size 432x288 with 1 Axes>"
      ]
     },
     "metadata": {
      "needs_background": "light"
     },
     "output_type": "display_data"
    }
   ],
   "source": [
    "data=df.Class.value_counts()\n",
    "sns.barplot(x=data.index,y=data)\n",
    "plt.gca().set_ylabel('classes')"
   ]
  },
  {
   "cell_type": "code",
   "execution_count": 25,
   "id": "addressed-reynolds",
   "metadata": {
    "pycharm": {
     "name": "#%%\n"
    },
    "scrolled": false
   },
   "outputs": [
    {
     "data": {
      "image/png": "[encoded data removed]",
      "text/plain": [
       "<Figure size 1440x1080 with 16 Axes>"
      ]
     },
     "metadata": {
      "needs_background": "light"
     },
     "output_type": "display_data"
    }
   ],
   "source": [
    "pd.plotting.scatter_matrix(df.loc[:,'Class':'Text_Length'], diagonal='kde', figsize=(20,15))\n",
    "plt.tight_layout()\n",
    "plt.title('Scatter matrix of dataset')\n",
    "plt.show()"
   ]
  },
  {
   "cell_type": "code",
   "execution_count": 26,
   "id": "reverse-trial",
   "metadata": {
    "pycharm": {
     "name": "#%%\n"
    }
   },
   "outputs": [
    {
     "data": {
      "text/html": [
       "<div>\n",
       "<style scoped>\n",
       "    .dataframe tbody tr th:only-of-type {\n",
       "        vertical-align: middle;\n",
       "    }\n",
       "\n",
       "    .dataframe tbody tr th {\n",
       "        vertical-align: top;\n",
       "    }\n",
       "\n",
       "    .dataframe thead th {\n",
       "        text-align: right;\n",
       "    }\n",
       "</style>\n",
       "<table border=\"1\" class=\"dataframe\">\n",
       "  <thead>\n",
       "    <tr style=\"text-align: right;\">\n",
       "      <th></th>\n",
       "      <th>Class</th>\n",
       "      <th>Has_Email</th>\n",
       "      <th>Has_URL</th>\n",
       "      <th>Text_Length</th>\n",
       "    </tr>\n",
       "  </thead>\n",
       "  <tbody>\n",
       "    <tr>\n",
       "      <th>Class</th>\n",
       "      <td>1.000000</td>\n",
       "      <td>0.254480</td>\n",
       "      <td>0.347772</td>\n",
       "      <td>0.303650</td>\n",
       "    </tr>\n",
       "    <tr>\n",
       "      <th>Has_Email</th>\n",
       "      <td>0.254480</td>\n",
       "      <td>1.000000</td>\n",
       "      <td>0.155049</td>\n",
       "      <td>0.069567</td>\n",
       "    </tr>\n",
       "    <tr>\n",
       "      <th>Has_URL</th>\n",
       "      <td>0.347772</td>\n",
       "      <td>0.155049</td>\n",
       "      <td>1.000000</td>\n",
       "      <td>0.197731</td>\n",
       "    </tr>\n",
       "    <tr>\n",
       "      <th>Text_Length</th>\n",
       "      <td>0.303650</td>\n",
       "      <td>0.069567</td>\n",
       "      <td>0.197731</td>\n",
       "      <td>1.000000</td>\n",
       "    </tr>\n",
       "  </tbody>\n",
       "</table>\n",
       "</div>"
      ],
      "text/plain": [
       "                Class  Has_Email   Has_URL  Text_Length\n",
       "Class        1.000000   0.254480  0.347772     0.303650\n",
       "Has_Email    0.254480   1.000000  0.155049     0.069567\n",
       "Has_URL      0.347772   0.155049  1.000000     0.197731\n",
       "Text_Length  0.303650   0.069567  0.197731     1.000000"
      ]
     },
     "execution_count": 26,
     "metadata": {},
     "output_type": "execute_result"
    }
   ],
   "source": [
    "correlation_table = df.corr()\n",
    "correlation_table"
   ]
  },
  {
   "cell_type": "code",
   "execution_count": 27,
   "id": "adverse-laugh",
   "metadata": {
    "pycharm": {
     "name": "#%%\n"
    }
   },
   "outputs": [
    {
     "data": {
      "text/plain": [
       "Text(0.5, 1.0, 'Heatmap of the dataset correlation')"
      ]
     },
     "execution_count": 27,
     "metadata": {},
     "output_type": "execute_result"
    },
    {
     "data": {
      "image/png": "[encoded data removed]",
      "text/plain": [
       "<Figure size 864x576 with 2 Axes>"
      ]
     },
     "metadata": {
      "needs_background": "light"
     },
     "output_type": "display_data"
    }
   ],
   "source": [
    "figsize = plt.figure(figsize=(12,8))\n",
    "sns.heatmap(correlation_table, cmap='Spectral')\n",
    "plt.title('Heatmap of the dataset correlation')"
   ]
  },
  {
   "cell_type": "markdown",
   "id": "royal-crowd",
   "metadata": {},
   "source": [
    "### Split data into train and testing"
   ]
  },
  {
   "cell_type": "code",
   "execution_count": 28,
   "id": "circular-lotus",
   "metadata": {
    "pycharm": {
     "name": "#%%\n"
    }
   },
   "outputs": [],
   "source": [
    "X = df.drop(['Class', 'Has_Email','Has_URL', 'Text_Length'], 1)\n",
    "y = df['Class']\n",
    "X_train, X_test, y_train, y_test = train_test_split(X, y, test_size=0.3, random_state=1)"
   ]
  },
  {
   "cell_type": "markdown",
   "id": "monthly-reserve",
   "metadata": {},
   "source": [
    "### Specifiying the parameters for hyperparameter tuning"
   ]
  },
  {
   "cell_type": "code",
   "execution_count": 29,
   "id": "public-sigma",
   "metadata": {
    "pycharm": {
     "name": "#%%\n"
    }
   },
   "outputs": [],
   "source": [
    "cb_params = {'depth':[3,1,2,6,4,5,7,8,9,10],\n",
    "                'iterations':[250,100,500,1000,1500,2000,2500,3000],\n",
    "                'learning_rate':[0.03,0.001,0.01,0.1,0.2,0.3],\n",
    "                'l2_leaf_reg':[3,1,5,10,100],\n",
    "                'border_count':[32,5,10,20,50,100,200],\n",
    "                'thread_count':4,\n",
    "                'eval_metric': 'Accuracy',\n",
    "                'task_type': 'GPU',\n",
    "                'early_stopping_rounds': 2000,\n",
    "                'use_best_model': True,\n",
    "                'verbose': 500\n",
    "             }"
   ]
  },
  {
   "cell_type": "markdown",
   "id": "champion-yield",
   "metadata": {},
   "source": [
    "##### Tune the model using nested cross validation to determing the best hyperparameters"
   ]
  },
  {
   "cell_type": "code",
   "execution_count": 33,
   "id": "mechanical-refund",
   "metadata": {
    "pycharm": {
     "name": "#%%\n"
    }
   },
   "outputs": [
    {
     "name": "stdout",
     "output_type": "stream",
     "text": [
      "0:\tlearn: 0.9677950\ttest: 0.9689704\tbest: 0.9689704 (0)\ttotal: 13.3ms\tremaining: 3.31s\n",
      "249:\tlearn: 0.9750823\ttest: 0.9741420\tbest: 0.9741420 (138)\ttotal: 2.43s\tremaining: 0us\n",
      "bestTest = 0.974141984\n",
      "bestIteration = 138\n",
      "Shrink model to first 139 iterations.\n",
      "0:\tlearn: 0.9722614\ttest: 0.9844852\tbest: 0.9844852 (0)\ttotal: 10.1ms\tremaining: 2.52s\n",
      "249:\tlearn: 0.9771979\ttest: 0.9802539\tbest: 0.9844852 (0)\ttotal: 2.39s\tremaining: 0us\n",
      "bestTest = 0.9844851904\n",
      "bestIteration = 0\n",
      "Shrink model to first 1 iterations.\n",
      "0:\tlearn: 0.9732017\ttest: 0.9760226\tbest: 0.9760226 (0)\ttotal: 11.9ms\tremaining: 2.96s\n",
      "249:\tlearn: 0.9844852\ttest: 0.9863658\tbest: 0.9877762 (182)\ttotal: 2.44s\tremaining: 0us\n",
      "bestTest = 0.9877762106\n",
      "bestIteration = 182\n",
      "Shrink model to first 183 iterations.\n",
      "0.9821344616831218 {'depth': 3, 'iterations': 250, 'learning_rate': 0.03, 'l2_leaf_reg': 3, 'border_count': 5, 'thread_count': 4, 'eval_metric': 'Accuracy', 'task_type': 'GPU', 'early_stopping_rounds': 2000, 'use_best_model': True, 'verbose': 500} best: 0.9821344617460538 {'depth': 3, 'iterations': 250, 'learning_rate': 0.03, 'l2_leaf_reg': 3, 'border_count': 5, 'thread_count': 4, 'eval_metric': 'Accuracy', 'task_type': 'GPU', 'early_stopping_rounds': 2000, 'use_best_model': True, 'verbose': 500}\n",
      "0:\tlearn: 0.9633286\ttest: 0.9840150\tbest: 0.9840150 (0)\ttotal: 10.9ms\tremaining: 2.71s\n",
      "249:\tlearn: 0.9811942\ttest: 0.9863658\tbest: 0.9863658 (10)\ttotal: 2.39s\tremaining: 0us\n",
      "bestTest = 0.9863657734\n",
      "bestIteration = 10\n",
      "Shrink model to first 11 iterations.\n",
      "0:\tlearn: 0.9696756\ttest: 0.9741420\tbest: 0.9741420 (0)\ttotal: 10.9ms\tremaining: 2.72s\n",
      "249:\tlearn: 0.9809591\ttest: 0.9797837\tbest: 0.9802539 (208)\ttotal: 2.45s\tremaining: 0us\n",
      "bestTest = 0.9802538787\n",
      "bestIteration = 208\n",
      "Shrink model to first 209 iterations.\n",
      "0:\tlearn: 0.9696756\ttest: 0.9760226\tbest: 0.9760226 (0)\ttotal: 10.5ms\tremaining: 2.62s\n",
      "249:\tlearn: 0.9816643\ttest: 0.9854255\tbest: 0.9858956 (164)\ttotal: 2.42s\tremaining: 0us\n",
      "bestTest = 0.9858956276\n",
      "bestIteration = 164\n",
      "Shrink model to first 165 iterations.\n",
      "0.9841717599122394 {'depth': 3, 'iterations': 250, 'learning_rate': 0.03, 'l2_leaf_reg': 3, 'border_count': 10, 'thread_count': 4, 'eval_metric': 'Accuracy', 'task_type': 'GPU', 'early_stopping_rounds': 2000, 'use_best_model': True, 'verbose': 500} best: 0.9841717599714361 {'depth': 3, 'iterations': 250, 'learning_rate': 0.03, 'l2_leaf_reg': 3, 'border_count': 10, 'thread_count': 4, 'eval_metric': 'Accuracy', 'task_type': 'GPU', 'early_stopping_rounds': 2000, 'use_best_model': True, 'verbose': 500}\n",
      "0:\tlearn: 0.9736718\ttest: 0.9793136\tbest: 0.9793136 (0)\ttotal: 10.7ms\tremaining: 2.67s\n",
      "249:\tlearn: 0.9873061\ttest: 0.9877762\tbest: 0.9882464 (36)\ttotal: 2.39s\tremaining: 0us\n",
      "bestTest = 0.9882463564\n",
      "bestIteration = 36\n",
      "Shrink model to first 37 iterations.\n",
      "0:\tlearn: 0.9710860\ttest: 0.9755524\tbest: 0.9755524 (0)\ttotal: 11.8ms\tremaining: 2.94s\n",
      "249:\tlearn: 0.9863658\ttest: 0.9901269\tbest: 0.9915374 (164)\ttotal: 2.41s\tremaining: 0us\n",
      "bestTest = 0.9915373766\n",
      "bestIteration = 164\n",
      "Shrink model to first 165 iterations.\n",
      "0:\tlearn: 0.9717913\ttest: 0.9764927\tbest: 0.9764927 (0)\ttotal: 11.3ms\tremaining: 2.82s\n",
      "249:\tlearn: 0.9830748\ttest: 0.9882464\tbest: 0.9891866 (165)\ttotal: 2.5s\tremaining: 0us\n",
      "bestTest = 0.9891866479\n",
      "bestIteration = 165\n",
      "Shrink model to first 166 iterations.\n",
      "0.9896567936060179 {'depth': 3, 'iterations': 250, 'learning_rate': 0.03, 'l2_leaf_reg': 3, 'border_count': 20, 'thread_count': 4, 'eval_metric': 'Accuracy', 'task_type': 'GPU', 'early_stopping_rounds': 2000, 'use_best_model': True, 'verbose': 500} best: 0.9896567935097246 {'depth': 3, 'iterations': 250, 'learning_rate': 0.03, 'l2_leaf_reg': 3, 'border_count': 20, 'thread_count': 4, 'eval_metric': 'Accuracy', 'task_type': 'GPU', 'early_stopping_rounds': 2000, 'use_best_model': True, 'verbose': 500}\n",
      "0:\tlearn: 0.9769629\ttest: 0.9821345\tbest: 0.9821345 (0)\ttotal: 10.6ms\tremaining: 2.65s\n",
      "249:\tlearn: 0.9849553\ttest: 0.9910672\tbest: 0.9910672 (96)\ttotal: 2.38s\tremaining: 0us\n",
      "bestTest = 0.9910672308\n",
      "bestIteration = 96\n",
      "Shrink model to first 97 iterations.\n",
      "0:\tlearn: 0.9757875\ttest: 0.9732017\tbest: 0.9732017 (0)\ttotal: 11.7ms\tremaining: 2.91s\n",
      "249:\tlearn: 0.9816643\ttest: 0.9840150\tbest: 0.9840150 (9)\ttotal: 2.5s\tremaining: 0us\n",
      "bestTest = 0.9840150447\n",
      "bestIteration = 9\n",
      "Shrink model to first 10 iterations.\n",
      "0:\tlearn: 0.9706159\ttest: 0.9741420\tbest: 0.9741420 (0)\ttotal: 11.4ms\tremaining: 2.84s\n",
      "249:\tlearn: 0.9856606\ttest: 0.9887165\tbest: 0.9901269 (84)\ttotal: 2.39s\tremaining: 0us\n",
      "bestTest = 0.9901269394\n",
      "bestIteration = 84\n",
      "Shrink model to first 85 iterations.\n",
      "0.9884030716188685 {'depth': 3, 'iterations': 250, 'learning_rate': 0.03, 'l2_leaf_reg': 3, 'border_count': 50, 'thread_count': 4, 'eval_metric': 'Accuracy', 'task_type': 'GPU', 'early_stopping_rounds': 2000, 'use_best_model': True, 'verbose': 500} best: 0.9896567935097246 {'depth': 3, 'iterations': 250, 'learning_rate': 0.03, 'l2_leaf_reg': 3, 'border_count': 20, 'thread_count': 4, 'eval_metric': 'Accuracy', 'task_type': 'GPU', 'early_stopping_rounds': 2000, 'use_best_model': True, 'verbose': 500}\n",
      "0:\tlearn: 0.9741420\ttest: 0.9779031\tbest: 0.9779031 (0)\ttotal: 11.5ms\tremaining: 2.87s\n",
      "249:\tlearn: 0.9866008\ttest: 0.9934180\tbest: 0.9938881 (32)\ttotal: 2.39s\tremaining: 0us\n",
      "bestTest = 0.9938881053\n",
      "bestIteration = 32\n",
      "Shrink model to first 33 iterations.\n",
      "0:\tlearn: 0.9739069\ttest: 0.9797837\tbest: 0.9797837 (0)\ttotal: 11.2ms\tremaining: 2.78s\n",
      "249:\tlearn: 0.9861307\ttest: 0.9901269\tbest: 0.9915374 (111)\ttotal: 2.38s\tremaining: 0us\n",
      "bestTest = 0.9915373766\n",
      "bestIteration = 111\n",
      "Shrink model to first 112 iterations.\n",
      "0:\tlearn: 0.9760226\ttest: 0.9755524\tbest: 0.9755524 (0)\ttotal: 11.1ms\tremaining: 2.76s\n",
      "249:\tlearn: 0.9896568\ttest: 0.9896568\tbest: 0.9915374 (144)\ttotal: 2.4s\tremaining: 0us\n",
      "bestTest = 0.9915373766\n",
      "bestIteration = 144\n",
      "Shrink model to first 145 iterations.\n",
      "0.9923209528287101 {'depth': 3, 'iterations': 250, 'learning_rate': 0.03, 'l2_leaf_reg': 3, 'border_count': 100, 'thread_count': 4, 'eval_metric': 'Accuracy', 'task_type': 'GPU', 'early_stopping_rounds': 2000, 'use_best_model': True, 'verbose': 500} best: 0.9923209529161955 {'depth': 3, 'iterations': 250, 'learning_rate': 0.03, 'l2_leaf_reg': 3, 'border_count': 100, 'thread_count': 4, 'eval_metric': 'Accuracy', 'task_type': 'GPU', 'early_stopping_rounds': 2000, 'use_best_model': True, 'verbose': 500}\n",
      "0:\tlearn: 0.9739069\ttest: 0.9769629\tbest: 0.9769629 (0)\ttotal: 10.9ms\tremaining: 2.71s\n",
      "249:\tlearn: 0.9858956\ttest: 0.9924777\tbest: 0.9929478 (126)\ttotal: 2.4s\tremaining: 0us\n",
      "bestTest = 0.9929478138\n",
      "bestIteration = 126\n",
      "Shrink model to first 127 iterations.\n",
      "0:\tlearn: 0.9826046\ttest: 0.9863658\tbest: 0.9863658 (0)\ttotal: 10.4ms\tremaining: 2.59s\n",
      "249:\tlearn: 0.9863658\ttest: 0.9905971\tbest: 0.9910672 (161)\ttotal: 2.37s\tremaining: 0us\n",
      "bestTest = 0.9910672308\n",
      "bestIteration = 161\n",
      "Shrink model to first 162 iterations.\n",
      "0:\tlearn: 0.9722614\ttest: 0.9802539\tbest: 0.9802539 (0)\ttotal: 11.4ms\tremaining: 2.85s\n",
      "249:\tlearn: 0.9868359\ttest: 0.9896568\tbest: 0.9920075 (153)\ttotal: 2.43s\tremaining: 0us\n",
      "bestTest = 0.9920075223\n",
      "bestIteration = 153\n",
      "Shrink model to first 154 iterations.\n",
      "0.992007522331923 {'depth': 3, 'iterations': 250, 'learning_rate': 0.03, 'l2_leaf_reg': 3, 'border_count': 200, 'thread_count': 4, 'eval_metric': 'Accuracy', 'task_type': 'GPU', 'early_stopping_rounds': 2000, 'use_best_model': True, 'verbose': 500} best: 0.9923209529161955 {'depth': 3, 'iterations': 250, 'learning_rate': 0.03, 'l2_leaf_reg': 3, 'border_count': 100, 'thread_count': 4, 'eval_metric': 'Accuracy', 'task_type': 'GPU', 'early_stopping_rounds': 2000, 'use_best_model': True, 'verbose': 500}\n",
      "0:\tlearn: 0.9793136\ttest: 0.9854255\tbest: 0.9854255 (0)\ttotal: 10.6ms\tremaining: 2.63s\n",
      "249:\tlearn: 0.9868359\ttest: 0.9905971\tbest: 0.9934180 (71)\ttotal: 2.4s\tremaining: 0us\n",
      "bestTest = 0.9934179596\n",
      "bestIteration = 71\n",
      "Shrink model to first 72 iterations.\n",
      "0:\tlearn: 0.9727315\ttest: 0.9727315\tbest: 0.9727315 (0)\ttotal: 10.7ms\tremaining: 2.66s\n",
      "249:\tlearn: 0.9835449\ttest: 0.9901269\tbest: 0.9905971 (155)\ttotal: 2.42s\tremaining: 0us\n",
      "bestTest = 0.9905970851\n",
      "bestIteration = 155\n",
      "Shrink model to first 156 iterations.\n",
      "0:\tlearn: 0.9713211\ttest: 0.9807240\tbest: 0.9807240 (0)\ttotal: 11.6ms\tremaining: 2.88s\n"
     ]
    },
    {
     "name": "stdout",
     "output_type": "stream",
     "text": [
      "249:\tlearn: 0.9868359\ttest: 0.9901269\tbest: 0.9915374 (137)\ttotal: 2.55s\tremaining: 0us\n",
      "bestTest = 0.9915373766\n",
      "bestIteration = 137\n",
      "Shrink model to first 138 iterations.\n",
      "0.9918508070835292 {'depth': 3, 'iterations': 250, 'learning_rate': 0.03, 'l2_leaf_reg': 1, 'border_count': 100, 'thread_count': 4, 'eval_metric': 'Accuracy', 'task_type': 'GPU', 'early_stopping_rounds': 2000, 'use_best_model': True, 'verbose': 500} best: 0.9923209529161955 {'depth': 3, 'iterations': 250, 'learning_rate': 0.03, 'l2_leaf_reg': 3, 'border_count': 100, 'thread_count': 4, 'eval_metric': 'Accuracy', 'task_type': 'GPU', 'early_stopping_rounds': 2000, 'use_best_model': True, 'verbose': 500}\n",
      "0:\tlearn: 0.9720263\ttest: 0.9830748\tbest: 0.9830748 (0)\ttotal: 10.7ms\tremaining: 2.66s\n",
      "249:\tlearn: 0.9863658\ttest: 0.9934180\tbest: 0.9948284 (94)\ttotal: 2.36s\tremaining: 0us\n",
      "bestTest = 0.9948283968\n",
      "bestIteration = 94\n",
      "Shrink model to first 95 iterations.\n",
      "0:\tlearn: 0.9734368\ttest: 0.9764927\tbest: 0.9764927 (0)\ttotal: 11.9ms\tremaining: 2.97s\n",
      "249:\tlearn: 0.9877762\ttest: 0.9905971\tbest: 0.9910672 (224)\ttotal: 2.42s\tremaining: 0us\n",
      "bestTest = 0.9910672308\n",
      "bestIteration = 224\n",
      "Shrink model to first 225 iterations.\n",
      "0:\tlearn: 0.9708510\ttest: 0.9821345\tbest: 0.9821345 (0)\ttotal: 10.7ms\tremaining: 2.65s\n",
      "249:\tlearn: 0.9837800\ttest: 0.9910672\tbest: 0.9910672 (72)\ttotal: 2.39s\tremaining: 0us\n",
      "bestTest = 0.9910672308\n",
      "bestIteration = 72\n",
      "Shrink model to first 73 iterations.\n",
      "0.9923209528287101 {'depth': 3, 'iterations': 250, 'learning_rate': 0.03, 'l2_leaf_reg': 5, 'border_count': 100, 'thread_count': 4, 'eval_metric': 'Accuracy', 'task_type': 'GPU', 'early_stopping_rounds': 2000, 'use_best_model': True, 'verbose': 500} best: 0.9923209529161955 {'depth': 3, 'iterations': 250, 'learning_rate': 0.03, 'l2_leaf_reg': 3, 'border_count': 100, 'thread_count': 4, 'eval_metric': 'Accuracy', 'task_type': 'GPU', 'early_stopping_rounds': 2000, 'use_best_model': True, 'verbose': 500}\n",
      "0:\tlearn: 0.9743771\ttest: 0.9821345\tbest: 0.9821345 (0)\ttotal: 10.5ms\tremaining: 2.62s\n",
      "249:\tlearn: 0.9858956\ttest: 0.9920075\tbest: 0.9929478 (232)\ttotal: 2.41s\tremaining: 0us\n",
      "bestTest = 0.9929478138\n",
      "bestIteration = 232\n",
      "Shrink model to first 233 iterations.\n",
      "0:\tlearn: 0.9743771\ttest: 0.9769629\tbest: 0.9769629 (0)\ttotal: 10.2ms\tremaining: 2.53s\n",
      "249:\tlearn: 0.9863658\ttest: 0.9882464\tbest: 0.9882464 (57)\ttotal: 2.41s\tremaining: 0us\n",
      "bestTest = 0.9882463564\n",
      "bestIteration = 57\n",
      "Shrink model to first 58 iterations.\n",
      "0:\tlearn: 0.9727315\ttest: 0.9769629\tbest: 0.9769629 (0)\ttotal: 11.3ms\tremaining: 2.8s\n",
      "249:\tlearn: 0.9854255\ttest: 0.9934180\tbest: 0.9948284 (67)\ttotal: 2.44s\tremaining: 0us\n",
      "bestTest = 0.9948283968\n",
      "bestIteration = 67\n",
      "Shrink model to first 68 iterations.\n",
      "0.992007522331923 {'depth': 3, 'iterations': 250, 'learning_rate': 0.03, 'l2_leaf_reg': 10, 'border_count': 100, 'thread_count': 4, 'eval_metric': 'Accuracy', 'task_type': 'GPU', 'early_stopping_rounds': 2000, 'use_best_model': True, 'verbose': 500} best: 0.9923209529161955 {'depth': 3, 'iterations': 250, 'learning_rate': 0.03, 'l2_leaf_reg': 3, 'border_count': 100, 'thread_count': 4, 'eval_metric': 'Accuracy', 'task_type': 'GPU', 'early_stopping_rounds': 2000, 'use_best_model': True, 'verbose': 500}\n",
      "0:\tlearn: 0.9790785\ttest: 0.9854255\tbest: 0.9854255 (0)\ttotal: 11.2ms\tremaining: 2.78s\n",
      "249:\tlearn: 0.9856606\ttest: 0.9905971\tbest: 0.9905971 (22)\ttotal: 2.42s\tremaining: 0us\n",
      "bestTest = 0.9905970851\n",
      "bestIteration = 22\n",
      "Shrink model to first 23 iterations.\n",
      "0:\tlearn: 0.9734368\ttest: 0.9764927\tbest: 0.9764927 (0)\ttotal: 11ms\tremaining: 2.73s\n",
      "249:\tlearn: 0.9840150\ttest: 0.9910672\tbest: 0.9915374 (59)\ttotal: 2.51s\tremaining: 0us\n",
      "bestTest = 0.9915373766\n",
      "bestIteration = 59\n",
      "Shrink model to first 60 iterations.\n",
      "0:\tlearn: 0.9755524\ttest: 0.9755524\tbest: 0.9755524 (0)\ttotal: 11.1ms\tremaining: 2.76s\n",
      "249:\tlearn: 0.9816643\ttest: 0.9811942\tbest: 0.9816643 (187)\ttotal: 2.43s\tremaining: 0us\n",
      "bestTest = 0.9816643159\n",
      "bestIteration = 187\n",
      "Shrink model to first 188 iterations.\n",
      "0.9879329258736874 {'depth': 3, 'iterations': 250, 'learning_rate': 0.03, 'l2_leaf_reg': 100, 'border_count': 100, 'thread_count': 4, 'eval_metric': 'Accuracy', 'task_type': 'GPU', 'early_stopping_rounds': 2000, 'use_best_model': True, 'verbose': 500} best: 0.9923209529161955 {'depth': 3, 'iterations': 250, 'learning_rate': 0.03, 'l2_leaf_reg': 3, 'border_count': 100, 'thread_count': 4, 'eval_metric': 'Accuracy', 'task_type': 'GPU', 'early_stopping_rounds': 2000, 'use_best_model': True, 'verbose': 500}\n",
      "0:\tlearn: 0.9741420\ttest: 0.9727315\tbest: 0.9727315 (0)\ttotal: 12ms\tremaining: 2.99s\n",
      "249:\tlearn: 0.9743771\ttest: 0.9807240\tbest: 0.9807240 (45)\ttotal: 2.45s\tremaining: 0us\n",
      "bestTest = 0.9807240244\n",
      "bestIteration = 45\n",
      "Shrink model to first 46 iterations.\n",
      "0:\tlearn: 0.9755524\ttest: 0.9844852\tbest: 0.9844852 (0)\ttotal: 11.5ms\tremaining: 2.87s\n",
      "249:\tlearn: 0.9771979\ttest: 0.9873061\tbest: 0.9873061 (207)\ttotal: 2.42s\tremaining: 0us\n",
      "bestTest = 0.9873060649\n",
      "bestIteration = 207\n",
      "Shrink model to first 208 iterations.\n",
      "0:\tlearn: 0.9760226\ttest: 0.9797837\tbest: 0.9797837 (0)\ttotal: 11.3ms\tremaining: 2.81s\n",
      "249:\tlearn: 0.9760226\ttest: 0.9797837\tbest: 0.9797837 (0)\ttotal: 2.41s\tremaining: 0us\n",
      "bestTest = 0.979783733\n",
      "bestIteration = 0\n",
      "Shrink model to first 1 iterations.\n",
      "0.9826046074283029 {'depth': 3, 'iterations': 250, 'learning_rate': 0.001, 'l2_leaf_reg': 3, 'border_count': 100, 'thread_count': 4, 'eval_metric': 'Accuracy', 'task_type': 'GPU', 'early_stopping_rounds': 2000, 'use_best_model': True, 'verbose': 500} best: 0.9923209529161955 {'depth': 3, 'iterations': 250, 'learning_rate': 0.03, 'l2_leaf_reg': 3, 'border_count': 100, 'thread_count': 4, 'eval_metric': 'Accuracy', 'task_type': 'GPU', 'early_stopping_rounds': 2000, 'use_best_model': True, 'verbose': 500}\n",
      "0:\tlearn: 0.9757875\ttest: 0.9736718\tbest: 0.9736718 (0)\ttotal: 11.6ms\tremaining: 2.88s\n",
      "249:\tlearn: 0.9767278\ttest: 0.9774330\tbest: 0.9774330 (48)\ttotal: 2.49s\tremaining: 0us\n",
      "bestTest = 0.9774330042\n",
      "bestIteration = 48\n",
      "Shrink model to first 49 iterations.\n",
      "0:\tlearn: 0.9722614\ttest: 0.9797837\tbest: 0.9797837 (0)\ttotal: 11.2ms\tremaining: 2.79s\n",
      "249:\tlearn: 0.9741420\ttest: 0.9811942\tbest: 0.9811942 (43)\ttotal: 2.41s\tremaining: 0us\n",
      "bestTest = 0.9811941702\n",
      "bestIteration = 43\n",
      "Shrink model to first 44 iterations.\n",
      "0:\tlearn: 0.9739069\ttest: 0.9858956\tbest: 0.9858956 (0)\ttotal: 10.9ms\tremaining: 2.72s\n",
      "249:\tlearn: 0.9863658\ttest: 0.9873061\tbest: 0.9877762 (32)\ttotal: 2.4s\tremaining: 0us\n",
      "bestTest = 0.9877762106\n",
      "bestIteration = 32\n",
      "Shrink model to first 33 iterations.\n",
      "0.9821344616831218 {'depth': 3, 'iterations': 250, 'learning_rate': 0.01, 'l2_leaf_reg': 3, 'border_count': 100, 'thread_count': 4, 'eval_metric': 'Accuracy', 'task_type': 'GPU', 'early_stopping_rounds': 2000, 'use_best_model': True, 'verbose': 500} best: 0.9923209529161955 {'depth': 3, 'iterations': 250, 'learning_rate': 0.03, 'l2_leaf_reg': 3, 'border_count': 100, 'thread_count': 4, 'eval_metric': 'Accuracy', 'task_type': 'GPU', 'early_stopping_rounds': 2000, 'use_best_model': True, 'verbose': 500}\n",
      "0:\tlearn: 0.9828397\ttest: 0.9826046\tbest: 0.9826046 (0)\ttotal: 12ms\tremaining: 2.98s\n",
      "249:\tlearn: 0.9922426\ttest: 0.9873061\tbest: 0.9882464 (179)\ttotal: 2.4s\tremaining: 0us\n",
      "bestTest = 0.9882463564\n",
      "bestIteration = 179\n",
      "Shrink model to first 180 iterations.\n",
      "0:\tlearn: 0.9717913\ttest: 0.9807240\tbest: 0.9807240 (0)\ttotal: 11.6ms\tremaining: 2.88s\n",
      "249:\tlearn: 0.9917724\ttest: 0.9929478\tbest: 0.9938881 (42)\ttotal: 2.52s\tremaining: 0us\n",
      "bestTest = 0.9938881053\n",
      "bestIteration = 42\n",
      "Shrink model to first 43 iterations.\n",
      "0:\tlearn: 0.9734368\ttest: 0.9835449\tbest: 0.9835449 (0)\ttotal: 10.8ms\tremaining: 2.68s\n",
      "249:\tlearn: 0.9913023\ttest: 0.9858956\tbest: 0.9873061 (4)\ttotal: 2.4s\tremaining: 0us\n",
      "bestTest = 0.9873060649\n",
      "bestIteration = 4\n",
      "Shrink model to first 5 iterations.\n",
      "0.9898135088544114 {'depth': 3, 'iterations': 250, 'learning_rate': 0.1, 'l2_leaf_reg': 3, 'border_count': 100, 'thread_count': 4, 'eval_metric': 'Accuracy', 'task_type': 'GPU', 'early_stopping_rounds': 2000, 'use_best_model': True, 'verbose': 500} best: 0.9923209529161955 {'depth': 3, 'iterations': 250, 'learning_rate': 0.03, 'l2_leaf_reg': 3, 'border_count': 100, 'thread_count': 4, 'eval_metric': 'Accuracy', 'task_type': 'GPU', 'early_stopping_rounds': 2000, 'use_best_model': True, 'verbose': 500}\n"
     ]
    },
    {
     "name": "stdout",
     "output_type": "stream",
     "text": [
      "0:\tlearn: 0.9802539\ttest: 0.9873061\tbest: 0.9873061 (0)\ttotal: 11.1ms\tremaining: 2.77s\n",
      "249:\tlearn: 0.9950635\ttest: 0.9934180\tbest: 0.9938881 (60)\ttotal: 2.39s\tremaining: 0us\n",
      "bestTest = 0.9938881053\n",
      "bestIteration = 60\n",
      "Shrink model to first 61 iterations.\n",
      "0:\tlearn: 0.9722614\ttest: 0.9741420\tbest: 0.9741420 (0)\ttotal: 12ms\tremaining: 2.99s\n",
      "249:\tlearn: 0.9960038\ttest: 0.9905971\tbest: 0.9905971 (25)\ttotal: 2.47s\tremaining: 0us\n",
      "bestTest = 0.9905970851\n",
      "bestIteration = 25\n",
      "Shrink model to first 26 iterations.\n",
      "0:\tlearn: 0.9736718\ttest: 0.9788434\tbest: 0.9788434 (0)\ttotal: 10.9ms\tremaining: 2.72s\n",
      "249:\tlearn: 0.9931829\ttest: 0.9901269\tbest: 0.9905971 (17)\ttotal: 2.45s\tremaining: 0us\n",
      "bestTest = 0.9905970851\n",
      "bestIteration = 17\n",
      "Shrink model to first 18 iterations.\n",
      "0.9916940918351355 {'depth': 3, 'iterations': 250, 'learning_rate': 0.2, 'l2_leaf_reg': 3, 'border_count': 100, 'thread_count': 4, 'eval_metric': 'Accuracy', 'task_type': 'GPU', 'early_stopping_rounds': 2000, 'use_best_model': True, 'verbose': 500} best: 0.9923209529161955 {'depth': 3, 'iterations': 250, 'learning_rate': 0.03, 'l2_leaf_reg': 3, 'border_count': 100, 'thread_count': 4, 'eval_metric': 'Accuracy', 'task_type': 'GPU', 'early_stopping_rounds': 2000, 'use_best_model': True, 'verbose': 500}\n",
      "0:\tlearn: 0.9734368\ttest: 0.9811942\tbest: 0.9811942 (0)\ttotal: 11.1ms\tremaining: 2.77s\n",
      "249:\tlearn: 0.9957687\ttest: 0.9905971\tbest: 0.9910672 (111)\ttotal: 2.38s\tremaining: 0us\n",
      "bestTest = 0.9910672308\n",
      "bestIteration = 111\n",
      "Shrink model to first 112 iterations.\n",
      "0:\tlearn: 0.9734368\ttest: 0.9774330\tbest: 0.9774330 (0)\ttotal: 10.7ms\tremaining: 2.67s\n",
      "249:\tlearn: 0.9976493\ttest: 0.9920075\tbest: 0.9929478 (44)\ttotal: 2.38s\tremaining: 0us\n",
      "bestTest = 0.9929478138\n",
      "bestIteration = 44\n",
      "Shrink model to first 45 iterations.\n",
      "0:\tlearn: 0.9729666\ttest: 0.9793136\tbest: 0.9793136 (0)\ttotal: 11.2ms\tremaining: 2.79s\n",
      "249:\tlearn: 0.9957687\ttest: 0.9924777\tbest: 0.9924777 (230)\ttotal: 2.52s\tremaining: 0us\n",
      "bestTest = 0.9924776681\n",
      "bestIteration = 230\n",
      "Shrink model to first 231 iterations.\n",
      "0.9921642375803166 {'depth': 3, 'iterations': 250, 'learning_rate': 0.3, 'l2_leaf_reg': 3, 'border_count': 100, 'thread_count': 4, 'eval_metric': 'Accuracy', 'task_type': 'GPU', 'early_stopping_rounds': 2000, 'use_best_model': True, 'verbose': 500} best: 0.9923209529161955 {'depth': 3, 'iterations': 250, 'learning_rate': 0.03, 'l2_leaf_reg': 3, 'border_count': 100, 'thread_count': 4, 'eval_metric': 'Accuracy', 'task_type': 'GPU', 'early_stopping_rounds': 2000, 'use_best_model': True, 'verbose': 500}\n",
      "0:\tlearn: 0.9741420\ttest: 0.9797837\tbest: 0.9797837 (0)\ttotal: 6.96ms\tremaining: 689ms\n",
      "99:\tlearn: 0.9755524\ttest: 0.9797837\tbest: 0.9797837 (0)\ttotal: 564ms\tremaining: 0us\n",
      "bestTest = 0.979783733\n",
      "bestIteration = 0\n",
      "Shrink model to first 1 iterations.\n",
      "0:\tlearn: 0.9762576\ttest: 0.9741420\tbest: 0.9741420 (0)\ttotal: 6.69ms\tremaining: 662ms\n",
      "99:\tlearn: 0.9762576\ttest: 0.9741420\tbest: 0.9811942 (15)\ttotal: 557ms\tremaining: 0us\n",
      "bestTest = 0.9811941702\n",
      "bestIteration = 15\n",
      "Shrink model to first 16 iterations.\n",
      "0:\tlearn: 0.9706159\ttest: 0.9835449\tbest: 0.9835449 (0)\ttotal: 6.47ms\tremaining: 640ms\n",
      "99:\tlearn: 0.9771979\ttest: 0.9891866\tbest: 0.9948284 (27)\ttotal: 554ms\tremaining: 0us\n",
      "bestTest = 0.9948283968\n",
      "bestIteration = 27\n",
      "Shrink model to first 28 iterations.\n",
      "0.9852687666509952 {'depth': 3, 'iterations': 100, 'learning_rate': 0.03, 'l2_leaf_reg': 3, 'border_count': 100, 'thread_count': 4, 'eval_metric': 'Accuracy', 'task_type': 'GPU', 'early_stopping_rounds': 2000, 'use_best_model': True, 'verbose': 500} best: 0.9923209529161955 {'depth': 3, 'iterations': 250, 'learning_rate': 0.03, 'l2_leaf_reg': 3, 'border_count': 100, 'thread_count': 4, 'eval_metric': 'Accuracy', 'task_type': 'GPU', 'early_stopping_rounds': 2000, 'use_best_model': True, 'verbose': 500}\n",
      "0:\tlearn: 0.9746121\ttest: 0.9774330\tbest: 0.9774330 (0)\ttotal: 7.39ms\tremaining: 731ms\n",
      "99:\tlearn: 0.9739069\ttest: 0.9760226\tbest: 0.9783733 (8)\ttotal: 573ms\tremaining: 0us\n",
      "bestTest = 0.9783732957\n",
      "bestIteration = 8\n",
      "Shrink model to first 9 iterations.\n",
      "0:\tlearn: 0.9774330\ttest: 0.9891866\tbest: 0.9891866 (0)\ttotal: 6.7ms\tremaining: 664ms\n",
      "99:\tlearn: 0.9720263\ttest: 0.9788434\tbest: 0.9891866 (0)\ttotal: 559ms\tremaining: 0us\n",
      "bestTest = 0.9891866479\n",
      "bestIteration = 0\n",
      "Shrink model to first 1 iterations.\n",
      "0:\tlearn: 0.9748472\ttest: 0.9779031\tbest: 0.9779031 (0)\ttotal: 6.36ms\tremaining: 630ms\n",
      "99:\tlearn: 0.9748472\ttest: 0.9779031\tbest: 0.9779031 (0)\ttotal: 537ms\tremaining: 0us\n",
      "bestTest = 0.97790315\n",
      "bestIteration = 0\n",
      "Shrink model to first 1 iterations.\n",
      "0.9818210311863345 {'depth': 3, 'iterations': 100, 'learning_rate': 0.001, 'l2_leaf_reg': 3, 'border_count': 100, 'thread_count': 4, 'eval_metric': 'Accuracy', 'task_type': 'GPU', 'early_stopping_rounds': 2000, 'use_best_model': True, 'verbose': 500} best: 0.9923209529161955 {'depth': 3, 'iterations': 250, 'learning_rate': 0.03, 'l2_leaf_reg': 3, 'border_count': 100, 'thread_count': 4, 'eval_metric': 'Accuracy', 'task_type': 'GPU', 'early_stopping_rounds': 2000, 'use_best_model': True, 'verbose': 500}\n",
      "0:\tlearn: 0.9713211\ttest: 0.9783733\tbest: 0.9783733 (0)\ttotal: 6.74ms\tremaining: 667ms\n",
      "99:\tlearn: 0.9764927\ttest: 0.9835449\tbest: 0.9854255 (14)\ttotal: 542ms\tremaining: 0us\n",
      "bestTest = 0.9854254819\n",
      "bestIteration = 14\n",
      "Shrink model to first 15 iterations.\n",
      "0:\tlearn: 0.9724965\ttest: 0.9797837\tbest: 0.9797837 (0)\ttotal: 6.73ms\tremaining: 666ms\n",
      "99:\tlearn: 0.9717913\ttest: 0.9788434\tbest: 0.9797837 (0)\ttotal: 540ms\tremaining: 0us\n",
      "bestTest = 0.979783733\n",
      "bestIteration = 0\n",
      "Shrink model to first 1 iterations.\n",
      "0:\tlearn: 0.9746121\ttest: 0.9732017\tbest: 0.9732017 (0)\ttotal: 6.74ms\tremaining: 667ms\n",
      "99:\tlearn: 0.9764927\ttest: 0.9760226\tbest: 0.9760226 (9)\ttotal: 560ms\tremaining: 0us\n",
      "bestTest = 0.976022567\n",
      "bestIteration = 9\n",
      "Shrink model to first 10 iterations.\n",
      "0.9804105939507913 {'depth': 3, 'iterations': 100, 'learning_rate': 0.01, 'l2_leaf_reg': 3, 'border_count': 100, 'thread_count': 4, 'eval_metric': 'Accuracy', 'task_type': 'GPU', 'early_stopping_rounds': 2000, 'use_best_model': True, 'verbose': 500} best: 0.9923209529161955 {'depth': 3, 'iterations': 250, 'learning_rate': 0.03, 'l2_leaf_reg': 3, 'border_count': 100, 'thread_count': 4, 'eval_metric': 'Accuracy', 'task_type': 'GPU', 'early_stopping_rounds': 2000, 'use_best_model': True, 'verbose': 500}\n",
      "0:\tlearn: 0.9750823\ttest: 0.9764927\tbest: 0.9764927 (0)\ttotal: 7.02ms\tremaining: 695ms\n",
      "99:\tlearn: 0.9807240\ttest: 0.9835449\tbest: 0.9840150 (80)\ttotal: 570ms\tremaining: 0us\n",
      "bestTest = 0.9840150447\n",
      "bestIteration = 80\n",
      "Shrink model to first 81 iterations.\n",
      "0:\tlearn: 0.9729666\ttest: 0.9774330\tbest: 0.9774330 (0)\ttotal: 6.83ms\tremaining: 676ms\n",
      "99:\tlearn: 0.9818994\ttest: 0.9924777\tbest: 0.9929478 (96)\ttotal: 547ms\tremaining: 0us\n",
      "bestTest = 0.9929478138\n",
      "bestIteration = 96\n",
      "Shrink model to first 97 iterations.\n",
      "0:\tlearn: 0.9713211\ttest: 0.9811942\tbest: 0.9811942 (0)\ttotal: 7.15ms\tremaining: 708ms\n",
      "99:\tlearn: 0.9861307\ttest: 0.9863658\tbest: 0.9887165 (20)\ttotal: 558ms\tremaining: 0us\n",
      "bestTest = 0.9887165021\n",
      "bestIteration = 20\n",
      "Shrink model to first 21 iterations.\n",
      "0.9885597868672621 {'depth': 3, 'iterations': 100, 'learning_rate': 0.1, 'l2_leaf_reg': 3, 'border_count': 100, 'thread_count': 4, 'eval_metric': 'Accuracy', 'task_type': 'GPU', 'early_stopping_rounds': 2000, 'use_best_model': True, 'verbose': 500} best: 0.9923209529161955 {'depth': 3, 'iterations': 250, 'learning_rate': 0.03, 'l2_leaf_reg': 3, 'border_count': 100, 'thread_count': 4, 'eval_metric': 'Accuracy', 'task_type': 'GPU', 'early_stopping_rounds': 2000, 'use_best_model': True, 'verbose': 500}\n",
      "0:\tlearn: 0.9774330\ttest: 0.9915374\tbest: 0.9915374 (0)\ttotal: 7.31ms\tremaining: 723ms\n",
      "99:\tlearn: 0.9835449\ttest: 0.9938881\tbest: 0.9938881 (76)\ttotal: 588ms\tremaining: 0us\n",
      "bestTest = 0.9938881053\n",
      "bestIteration = 76\n",
      "Shrink model to first 77 iterations.\n",
      "0:\tlearn: 0.9722614\ttest: 0.9779031\tbest: 0.9779031 (0)\ttotal: 6.78ms\tremaining: 671ms\n",
      "99:\tlearn: 0.9835449\ttest: 0.9920075\tbest: 0.9920075 (70)\ttotal: 552ms\tremaining: 0us\n",
      "bestTest = 0.9920075223\n",
      "bestIteration = 70\n",
      "Shrink model to first 71 iterations.\n",
      "0:\tlearn: 0.9771979\ttest: 0.9760226\tbest: 0.9760226 (0)\ttotal: 6.58ms\tremaining: 651ms\n",
      "99:\tlearn: 0.9849553\ttest: 0.9826046\tbest: 0.9840150 (12)\ttotal: 532ms\tremaining: 0us\n",
      "bestTest = 0.9840150447\n",
      "bestIteration = 12\n",
      "Shrink model to first 13 iterations.\n",
      "0.9899702241028052 {'depth': 3, 'iterations': 100, 'learning_rate': 0.2, 'l2_leaf_reg': 3, 'border_count': 100, 'thread_count': 4, 'eval_metric': 'Accuracy', 'task_type': 'GPU', 'early_stopping_rounds': 2000, 'use_best_model': True, 'verbose': 500} best: 0.9923209529161955 {'depth': 3, 'iterations': 250, 'learning_rate': 0.03, 'l2_leaf_reg': 3, 'border_count': 100, 'thread_count': 4, 'eval_metric': 'Accuracy', 'task_type': 'GPU', 'early_stopping_rounds': 2000, 'use_best_model': True, 'verbose': 500}\n"
     ]
    },
    {
     "name": "stdout",
     "output_type": "stream",
     "text": [
      "0:\tlearn: 0.9724965\ttest: 0.9774330\tbest: 0.9774330 (0)\ttotal: 6.62ms\tremaining: 655ms\n",
      "99:\tlearn: 0.9877762\ttest: 0.9887165\tbest: 0.9887165 (30)\ttotal: 552ms\tremaining: 0us\n",
      "bestTest = 0.9887165021\n",
      "bestIteration = 30\n",
      "Shrink model to first 31 iterations.\n",
      "0:\tlearn: 0.9746121\ttest: 0.9793136\tbest: 0.9793136 (0)\ttotal: 6.42ms\tremaining: 636ms\n",
      "99:\tlearn: 0.9833098\ttest: 0.9868359\tbest: 0.9873061 (11)\ttotal: 531ms\tremaining: 0us\n",
      "bestTest = 0.9873060649\n",
      "bestIteration = 11\n",
      "Shrink model to first 12 iterations.\n",
      "0:\tlearn: 0.9685002\ttest: 0.9797837\tbest: 0.9797837 (0)\ttotal: 6.86ms\tremaining: 679ms\n",
      "99:\tlearn: 0.9849553\ttest: 0.9901269\tbest: 0.9901269 (76)\ttotal: 558ms\tremaining: 0us\n",
      "bestTest = 0.9901269394\n",
      "bestIteration = 76\n",
      "Shrink model to first 77 iterations.\n",
      "0.9887165021156559 {'depth': 3, 'iterations': 100, 'learning_rate': 0.3, 'l2_leaf_reg': 3, 'border_count': 100, 'thread_count': 4, 'eval_metric': 'Accuracy', 'task_type': 'GPU', 'early_stopping_rounds': 2000, 'use_best_model': True, 'verbose': 500} best: 0.9923209529161955 {'depth': 3, 'iterations': 250, 'learning_rate': 0.03, 'l2_leaf_reg': 3, 'border_count': 100, 'thread_count': 4, 'eval_metric': 'Accuracy', 'task_type': 'GPU', 'early_stopping_rounds': 2000, 'use_best_model': True, 'verbose': 500}\n",
      "0:\tlearn: 0.9821345\ttest: 0.9849553\tbest: 0.9849553 (0)\ttotal: 22ms\tremaining: 11s\n",
      "499:\tlearn: 0.9938881\ttest: 0.9920075\tbest: 0.9920075 (255)\ttotal: 11.3s\tremaining: 0us\n",
      "bestTest = 0.9920075223\n",
      "bestIteration = 255\n",
      "Shrink model to first 256 iterations.\n",
      "0:\tlearn: 0.9724965\ttest: 0.9816643\tbest: 0.9816643 (0)\ttotal: 22.1ms\tremaining: 11s\n",
      "499:\tlearn: 0.9913023\ttest: 0.9934180\tbest: 0.9938881 (115)\ttotal: 11.4s\tremaining: 0us\n",
      "bestTest = 0.9938881053\n",
      "bestIteration = 115\n",
      "Shrink model to first 116 iterations.\n",
      "0:\tlearn: 0.9753173\ttest: 0.9760226\tbest: 0.9760226 (0)\ttotal: 21.9ms\tremaining: 10.9s\n",
      "499:\tlearn: 0.9927127\ttest: 0.9891866\tbest: 0.9901269 (40)\ttotal: 11.5s\tremaining: 0us\n",
      "bestTest = 0.9901269394\n",
      "bestIteration = 40\n",
      "Shrink model to first 41 iterations.\n",
      "0.992007522331923 {'depth': 3, 'iterations': 500, 'learning_rate': 0.03, 'l2_leaf_reg': 3, 'border_count': 100, 'thread_count': 4, 'eval_metric': 'Accuracy', 'task_type': 'GPU', 'early_stopping_rounds': 2000, 'use_best_model': True, 'verbose': 500} best: 0.9923209529161955 {'depth': 3, 'iterations': 250, 'learning_rate': 0.03, 'l2_leaf_reg': 3, 'border_count': 100, 'thread_count': 4, 'eval_metric': 'Accuracy', 'task_type': 'GPU', 'early_stopping_rounds': 2000, 'use_best_model': True, 'verbose': 500}\n",
      "0:\tlearn: 0.9739069\ttest: 0.9797837\tbest: 0.9797837 (0)\ttotal: 22.3ms\tremaining: 11.1s\n",
      "499:\tlearn: 0.9755524\ttest: 0.9849553\tbest: 0.9863658 (222)\ttotal: 11.3s\tremaining: 0us\n",
      "bestTest = 0.9863657734\n",
      "bestIteration = 222\n",
      "Shrink model to first 223 iterations.\n",
      "0:\tlearn: 0.9760226\ttest: 0.9779031\tbest: 0.9779031 (0)\ttotal: 23.7ms\tremaining: 11.8s\n",
      "499:\tlearn: 0.9856606\ttest: 0.9844852\tbest: 0.9858956 (467)\ttotal: 11.5s\tremaining: 0us\n",
      "bestTest = 0.9858956276\n",
      "bestIteration = 467\n",
      "Shrink model to first 468 iterations.\n",
      "0:\tlearn: 0.9717913\ttest: 0.9793136\tbest: 0.9793136 (0)\ttotal: 23.2ms\tremaining: 11.6s\n",
      "499:\tlearn: 0.9748472\ttest: 0.9811942\tbest: 0.9821345 (22)\ttotal: 11.4s\tremaining: 0us\n",
      "bestTest = 0.9821344617\n",
      "bestIteration = 22\n",
      "Shrink model to first 23 iterations.\n",
      "0.984798620905814 {'depth': 3, 'iterations': 500, 'learning_rate': 0.001, 'l2_leaf_reg': 3, 'border_count': 100, 'thread_count': 4, 'eval_metric': 'Accuracy', 'task_type': 'GPU', 'early_stopping_rounds': 2000, 'use_best_model': True, 'verbose': 500} best: 0.9923209529161955 {'depth': 3, 'iterations': 250, 'learning_rate': 0.03, 'l2_leaf_reg': 3, 'border_count': 100, 'thread_count': 4, 'eval_metric': 'Accuracy', 'task_type': 'GPU', 'early_stopping_rounds': 2000, 'use_best_model': True, 'verbose': 500}\n",
      "0:\tlearn: 0.9746121\ttest: 0.9722614\tbest: 0.9722614 (0)\ttotal: 20.7ms\tremaining: 10.3s\n",
      "499:\tlearn: 0.9913023\ttest: 0.9863658\tbest: 0.9877762 (193)\ttotal: 12.5s\tremaining: 0us\n",
      "bestTest = 0.9877762106\n",
      "bestIteration = 193\n",
      "Shrink model to first 194 iterations.\n",
      "0:\tlearn: 0.9701457\ttest: 0.9826046\tbest: 0.9826046 (0)\ttotal: 23.3ms\tremaining: 11.6s\n",
      "499:\tlearn: 0.9868359\ttest: 0.9924777\tbest: 0.9929478 (456)\ttotal: 13.8s\tremaining: 0us\n",
      "bestTest = 0.9929478138\n",
      "bestIteration = 456\n",
      "Shrink model to first 457 iterations.\n",
      "0:\tlearn: 0.9736718\ttest: 0.9811942\tbest: 0.9811942 (0)\ttotal: 28.3ms\tremaining: 14.1s\n",
      "499:\tlearn: 0.9884814\ttest: 0.9901269\tbest: 0.9915374 (121)\ttotal: 12.5s\tremaining: 0us\n",
      "bestTest = 0.9915373766\n",
      "bestIteration = 121\n",
      "Shrink model to first 122 iterations.\n",
      "0.9907538003447737 {'depth': 3, 'iterations': 500, 'learning_rate': 0.01, 'l2_leaf_reg': 3, 'border_count': 100, 'thread_count': 4, 'eval_metric': 'Accuracy', 'task_type': 'GPU', 'early_stopping_rounds': 2000, 'use_best_model': True, 'verbose': 500} best: 0.9923209529161955 {'depth': 3, 'iterations': 250, 'learning_rate': 0.03, 'l2_leaf_reg': 3, 'border_count': 100, 'thread_count': 4, 'eval_metric': 'Accuracy', 'task_type': 'GPU', 'early_stopping_rounds': 2000, 'use_best_model': True, 'verbose': 500}\n",
      "0:\tlearn: 0.9757875\ttest: 0.9755524\tbest: 0.9755524 (0)\ttotal: 25.2ms\tremaining: 12.6s\n",
      "499:\tlearn: 0.9952985\ttest: 0.9929478\tbest: 0.9929478 (197)\ttotal: 12.3s\tremaining: 0us\n",
      "bestTest = 0.9929478138\n",
      "bestIteration = 197\n",
      "Shrink model to first 198 iterations.\n",
      "0:\tlearn: 0.9753173\ttest: 0.9835449\tbest: 0.9835449 (0)\ttotal: 24.1ms\tremaining: 12s\n",
      "499:\tlearn: 0.9945933\ttest: 0.9891866\tbest: 0.9905971 (54)\ttotal: 12.5s\tremaining: 0us\n",
      "bestTest = 0.9905970851\n",
      "bestIteration = 54\n",
      "Shrink model to first 55 iterations.\n",
      "0:\tlearn: 0.9724965\ttest: 0.9774330\tbest: 0.9774330 (0)\ttotal: 23.8ms\tremaining: 11.9s\n",
      "499:\tlearn: 0.9929478\ttest: 0.9915374\tbest: 0.9920075 (312)\ttotal: 12.3s\tremaining: 0us\n",
      "bestTest = 0.9920075223\n",
      "bestIteration = 312\n",
      "Shrink model to first 313 iterations.\n",
      "0.9918508070835292 {'depth': 3, 'iterations': 500, 'learning_rate': 0.1, 'l2_leaf_reg': 3, 'border_count': 100, 'thread_count': 4, 'eval_metric': 'Accuracy', 'task_type': 'GPU', 'early_stopping_rounds': 2000, 'use_best_model': True, 'verbose': 500} best: 0.9923209529161955 {'depth': 3, 'iterations': 250, 'learning_rate': 0.03, 'l2_leaf_reg': 3, 'border_count': 100, 'thread_count': 4, 'eval_metric': 'Accuracy', 'task_type': 'GPU', 'early_stopping_rounds': 2000, 'use_best_model': True, 'verbose': 500}\n",
      "0:\tlearn: 0.9755524\ttest: 0.9755524\tbest: 0.9755524 (0)\ttotal: 26.2ms\tremaining: 13.1s\n",
      "499:\tlearn: 0.9950635\ttest: 0.9896568\tbest: 0.9896568 (43)\ttotal: 12.3s\tremaining: 0us\n",
      "bestTest = 0.9896567936\n",
      "bestIteration = 43\n",
      "Shrink model to first 44 iterations.\n",
      "0:\tlearn: 0.9753173\ttest: 0.9769629\tbest: 0.9769629 (0)\ttotal: 25.9ms\tremaining: 12.9s\n",
      "499:\tlearn: 0.9960038\ttest: 0.9924777\tbest: 0.9929478 (198)\ttotal: 12.3s\tremaining: 0us\n",
      "bestTest = 0.9929478138\n",
      "bestIteration = 198\n",
      "Shrink model to first 199 iterations.\n",
      "0:\tlearn: 0.9724965\ttest: 0.9821345\tbest: 0.9821345 (0)\ttotal: 25.8ms\tremaining: 12.9s\n",
      "499:\tlearn: 0.9964739\ttest: 0.9910672\tbest: 0.9910672 (17)\ttotal: 12.2s\tremaining: 0us\n",
      "bestTest = 0.9910672308\n",
      "bestIteration = 17\n",
      "Shrink model to first 18 iterations.\n",
      "0.9912239460899546 {'depth': 3, 'iterations': 500, 'learning_rate': 0.2, 'l2_leaf_reg': 3, 'border_count': 100, 'thread_count': 4, 'eval_metric': 'Accuracy', 'task_type': 'GPU', 'early_stopping_rounds': 2000, 'use_best_model': True, 'verbose': 500} best: 0.9923209529161955 {'depth': 3, 'iterations': 250, 'learning_rate': 0.03, 'l2_leaf_reg': 3, 'border_count': 100, 'thread_count': 4, 'eval_metric': 'Accuracy', 'task_type': 'GPU', 'early_stopping_rounds': 2000, 'use_best_model': True, 'verbose': 500}\n",
      "0:\tlearn: 0.9757875\ttest: 0.9797837\tbest: 0.9797837 (0)\ttotal: 23.1ms\tremaining: 11.5s\n",
      "499:\tlearn: 0.9964739\ttest: 0.9910672\tbest: 0.9910672 (183)\ttotal: 12.3s\tremaining: 0us\n",
      "bestTest = 0.9910672308\n",
      "bestIteration = 183\n",
      "Shrink model to first 184 iterations.\n",
      "0:\tlearn: 0.9732017\ttest: 0.9793136\tbest: 0.9793136 (0)\ttotal: 22.2ms\tremaining: 11.1s\n",
      "499:\tlearn: 0.9964739\ttest: 0.9929478\tbest: 0.9934180 (106)\ttotal: 12.3s\tremaining: 0us\n",
      "bestTest = 0.9934179596\n",
      "bestIteration = 106\n",
      "Shrink model to first 107 iterations.\n",
      "0:\tlearn: 0.9755524\ttest: 0.9779031\tbest: 0.9779031 (0)\ttotal: 27.4ms\tremaining: 13.7s\n"
     ]
    },
    {
     "name": "stdout",
     "output_type": "stream",
     "text": [
      "499:\tlearn: 0.9960038\ttest: 0.9924777\tbest: 0.9924777 (113)\ttotal: 12.2s\tremaining: 0us\n",
      "bestTest = 0.9924776681\n",
      "bestIteration = 113\n",
      "Shrink model to first 114 iterations.\n",
      "0.9923209528287101 {'depth': 3, 'iterations': 500, 'learning_rate': 0.3, 'l2_leaf_reg': 3, 'border_count': 100, 'thread_count': 4, 'eval_metric': 'Accuracy', 'task_type': 'GPU', 'early_stopping_rounds': 2000, 'use_best_model': True, 'verbose': 500} best: 0.9923209529161955 {'depth': 3, 'iterations': 250, 'learning_rate': 0.03, 'l2_leaf_reg': 3, 'border_count': 100, 'thread_count': 4, 'eval_metric': 'Accuracy', 'task_type': 'GPU', 'early_stopping_rounds': 2000, 'use_best_model': True, 'verbose': 500}\n",
      "0:\tlearn: 0.9750823\ttest: 0.9793136\tbest: 0.9793136 (0)\ttotal: 28.5ms\tremaining: 28.5s\n",
      "500:\tlearn: 0.9934180\ttest: 0.9896568\tbest: 0.9910672 (46)\ttotal: 12.3s\tremaining: 12.2s\n",
      "999:\tlearn: 0.9952985\ttest: 0.9896568\tbest: 0.9910672 (46)\ttotal: 24.6s\tremaining: 0us\n",
      "bestTest = 0.9910672308\n",
      "bestIteration = 46\n",
      "Shrink model to first 47 iterations.\n",
      "0:\tlearn: 0.9727315\ttest: 0.9793136\tbest: 0.9793136 (0)\ttotal: 26.3ms\tremaining: 26.3s\n",
      "500:\tlearn: 0.9913023\ttest: 0.9896568\tbest: 0.9901269 (423)\ttotal: 12.2s\tremaining: 12.1s\n",
      "999:\tlearn: 0.9938881\ttest: 0.9901269\tbest: 0.9905971 (738)\ttotal: 24.5s\tremaining: 0us\n",
      "bestTest = 0.9905970851\n",
      "bestIteration = 738\n",
      "Shrink model to first 739 iterations.\n",
      "0:\tlearn: 0.9717913\ttest: 0.9755524\tbest: 0.9755524 (0)\ttotal: 24.9ms\tremaining: 24.9s\n",
      "500:\tlearn: 0.9924777\ttest: 0.9905971\tbest: 0.9915374 (26)\ttotal: 12.6s\tremaining: 12.5s\n",
      "999:\tlearn: 0.9943583\ttest: 0.9905971\tbest: 0.9915374 (26)\ttotal: 24.2s\tremaining: 0us\n",
      "bestTest = 0.9915373766\n",
      "bestIteration = 26\n",
      "Shrink model to first 27 iterations.\n",
      "0.9910672308415608 {'depth': 3, 'iterations': 1000, 'learning_rate': 0.03, 'l2_leaf_reg': 3, 'border_count': 100, 'thread_count': 4, 'eval_metric': 'Accuracy', 'task_type': 'GPU', 'early_stopping_rounds': 2000, 'use_best_model': True, 'verbose': 500} best: 0.9923209529161955 {'depth': 3, 'iterations': 250, 'learning_rate': 0.03, 'l2_leaf_reg': 3, 'border_count': 100, 'thread_count': 4, 'eval_metric': 'Accuracy', 'task_type': 'GPU', 'early_stopping_rounds': 2000, 'use_best_model': True, 'verbose': 500}\n",
      "0:\tlearn: 0.9743771\ttest: 0.9722614\tbest: 0.9722614 (0)\ttotal: 22.1ms\tremaining: 22.1s\n",
      "500:\tlearn: 0.9764927\ttest: 0.9764927\tbest: 0.9788434 (208)\ttotal: 14.3s\tremaining: 14.2s\n",
      "999:\tlearn: 0.9840150\ttest: 0.9840150\tbest: 0.9849553 (809)\ttotal: 28.8s\tremaining: 0us\n",
      "bestTest = 0.9849553362\n",
      "bestIteration = 809\n",
      "Shrink model to first 810 iterations.\n",
      "0:\tlearn: 0.9727315\ttest: 0.9877762\tbest: 0.9877762 (0)\ttotal: 57.9ms\tremaining: 57.9s\n",
      "500:\tlearn: 0.9830748\ttest: 0.9901269\tbest: 0.9934180 (255)\ttotal: 15.4s\tremaining: 15.4s\n",
      "999:\tlearn: 0.9837800\ttest: 0.9901269\tbest: 0.9934180 (255)\ttotal: 30.5s\tremaining: 0us\n",
      "bestTest = 0.9934179596\n",
      "bestIteration = 255\n",
      "Shrink model to first 256 iterations.\n",
      "0:\tlearn: 0.9755524\ttest: 0.9774330\tbest: 0.9774330 (0)\ttotal: 30.7ms\tremaining: 30.7s\n",
      "500:\tlearn: 0.9786084\ttest: 0.9830748\tbest: 0.9844852 (368)\ttotal: 14.2s\tremaining: 14.2s\n",
      "999:\tlearn: 0.9858956\ttest: 0.9891866\tbest: 0.9891866 (990)\ttotal: 28.6s\tremaining: 0us\n",
      "bestTest = 0.9891866479\n",
      "bestIteration = 990\n",
      "Shrink model to first 991 iterations.\n",
      "0.9891866478608368 {'depth': 3, 'iterations': 1000, 'learning_rate': 0.001, 'l2_leaf_reg': 3, 'border_count': 100, 'thread_count': 4, 'eval_metric': 'Accuracy', 'task_type': 'GPU', 'early_stopping_rounds': 2000, 'use_best_model': True, 'verbose': 500} best: 0.9923209529161955 {'depth': 3, 'iterations': 250, 'learning_rate': 0.03, 'l2_leaf_reg': 3, 'border_count': 100, 'thread_count': 4, 'eval_metric': 'Accuracy', 'task_type': 'GPU', 'early_stopping_rounds': 2000, 'use_best_model': True, 'verbose': 500}\n",
      "0:\tlearn: 0.9757875\ttest: 0.9835449\tbest: 0.9835449 (0)\ttotal: 28.6ms\tremaining: 28.6s\n",
      "500:\tlearn: 0.9891866\ttest: 0.9896568\tbest: 0.9920075 (267)\ttotal: 14.3s\tremaining: 14.2s\n",
      "999:\tlearn: 0.9903620\ttest: 0.9896568\tbest: 0.9920075 (267)\ttotal: 29.5s\tremaining: 0us\n",
      "bestTest = 0.9920075223\n",
      "bestIteration = 267\n",
      "Shrink model to first 268 iterations.\n",
      "0:\tlearn: 0.9713211\ttest: 0.9811942\tbest: 0.9811942 (0)\ttotal: 27.1ms\tremaining: 27.1s\n",
      "500:\tlearn: 0.9880113\ttest: 0.9938881\tbest: 0.9943583 (136)\ttotal: 14.7s\tremaining: 14.7s\n",
      "999:\tlearn: 0.9905971\ttest: 0.9934180\tbest: 0.9943583 (136)\ttotal: 29.1s\tremaining: 0us\n",
      "bestTest = 0.9943582511\n",
      "bestIteration = 136\n",
      "Shrink model to first 137 iterations.\n",
      "0:\tlearn: 0.9750823\ttest: 0.9774330\tbest: 0.9774330 (0)\ttotal: 29.4ms\tremaining: 29.3s\n",
      "500:\tlearn: 0.9901269\ttest: 0.9887165\tbest: 0.9887165 (347)\ttotal: 14.6s\tremaining: 14.5s\n",
      "999:\tlearn: 0.9920075\ttest: 0.9891866\tbest: 0.9891866 (986)\ttotal: 28.9s\tremaining: 0us\n",
      "bestTest = 0.9891866479\n",
      "bestIteration = 986\n",
      "Shrink model to first 987 iterations.\n",
      "0.9918508070835292 {'depth': 3, 'iterations': 1000, 'learning_rate': 0.01, 'l2_leaf_reg': 3, 'border_count': 100, 'thread_count': 4, 'eval_metric': 'Accuracy', 'task_type': 'GPU', 'early_stopping_rounds': 2000, 'use_best_model': True, 'verbose': 500} best: 0.9923209529161955 {'depth': 3, 'iterations': 250, 'learning_rate': 0.03, 'l2_leaf_reg': 3, 'border_count': 100, 'thread_count': 4, 'eval_metric': 'Accuracy', 'task_type': 'GPU', 'early_stopping_rounds': 2000, 'use_best_model': True, 'verbose': 500}\n",
      "0:\tlearn: 0.9729666\ttest: 0.9802539\tbest: 0.9802539 (0)\ttotal: 30.7ms\tremaining: 30.6s\n",
      "500:\tlearn: 0.9924777\ttest: 0.9924777\tbest: 0.9934180 (157)\ttotal: 14.3s\tremaining: 14.3s\n",
      "999:\tlearn: 0.9936530\ttest: 0.9929478\tbest: 0.9934180 (157)\ttotal: 28.6s\tremaining: 0us\n",
      "bestTest = 0.9934179596\n",
      "bestIteration = 157\n",
      "Shrink model to first 158 iterations.\n",
      "0:\tlearn: 0.9706159\ttest: 0.9821345\tbest: 0.9821345 (0)\ttotal: 30.3ms\tremaining: 30.3s\n",
      "500:\tlearn: 0.9945933\ttest: 0.9882464\tbest: 0.9891866 (60)\ttotal: 14.3s\tremaining: 14.3s\n",
      "999:\tlearn: 0.9948284\ttest: 0.9882464\tbest: 0.9891866 (60)\ttotal: 28.9s\tremaining: 0us\n",
      "bestTest = 0.9891866479\n",
      "bestIteration = 60\n",
      "Shrink model to first 61 iterations.\n",
      "0:\tlearn: 0.9764927\ttest: 0.9741420\tbest: 0.9741420 (0)\ttotal: 26.9ms\tremaining: 26.9s\n",
      "500:\tlearn: 0.9964739\ttest: 0.9891866\tbest: 0.9896568 (30)\ttotal: 14.2s\tremaining: 14.2s\n",
      "999:\tlearn: 0.9967090\ttest: 0.9887165\tbest: 0.9896568 (30)\ttotal: 28.5s\tremaining: 0us\n",
      "bestTest = 0.9896567936\n",
      "bestIteration = 30\n",
      "Shrink model to first 31 iterations.\n",
      "0.9907538003447737 {'depth': 3, 'iterations': 1000, 'learning_rate': 0.1, 'l2_leaf_reg': 3, 'border_count': 100, 'thread_count': 4, 'eval_metric': 'Accuracy', 'task_type': 'GPU', 'early_stopping_rounds': 2000, 'use_best_model': True, 'verbose': 500} best: 0.9923209529161955 {'depth': 3, 'iterations': 250, 'learning_rate': 0.03, 'l2_leaf_reg': 3, 'border_count': 100, 'thread_count': 4, 'eval_metric': 'Accuracy', 'task_type': 'GPU', 'early_stopping_rounds': 2000, 'use_best_model': True, 'verbose': 500}\n",
      "0:\tlearn: 0.9753173\ttest: 0.9802539\tbest: 0.9802539 (0)\ttotal: 32.9ms\tremaining: 32.8s\n",
      "500:\tlearn: 0.9957687\ttest: 0.9938881\tbest: 0.9938881 (437)\ttotal: 14.5s\tremaining: 14.4s\n",
      "999:\tlearn: 0.9960038\ttest: 0.9938881\tbest: 0.9943583 (535)\ttotal: 28.6s\tremaining: 0us\n",
      "bestTest = 0.9943582511\n",
      "bestIteration = 535\n",
      "Shrink model to first 536 iterations.\n",
      "0:\tlearn: 0.9727315\ttest: 0.9783733\tbest: 0.9783733 (0)\ttotal: 34.4ms\tremaining: 34.4s\n",
      "500:\tlearn: 0.9974142\ttest: 0.9877762\tbest: 0.9887165 (236)\ttotal: 14.4s\tremaining: 14.4s\n",
      "999:\tlearn: 0.9974142\ttest: 0.9873061\tbest: 0.9887165 (236)\ttotal: 28.7s\tremaining: 0us\n",
      "bestTest = 0.9887165021\n",
      "bestIteration = 236\n",
      "Shrink model to first 237 iterations.\n",
      "0:\tlearn: 0.9755524\ttest: 0.9750823\tbest: 0.9750823 (0)\ttotal: 30.1ms\tremaining: 30.1s\n",
      "500:\tlearn: 0.9938881\ttest: 0.9920075\tbest: 0.9920075 (195)\ttotal: 14.4s\tremaining: 14.4s\n",
      "999:\tlearn: 0.9952985\ttest: 0.9920075\tbest: 0.9924777 (606)\ttotal: 28.7s\tremaining: 0us\n",
      "bestTest = 0.9924776681\n",
      "bestIteration = 606\n",
      "Shrink model to first 607 iterations.\n",
      "0.9918508070835292 {'depth': 3, 'iterations': 1000, 'learning_rate': 0.2, 'l2_leaf_reg': 3, 'border_count': 100, 'thread_count': 4, 'eval_metric': 'Accuracy', 'task_type': 'GPU', 'early_stopping_rounds': 2000, 'use_best_model': True, 'verbose': 500} best: 0.9923209529161955 {'depth': 3, 'iterations': 250, 'learning_rate': 0.03, 'l2_leaf_reg': 3, 'border_count': 100, 'thread_count': 4, 'eval_metric': 'Accuracy', 'task_type': 'GPU', 'early_stopping_rounds': 2000, 'use_best_model': True, 'verbose': 500}\n"
     ]
    },
    {
     "name": "stdout",
     "output_type": "stream",
     "text": [
      "0:\tlearn: 0.9762576\ttest: 0.9797837\tbest: 0.9797837 (0)\ttotal: 30.9ms\tremaining: 30.9s\n",
      "500:\tlearn: 0.9957687\ttest: 0.9938881\tbest: 0.9943583 (391)\ttotal: 14.4s\tremaining: 14.3s\n",
      "999:\tlearn: 0.9964739\ttest: 0.9938881\tbest: 0.9943583 (391)\ttotal: 28.6s\tremaining: 0us\n",
      "bestTest = 0.9943582511\n",
      "bestIteration = 391\n",
      "Shrink model to first 392 iterations.\n",
      "0:\tlearn: 0.9739069\ttest: 0.9764927\tbest: 0.9764927 (0)\ttotal: 33.5ms\tremaining: 33.5s\n",
      "500:\tlearn: 0.9964739\ttest: 0.9934180\tbest: 0.9938881 (45)\ttotal: 14.5s\tremaining: 14.4s\n",
      "999:\tlearn: 0.9967090\ttest: 0.9934180\tbest: 0.9938881 (45)\ttotal: 28.8s\tremaining: 0us\n",
      "bestTest = 0.9938881053\n",
      "bestIteration = 45\n",
      "Shrink model to first 46 iterations.\n",
      "0:\tlearn: 0.9748472\ttest: 0.9783733\tbest: 0.9783733 (0)\ttotal: 26.7ms\tremaining: 26.7s\n",
      "500:\tlearn: 0.9985896\ttest: 0.9877762\tbest: 0.9882464 (5)\ttotal: 14.2s\tremaining: 14.2s\n",
      "999:\tlearn: 0.9985896\ttest: 0.9882464\tbest: 0.9882464 (5)\ttotal: 28.4s\tremaining: 0us\n",
      "bestTest = 0.9882463564\n",
      "bestIteration = 5\n",
      "Shrink model to first 6 iterations.\n",
      "0.9921642375803166 {'depth': 3, 'iterations': 1000, 'learning_rate': 0.3, 'l2_leaf_reg': 3, 'border_count': 100, 'thread_count': 4, 'eval_metric': 'Accuracy', 'task_type': 'GPU', 'early_stopping_rounds': 2000, 'use_best_model': True, 'verbose': 500} best: 0.9923209529161955 {'depth': 3, 'iterations': 250, 'learning_rate': 0.03, 'l2_leaf_reg': 3, 'border_count': 100, 'thread_count': 4, 'eval_metric': 'Accuracy', 'task_type': 'GPU', 'early_stopping_rounds': 2000, 'use_best_model': True, 'verbose': 500}\n",
      "0:\tlearn: 0.9762576\ttest: 0.9746121\tbest: 0.9746121 (0)\ttotal: 29.8ms\tremaining: 44.7s\n",
      "500:\tlearn: 0.9934180\ttest: 0.9924777\tbest: 0.9938881 (86)\ttotal: 14.4s\tremaining: 28.8s\n",
      "1000:\tlearn: 0.9945933\ttest: 0.9929478\tbest: 0.9938881 (86)\ttotal: 28.4s\tremaining: 14.2s\n",
      "1499:\tlearn: 0.9955336\ttest: 0.9929478\tbest: 0.9938881 (86)\ttotal: 42.7s\tremaining: 0us\n",
      "bestTest = 0.9938881053\n",
      "bestIteration = 86\n",
      "Shrink model to first 87 iterations.\n",
      "0:\tlearn: 0.9762576\ttest: 0.9854255\tbest: 0.9854255 (0)\ttotal: 32.7ms\tremaining: 49s\n",
      "500:\tlearn: 0.9931829\ttest: 0.9948284\tbest: 0.9948284 (368)\ttotal: 14.4s\tremaining: 28.7s\n",
      "1000:\tlearn: 0.9945933\ttest: 0.9948284\tbest: 0.9948284 (368)\ttotal: 28.8s\tremaining: 14.4s\n",
      "1499:\tlearn: 0.9955336\ttest: 0.9948284\tbest: 0.9948284 (368)\ttotal: 43s\tremaining: 0us\n",
      "bestTest = 0.9948283968\n",
      "bestIteration = 368\n",
      "Shrink model to first 369 iterations.\n",
      "0:\tlearn: 0.9736718\ttest: 0.9811942\tbest: 0.9811942 (0)\ttotal: 29.6ms\tremaining: 44.3s\n",
      "500:\tlearn: 0.9952985\ttest: 0.9882464\tbest: 0.9887165 (122)\ttotal: 14.5s\tremaining: 28.9s\n",
      "1000:\tlearn: 0.9960038\ttest: 0.9882464\tbest: 0.9887165 (122)\ttotal: 28.7s\tremaining: 14.3s\n",
      "1499:\tlearn: 0.9964739\ttest: 0.9882464\tbest: 0.9887165 (122)\ttotal: 42.8s\tremaining: 0us\n",
      "bestTest = 0.9887165021\n",
      "bestIteration = 122\n",
      "Shrink model to first 123 iterations.\n",
      "0.9924776680771039 {'depth': 3, 'iterations': 1500, 'learning_rate': 0.03, 'l2_leaf_reg': 3, 'border_count': 100, 'thread_count': 4, 'eval_metric': 'Accuracy', 'task_type': 'GPU', 'early_stopping_rounds': 2000, 'use_best_model': True, 'verbose': 500} best: 0.9924776681302175 {'depth': 3, 'iterations': 1500, 'learning_rate': 0.03, 'l2_leaf_reg': 3, 'border_count': 100, 'thread_count': 4, 'eval_metric': 'Accuracy', 'task_type': 'GPU', 'early_stopping_rounds': 2000, 'use_best_model': True, 'verbose': 500}\n",
      "0:\tlearn: 0.9757875\ttest: 0.9830748\tbest: 0.9830748 (0)\ttotal: 26ms\tremaining: 39s\n",
      "500:\tlearn: 0.9774330\ttest: 0.9844852\tbest: 0.9849553 (17)\ttotal: 14.7s\tremaining: 29.4s\n",
      "1000:\tlearn: 0.9786084\ttest: 0.9840150\tbest: 0.9849553 (17)\ttotal: 29.1s\tremaining: 14.5s\n",
      "1499:\tlearn: 0.9847203\ttest: 0.9924777\tbest: 0.9924777 (1405)\ttotal: 43.6s\tremaining: 0us\n",
      "bestTest = 0.9924776681\n",
      "bestIteration = 1405\n",
      "Shrink model to first 1406 iterations.\n",
      "0:\tlearn: 0.9722614\ttest: 0.9779031\tbest: 0.9779031 (0)\ttotal: 28.4ms\tremaining: 42.5s\n",
      "500:\tlearn: 0.9771979\ttest: 0.9797837\tbest: 0.9807240 (1)\ttotal: 14.5s\tremaining: 28.9s\n",
      "1000:\tlearn: 0.9870710\ttest: 0.9873061\tbest: 0.9882464 (955)\ttotal: 28.8s\tremaining: 14.4s\n",
      "1499:\tlearn: 0.9889516\ttest: 0.9891866\tbest: 0.9891866 (1447)\ttotal: 43.1s\tremaining: 0us\n",
      "bestTest = 0.9891866479\n",
      "bestIteration = 1447\n",
      "Shrink model to first 1448 iterations.\n",
      "0:\tlearn: 0.9734368\ttest: 0.9797837\tbest: 0.9797837 (0)\ttotal: 31.1ms\tremaining: 46.6s\n",
      "500:\tlearn: 0.9818994\ttest: 0.9849553\tbest: 0.9882464 (167)\ttotal: 14.3s\tremaining: 28.6s\n",
      "1000:\tlearn: 0.9833098\ttest: 0.9854255\tbest: 0.9882464 (167)\ttotal: 28.6s\tremaining: 14.2s\n",
      "1499:\tlearn: 0.9847203\ttest: 0.9863658\tbest: 0.9882464 (167)\ttotal: 43.2s\tremaining: 0us\n",
      "bestTest = 0.9882463564\n",
      "bestIteration = 167\n",
      "Shrink model to first 168 iterations.\n",
      "0.9899702241028052 {'depth': 3, 'iterations': 1500, 'learning_rate': 0.001, 'l2_leaf_reg': 3, 'border_count': 100, 'thread_count': 4, 'eval_metric': 'Accuracy', 'task_type': 'GPU', 'early_stopping_rounds': 2000, 'use_best_model': True, 'verbose': 500} best: 0.9924776681302175 {'depth': 3, 'iterations': 1500, 'learning_rate': 0.03, 'l2_leaf_reg': 3, 'border_count': 100, 'thread_count': 4, 'eval_metric': 'Accuracy', 'task_type': 'GPU', 'early_stopping_rounds': 2000, 'use_best_model': True, 'verbose': 500}\n",
      "0:\tlearn: 0.9696756\ttest: 0.9797837\tbest: 0.9797837 (0)\ttotal: 55.2ms\tremaining: 1m 22s\n",
      "500:\tlearn: 0.9894217\ttest: 0.9910672\tbest: 0.9938881 (238)\ttotal: 15.2s\tremaining: 30.4s\n",
      "1000:\tlearn: 0.9908322\ttest: 0.9915374\tbest: 0.9938881 (238)\ttotal: 29.6s\tremaining: 14.8s\n",
      "1499:\tlearn: 0.9913023\ttest: 0.9920075\tbest: 0.9938881 (238)\ttotal: 43.8s\tremaining: 0us\n",
      "bestTest = 0.9938881053\n",
      "bestIteration = 238\n",
      "Shrink model to first 239 iterations.\n",
      "0:\tlearn: 0.9717913\ttest: 0.9774330\tbest: 0.9774330 (0)\ttotal: 27.8ms\tremaining: 41.6s\n",
      "500:\tlearn: 0.9882464\ttest: 0.9891866\tbest: 0.9901269 (223)\ttotal: 14.5s\tremaining: 28.9s\n",
      "1000:\tlearn: 0.9910672\ttest: 0.9891866\tbest: 0.9901269 (223)\ttotal: 28.8s\tremaining: 14.4s\n",
      "1499:\tlearn: 0.9913023\ttest: 0.9891866\tbest: 0.9901269 (223)\ttotal: 43s\tremaining: 0us\n",
      "bestTest = 0.9901269394\n",
      "bestIteration = 223\n",
      "Shrink model to first 224 iterations.\n",
      "0:\tlearn: 0.9755524\ttest: 0.9821345\tbest: 0.9821345 (0)\ttotal: 25.5ms\tremaining: 38.2s\n",
      "500:\tlearn: 0.9903620\ttest: 0.9915374\tbest: 0.9915374 (348)\ttotal: 14.4s\tremaining: 28.6s\n",
      "1000:\tlearn: 0.9924777\ttest: 0.9920075\tbest: 0.9920075 (871)\ttotal: 28.8s\tremaining: 14.3s\n",
      "1499:\tlearn: 0.9931829\ttest: 0.9929478\tbest: 0.9929478 (1186)\ttotal: 42.9s\tremaining: 0us\n",
      "bestTest = 0.9929478138\n",
      "bestIteration = 1186\n",
      "Shrink model to first 1187 iterations.\n",
      "0.9923209528287101 {'depth': 3, 'iterations': 1500, 'learning_rate': 0.01, 'l2_leaf_reg': 3, 'border_count': 100, 'thread_count': 4, 'eval_metric': 'Accuracy', 'task_type': 'GPU', 'early_stopping_rounds': 2000, 'use_best_model': True, 'verbose': 500} best: 0.9924776681302175 {'depth': 3, 'iterations': 1500, 'learning_rate': 0.03, 'l2_leaf_reg': 3, 'border_count': 100, 'thread_count': 4, 'eval_metric': 'Accuracy', 'task_type': 'GPU', 'early_stopping_rounds': 2000, 'use_best_model': True, 'verbose': 500}\n",
      "0:\tlearn: 0.9739069\ttest: 0.9821345\tbest: 0.9821345 (0)\ttotal: 30.8ms\tremaining: 46.1s\n",
      "500:\tlearn: 0.9948284\ttest: 0.9948284\tbest: 0.9948284 (329)\ttotal: 14.4s\tremaining: 28.7s\n",
      "1000:\tlearn: 0.9950635\ttest: 0.9948284\tbest: 0.9952985 (727)\ttotal: 28.6s\tremaining: 14.3s\n",
      "1499:\tlearn: 0.9952985\ttest: 0.9948284\tbest: 0.9952985 (727)\ttotal: 42.9s\tremaining: 0us\n",
      "bestTest = 0.9952985425\n",
      "bestIteration = 727\n",
      "Shrink model to first 728 iterations.\n",
      "0:\tlearn: 0.9715562\ttest: 0.9769629\tbest: 0.9769629 (0)\ttotal: 30.5ms\tremaining: 45.8s\n",
      "500:\tlearn: 0.9948284\ttest: 0.9901269\tbest: 0.9901269 (138)\ttotal: 14.4s\tremaining: 28.7s\n",
      "1000:\tlearn: 0.9955336\ttest: 0.9915374\tbest: 0.9915374 (816)\ttotal: 28.5s\tremaining: 14.2s\n",
      "1499:\tlearn: 0.9960038\ttest: 0.9915374\tbest: 0.9915374 (816)\ttotal: 42.8s\tremaining: 0us\n",
      "bestTest = 0.9915373766\n",
      "bestIteration = 816\n",
      "Shrink model to first 817 iterations.\n",
      "0:\tlearn: 0.9734368\ttest: 0.9783733\tbest: 0.9783733 (0)\ttotal: 27.8ms\tremaining: 41.6s\n",
      "500:\tlearn: 0.9950635\ttest: 0.9920075\tbest: 0.9924777 (186)\ttotal: 14.2s\tremaining: 28.2s\n",
      "1000:\tlearn: 0.9952985\ttest: 0.9920075\tbest: 0.9924777 (186)\ttotal: 28.3s\tremaining: 14.1s\n",
      "1499:\tlearn: 0.9957687\ttest: 0.9920075\tbest: 0.9924777 (186)\ttotal: 42.6s\tremaining: 0us\n",
      "bestTest = 0.9924776681\n",
      "bestIteration = 186\n",
      "Shrink model to first 187 iterations.\n",
      "0.9931045290706786 {'depth': 3, 'iterations': 1500, 'learning_rate': 0.1, 'l2_leaf_reg': 3, 'border_count': 100, 'thread_count': 4, 'eval_metric': 'Accuracy', 'task_type': 'GPU', 'early_stopping_rounds': 2000, 'use_best_model': True, 'verbose': 500} best: 0.9931045291662423 {'depth': 3, 'iterations': 1500, 'learning_rate': 0.1, 'l2_leaf_reg': 3, 'border_count': 100, 'thread_count': 4, 'eval_metric': 'Accuracy', 'task_type': 'GPU', 'early_stopping_rounds': 2000, 'use_best_model': True, 'verbose': 500}\n"
     ]
    },
    {
     "name": "stdout",
     "output_type": "stream",
     "text": [
      "0:\tlearn: 0.9720263\ttest: 0.9779031\tbest: 0.9779031 (0)\ttotal: 24.3ms\tremaining: 36.4s\n",
      "500:\tlearn: 0.9962388\ttest: 0.9915374\tbest: 0.9915374 (465)\ttotal: 14.3s\tremaining: 28.4s\n",
      "1000:\tlearn: 0.9971791\ttest: 0.9915374\tbest: 0.9915374 (465)\ttotal: 28.4s\tremaining: 14.2s\n",
      "1499:\tlearn: 0.9976493\ttest: 0.9915374\tbest: 0.9920075 (1465)\ttotal: 42.7s\tremaining: 0us\n",
      "bestTest = 0.9920075223\n",
      "bestIteration = 1465\n",
      "Shrink model to first 1466 iterations.\n",
      "0:\tlearn: 0.9804890\ttest: 0.9863658\tbest: 0.9863658 (0)\ttotal: 29.5ms\tremaining: 44.2s\n",
      "500:\tlearn: 0.9960038\ttest: 0.9915374\tbest: 0.9915374 (358)\ttotal: 14.4s\tremaining: 28.7s\n",
      "1000:\tlearn: 0.9962388\ttest: 0.9915374\tbest: 0.9920075 (538)\ttotal: 28.7s\tremaining: 14.3s\n",
      "1499:\tlearn: 0.9964739\ttest: 0.9910672\tbest: 0.9920075 (538)\ttotal: 43s\tremaining: 0us\n",
      "bestTest = 0.9920075223\n",
      "bestIteration = 538\n",
      "Shrink model to first 539 iterations.\n",
      "0:\tlearn: 0.9755524\ttest: 0.9736718\tbest: 0.9736718 (0)\ttotal: 25.8ms\tremaining: 38.7s\n",
      "500:\tlearn: 0.9950635\ttest: 0.9891866\tbest: 0.9901269 (21)\ttotal: 14.3s\tremaining: 28.6s\n",
      "1000:\tlearn: 0.9948284\ttest: 0.9891866\tbest: 0.9901269 (21)\ttotal: 28.7s\tremaining: 14.3s\n",
      "1499:\tlearn: 0.9950635\ttest: 0.9896568\tbest: 0.9901269 (21)\ttotal: 42.9s\tremaining: 0us\n",
      "bestTest = 0.9901269394\n",
      "bestIteration = 21\n",
      "Shrink model to first 22 iterations.\n",
      "0.9913806613383483 {'depth': 3, 'iterations': 1500, 'learning_rate': 0.2, 'l2_leaf_reg': 3, 'border_count': 100, 'thread_count': 4, 'eval_metric': 'Accuracy', 'task_type': 'GPU', 'early_stopping_rounds': 2000, 'use_best_model': True, 'verbose': 500} best: 0.9931045291662423 {'depth': 3, 'iterations': 1500, 'learning_rate': 0.1, 'l2_leaf_reg': 3, 'border_count': 100, 'thread_count': 4, 'eval_metric': 'Accuracy', 'task_type': 'GPU', 'early_stopping_rounds': 2000, 'use_best_model': True, 'verbose': 500}\n",
      "0:\tlearn: 0.9816643\ttest: 0.9868359\tbest: 0.9868359 (0)\ttotal: 30.8ms\tremaining: 46.1s\n",
      "500:\tlearn: 0.9969441\ttest: 0.9891866\tbest: 0.9896568 (332)\ttotal: 14.1s\tremaining: 28.2s\n",
      "1000:\tlearn: 0.9969441\ttest: 0.9901269\tbest: 0.9905971 (777)\ttotal: 28.5s\tremaining: 14.2s\n",
      "1499:\tlearn: 0.9969441\ttest: 0.9891866\tbest: 0.9905971 (777)\ttotal: 42.9s\tremaining: 0us\n",
      "bestTest = 0.9905970851\n",
      "bestIteration = 777\n",
      "Shrink model to first 778 iterations.\n",
      "0:\tlearn: 0.9762576\ttest: 0.9769629\tbest: 0.9769629 (0)\ttotal: 26.8ms\tremaining: 40.2s\n",
      "500:\tlearn: 0.9960038\ttest: 0.9891866\tbest: 0.9905971 (13)\ttotal: 14.1s\tremaining: 28.1s\n",
      "1000:\tlearn: 0.9964739\ttest: 0.9896568\tbest: 0.9905971 (13)\ttotal: 28.7s\tremaining: 14.3s\n",
      "1499:\tlearn: 0.9967090\ttest: 0.9901269\tbest: 0.9905971 (13)\ttotal: 42.9s\tremaining: 0us\n",
      "bestTest = 0.9905970851\n",
      "bestIteration = 13\n",
      "Shrink model to first 14 iterations.\n",
      "0:\tlearn: 0.9739069\ttest: 0.9769629\tbest: 0.9769629 (0)\ttotal: 27.2ms\tremaining: 40.7s\n",
      "500:\tlearn: 0.9967090\ttest: 0.9948284\tbest: 0.9948284 (344)\ttotal: 14.4s\tremaining: 28.8s\n",
      "1000:\tlearn: 0.9974142\ttest: 0.9948284\tbest: 0.9948284 (344)\ttotal: 28.6s\tremaining: 14.3s\n",
      "1499:\tlearn: 0.9976493\ttest: 0.9943583\tbest: 0.9948284 (344)\ttotal: 42.6s\tremaining: 0us\n",
      "bestTest = 0.9948283968\n",
      "bestIteration = 344\n",
      "Shrink model to first 345 iterations.\n",
      "0.992007522331923 {'depth': 3, 'iterations': 1500, 'learning_rate': 0.3, 'l2_leaf_reg': 3, 'border_count': 100, 'thread_count': 4, 'eval_metric': 'Accuracy', 'task_type': 'GPU', 'early_stopping_rounds': 2000, 'use_best_model': True, 'verbose': 500} best: 0.9931045291662423 {'depth': 3, 'iterations': 1500, 'learning_rate': 0.1, 'l2_leaf_reg': 3, 'border_count': 100, 'thread_count': 4, 'eval_metric': 'Accuracy', 'task_type': 'GPU', 'early_stopping_rounds': 2000, 'use_best_model': True, 'verbose': 500}\n",
      "0:\tlearn: 0.9750823\ttest: 0.9840150\tbest: 0.9840150 (0)\ttotal: 30.5ms\tremaining: 1m 1s\n",
      "500:\tlearn: 0.9908322\ttest: 0.9924777\tbest: 0.9929478 (376)\ttotal: 14.2s\tremaining: 42.5s\n",
      "1000:\tlearn: 0.9924777\ttest: 0.9924777\tbest: 0.9929478 (376)\ttotal: 28.6s\tremaining: 28.6s\n",
      "1500:\tlearn: 0.9936530\ttest: 0.9924777\tbest: 0.9929478 (376)\ttotal: 42.7s\tremaining: 14.2s\n",
      "1999:\tlearn: 0.9938881\ttest: 0.9929478\tbest: 0.9929478 (376)\ttotal: 56.8s\tremaining: 0us\n",
      "bestTest = 0.9929478138\n",
      "bestIteration = 376\n",
      "Shrink model to first 377 iterations.\n",
      "0:\tlearn: 0.9767278\ttest: 0.9732017\tbest: 0.9732017 (0)\ttotal: 26.4ms\tremaining: 52.8s\n",
      "500:\tlearn: 0.9948284\ttest: 0.9863658\tbest: 0.9877762 (35)\ttotal: 14.5s\tremaining: 43.3s\n",
      "1000:\tlearn: 0.9960038\ttest: 0.9873061\tbest: 0.9877762 (35)\ttotal: 29.1s\tremaining: 29s\n",
      "1500:\tlearn: 0.9967090\ttest: 0.9873061\tbest: 0.9877762 (35)\ttotal: 43.2s\tremaining: 14.4s\n",
      "1999:\tlearn: 0.9967090\ttest: 0.9877762\tbest: 0.9877762 (35)\ttotal: 57.6s\tremaining: 0us\n",
      "bestTest = 0.9877762106\n",
      "bestIteration = 35\n",
      "Shrink model to first 36 iterations.\n",
      "0:\tlearn: 0.9743771\ttest: 0.9849553\tbest: 0.9849553 (0)\ttotal: 28ms\tremaining: 56s\n",
      "500:\tlearn: 0.9920075\ttest: 0.9920075\tbest: 0.9924777 (134)\ttotal: 14.3s\tremaining: 42.9s\n",
      "1000:\tlearn: 0.9929478\ttest: 0.9920075\tbest: 0.9924777 (134)\ttotal: 28.8s\tremaining: 28.7s\n",
      "1500:\tlearn: 0.9934180\ttest: 0.9915374\tbest: 0.9924777 (134)\ttotal: 43.1s\tremaining: 14.3s\n",
      "1999:\tlearn: 0.9941232\ttest: 0.9910672\tbest: 0.9924777 (134)\ttotal: 57.6s\tremaining: 0us\n",
      "bestTest = 0.9924776681\n",
      "bestIteration = 134\n",
      "Shrink model to first 135 iterations.\n",
      "0.9910672308415608 {'depth': 3, 'iterations': 2000, 'learning_rate': 0.03, 'l2_leaf_reg': 3, 'border_count': 100, 'thread_count': 4, 'eval_metric': 'Accuracy', 'task_type': 'GPU', 'early_stopping_rounds': 2000, 'use_best_model': True, 'verbose': 500} best: 0.9931045291662423 {'depth': 3, 'iterations': 1500, 'learning_rate': 0.1, 'l2_leaf_reg': 3, 'border_count': 100, 'thread_count': 4, 'eval_metric': 'Accuracy', 'task_type': 'GPU', 'early_stopping_rounds': 2000, 'use_best_model': True, 'verbose': 500}\n",
      "0:\tlearn: 0.9767278\ttest: 0.9764927\tbest: 0.9764927 (0)\ttotal: 24.5ms\tremaining: 49.1s\n",
      "500:\tlearn: 0.9786084\ttest: 0.9764927\tbest: 0.9764927 (0)\ttotal: 14.2s\tremaining: 42.4s\n",
      "1000:\tlearn: 0.9790785\ttest: 0.9764927\tbest: 0.9764927 (0)\ttotal: 28.4s\tremaining: 28.4s\n",
      "1500:\tlearn: 0.9847203\ttest: 0.9826046\tbest: 0.9826046 (1006)\ttotal: 42.7s\tremaining: 14.2s\n",
      "1999:\tlearn: 0.9861307\ttest: 0.9821345\tbest: 0.9901269 (1959)\ttotal: 56.9s\tremaining: 0us\n",
      "bestTest = 0.9901269394\n",
      "bestIteration = 1959\n",
      "Shrink model to first 1960 iterations.\n",
      "0:\tlearn: 0.9729666\ttest: 0.9811942\tbest: 0.9811942 (0)\ttotal: 28.2ms\tremaining: 56.3s\n",
      "500:\tlearn: 0.9788434\ttest: 0.9873061\tbest: 0.9882464 (491)\ttotal: 17.2s\tremaining: 51.5s\n",
      "1000:\tlearn: 0.9797837\ttest: 0.9873061\tbest: 0.9882464 (491)\ttotal: 31.9s\tremaining: 31.9s\n",
      "1500:\tlearn: 0.9800188\ttest: 0.9882464\tbest: 0.9882464 (491)\ttotal: 46.4s\tremaining: 15.4s\n",
      "1999:\tlearn: 0.9830748\ttest: 0.9887165\tbest: 0.9887165 (1563)\ttotal: 1m 1s\tremaining: 0us\n",
      "bestTest = 0.9887165021\n",
      "bestIteration = 1563\n",
      "Shrink model to first 1564 iterations.\n",
      "0:\tlearn: 0.9736718\ttest: 0.9807240\tbest: 0.9807240 (0)\ttotal: 26.3ms\tremaining: 52.6s\n",
      "500:\tlearn: 0.9786084\ttest: 0.9873061\tbest: 0.9873061 (400)\ttotal: 14.5s\tremaining: 43.3s\n",
      "1000:\tlearn: 0.9840150\ttest: 0.9863658\tbest: 0.9873061 (400)\ttotal: 29.3s\tremaining: 29.2s\n",
      "1500:\tlearn: 0.9854255\ttest: 0.9868359\tbest: 0.9873061 (400)\ttotal: 44s\tremaining: 14.6s\n",
      "1999:\tlearn: 0.9861307\ttest: 0.9863658\tbest: 0.9873061 (400)\ttotal: 58.7s\tremaining: 0us\n",
      "bestTest = 0.9873060649\n",
      "bestIteration = 400\n",
      "Shrink model to first 401 iterations.\n",
      "0.9887165021156559 {'depth': 3, 'iterations': 2000, 'learning_rate': 0.001, 'l2_leaf_reg': 3, 'border_count': 100, 'thread_count': 4, 'eval_metric': 'Accuracy', 'task_type': 'GPU', 'early_stopping_rounds': 2000, 'use_best_model': True, 'verbose': 500} best: 0.9931045291662423 {'depth': 3, 'iterations': 1500, 'learning_rate': 0.1, 'l2_leaf_reg': 3, 'border_count': 100, 'thread_count': 4, 'eval_metric': 'Accuracy', 'task_type': 'GPU', 'early_stopping_rounds': 2000, 'use_best_model': True, 'verbose': 500}\n",
      "0:\tlearn: 0.9722614\ttest: 0.9788434\tbest: 0.9788434 (0)\ttotal: 26.3ms\tremaining: 52.5s\n",
      "500:\tlearn: 0.9877762\ttest: 0.9948284\tbest: 0.9952985 (426)\ttotal: 14.7s\tremaining: 43.9s\n",
      "1000:\tlearn: 0.9908322\ttest: 0.9952985\tbest: 0.9952985 (426)\ttotal: 29.4s\tremaining: 29.4s\n",
      "1500:\tlearn: 0.9920075\ttest: 0.9952985\tbest: 0.9952985 (426)\ttotal: 43.6s\tremaining: 14.5s\n",
      "1999:\tlearn: 0.9924777\ttest: 0.9952985\tbest: 0.9952985 (426)\ttotal: 57.8s\tremaining: 0us\n",
      "bestTest = 0.9952985425\n",
      "bestIteration = 426\n",
      "Shrink model to first 427 iterations.\n"
     ]
    },
    {
     "name": "stdout",
     "output_type": "stream",
     "text": [
      "0:\tlearn: 0.9755524\ttest: 0.9779031\tbest: 0.9779031 (0)\ttotal: 28.4ms\tremaining: 56.8s\n",
      "500:\tlearn: 0.9889516\ttest: 0.9863658\tbest: 0.9863658 (154)\ttotal: 14.5s\tremaining: 43.3s\n",
      "1000:\tlearn: 0.9903620\ttest: 0.9868359\tbest: 0.9868359 (531)\ttotal: 28.9s\tremaining: 28.9s\n",
      "1500:\tlearn: 0.9922426\ttest: 0.9873061\tbest: 0.9873061 (1153)\ttotal: 43.3s\tremaining: 14.4s\n",
      "1999:\tlearn: 0.9929478\ttest: 0.9877762\tbest: 0.9877762 (1569)\ttotal: 57.6s\tremaining: 0us\n",
      "bestTest = 0.9877762106\n",
      "bestIteration = 1569\n",
      "Shrink model to first 1570 iterations.\n",
      "0:\tlearn: 0.9807240\ttest: 0.9873061\tbest: 0.9873061 (0)\ttotal: 34.2ms\tremaining: 1m 8s\n",
      "500:\tlearn: 0.9922426\ttest: 0.9910672\tbest: 0.9915374 (288)\ttotal: 14.6s\tremaining: 43.6s\n",
      "1000:\tlearn: 0.9941232\ttest: 0.9910672\tbest: 0.9920075 (643)\ttotal: 28.9s\tremaining: 28.8s\n",
      "1500:\tlearn: 0.9945933\ttest: 0.9915374\tbest: 0.9920075 (643)\ttotal: 43.3s\tremaining: 14.4s\n",
      "1999:\tlearn: 0.9950635\ttest: 0.9915374\tbest: 0.9920075 (643)\ttotal: 58.2s\tremaining: 0us\n",
      "bestTest = 0.9920075223\n",
      "bestIteration = 643\n",
      "Shrink model to first 644 iterations.\n",
      "0.9916940918351355 {'depth': 3, 'iterations': 2000, 'learning_rate': 0.01, 'l2_leaf_reg': 3, 'border_count': 100, 'thread_count': 4, 'eval_metric': 'Accuracy', 'task_type': 'GPU', 'early_stopping_rounds': 2000, 'use_best_model': True, 'verbose': 500} best: 0.9931045291662423 {'depth': 3, 'iterations': 1500, 'learning_rate': 0.1, 'l2_leaf_reg': 3, 'border_count': 100, 'thread_count': 4, 'eval_metric': 'Accuracy', 'task_type': 'GPU', 'early_stopping_rounds': 2000, 'use_best_model': True, 'verbose': 500}\n",
      "0:\tlearn: 0.9734368\ttest: 0.9788434\tbest: 0.9788434 (0)\ttotal: 30.5ms\tremaining: 1m\n",
      "500:\tlearn: 0.9955336\ttest: 0.9891866\tbest: 0.9891866 (33)\ttotal: 14.2s\tremaining: 42.3s\n",
      "1000:\tlearn: 0.9960038\ttest: 0.9887165\tbest: 0.9896568 (702)\ttotal: 28.7s\tremaining: 28.6s\n",
      "1500:\tlearn: 0.9957687\ttest: 0.9887165\tbest: 0.9896568 (702)\ttotal: 42.8s\tremaining: 14.2s\n",
      "1999:\tlearn: 0.9960038\ttest: 0.9891866\tbest: 0.9896568 (702)\ttotal: 56.8s\tremaining: 0us\n",
      "bestTest = 0.9896567936\n",
      "bestIteration = 702\n",
      "Shrink model to first 703 iterations.\n",
      "0:\tlearn: 0.9757875\ttest: 0.9774330\tbest: 0.9774330 (0)\ttotal: 35.1ms\tremaining: 1m 10s\n",
      "500:\tlearn: 0.9950635\ttest: 0.9915374\tbest: 0.9920075 (398)\ttotal: 14.2s\tremaining: 42.5s\n",
      "1000:\tlearn: 0.9957687\ttest: 0.9915374\tbest: 0.9920075 (398)\ttotal: 28.4s\tremaining: 28.4s\n",
      "1500:\tlearn: 0.9962388\ttest: 0.9915374\tbest: 0.9920075 (398)\ttotal: 42.6s\tremaining: 14.2s\n",
      "1999:\tlearn: 0.9962388\ttest: 0.9915374\tbest: 0.9920075 (398)\ttotal: 56.9s\tremaining: 0us\n",
      "bestTest = 0.9920075223\n",
      "bestIteration = 398\n",
      "Shrink model to first 399 iterations.\n",
      "0:\tlearn: 0.9734368\ttest: 0.9783733\tbest: 0.9783733 (0)\ttotal: 31.1ms\tremaining: 1m 2s\n",
      "500:\tlearn: 0.9943583\ttest: 0.9920075\tbest: 0.9929478 (27)\ttotal: 14.4s\tremaining: 43s\n",
      "1000:\tlearn: 0.9948284\ttest: 0.9920075\tbest: 0.9929478 (27)\ttotal: 28.7s\tremaining: 28.7s\n",
      "1500:\tlearn: 0.9950635\ttest: 0.9915374\tbest: 0.9929478 (27)\ttotal: 43.2s\tremaining: 14.3s\n",
      "1999:\tlearn: 0.9950635\ttest: 0.9915374\tbest: 0.9929478 (27)\ttotal: 57.6s\tremaining: 0us\n",
      "bestTest = 0.9929478138\n",
      "bestIteration = 27\n",
      "Shrink model to first 28 iterations.\n",
      "0.9915373765867419 {'depth': 3, 'iterations': 2000, 'learning_rate': 0.1, 'l2_leaf_reg': 3, 'border_count': 100, 'thread_count': 4, 'eval_metric': 'Accuracy', 'task_type': 'GPU', 'early_stopping_rounds': 2000, 'use_best_model': True, 'verbose': 500} best: 0.9931045291662423 {'depth': 3, 'iterations': 1500, 'learning_rate': 0.1, 'l2_leaf_reg': 3, 'border_count': 100, 'thread_count': 4, 'eval_metric': 'Accuracy', 'task_type': 'GPU', 'early_stopping_rounds': 2000, 'use_best_model': True, 'verbose': 500}\n",
      "0:\tlearn: 0.9722614\ttest: 0.9816643\tbest: 0.9816643 (0)\ttotal: 25.8ms\tremaining: 51.6s\n",
      "500:\tlearn: 0.9955336\ttest: 0.9938881\tbest: 0.9938881 (60)\ttotal: 14.3s\tremaining: 42.8s\n",
      "1000:\tlearn: 0.9964739\ttest: 0.9948284\tbest: 0.9948284 (833)\ttotal: 28.5s\tremaining: 28.4s\n",
      "1500:\tlearn: 0.9967090\ttest: 0.9948284\tbest: 0.9948284 (833)\ttotal: 42.9s\tremaining: 14.3s\n",
      "1999:\tlearn: 0.9967090\ttest: 0.9948284\tbest: 0.9948284 (833)\ttotal: 57.3s\tremaining: 0us\n",
      "bestTest = 0.9948283968\n",
      "bestIteration = 833\n",
      "Shrink model to first 834 iterations.\n",
      "0:\tlearn: 0.9732017\ttest: 0.9793136\tbest: 0.9793136 (0)\ttotal: 29.4ms\tremaining: 58.7s\n",
      "500:\tlearn: 0.9955336\ttest: 0.9891866\tbest: 0.9891866 (286)\ttotal: 14.2s\tremaining: 42.5s\n",
      "1000:\tlearn: 0.9967090\ttest: 0.9896568\tbest: 0.9896568 (862)\ttotal: 28.6s\tremaining: 28.5s\n",
      "1500:\tlearn: 0.9969441\ttest: 0.9896568\tbest: 0.9896568 (862)\ttotal: 42.9s\tremaining: 14.3s\n",
      "1999:\tlearn: 0.9974142\ttest: 0.9896568\tbest: 0.9896568 (862)\ttotal: 57.2s\tremaining: 0us\n",
      "bestTest = 0.9896567936\n",
      "bestIteration = 862\n",
      "Shrink model to first 863 iterations.\n",
      "0:\tlearn: 0.9736718\ttest: 0.9774330\tbest: 0.9774330 (0)\ttotal: 31.1ms\tremaining: 1m 2s\n",
      "500:\tlearn: 0.9955336\ttest: 0.9901269\tbest: 0.9915374 (12)\ttotal: 14.3s\tremaining: 42.8s\n",
      "1000:\tlearn: 0.9960038\ttest: 0.9905971\tbest: 0.9915374 (12)\ttotal: 28.6s\tremaining: 28.6s\n",
      "1500:\tlearn: 0.9967090\ttest: 0.9910672\tbest: 0.9915374 (12)\ttotal: 43.2s\tremaining: 14.4s\n",
      "1999:\tlearn: 0.9967090\ttest: 0.9910672\tbest: 0.9915374 (12)\ttotal: 57.5s\tremaining: 0us\n",
      "bestTest = 0.9915373766\n",
      "bestIteration = 12\n",
      "Shrink model to first 13 iterations.\n",
      "0.992007522331923 {'depth': 3, 'iterations': 2000, 'learning_rate': 0.2, 'l2_leaf_reg': 3, 'border_count': 100, 'thread_count': 4, 'eval_metric': 'Accuracy', 'task_type': 'GPU', 'early_stopping_rounds': 2000, 'use_best_model': True, 'verbose': 500} best: 0.9931045291662423 {'depth': 3, 'iterations': 1500, 'learning_rate': 0.1, 'l2_leaf_reg': 3, 'border_count': 100, 'thread_count': 4, 'eval_metric': 'Accuracy', 'task_type': 'GPU', 'early_stopping_rounds': 2000, 'use_best_model': True, 'verbose': 500}\n",
      "0:\tlearn: 0.9732017\ttest: 0.9830748\tbest: 0.9830748 (0)\ttotal: 31.7ms\tremaining: 1m 3s\n",
      "500:\tlearn: 0.9967090\ttest: 0.9896568\tbest: 0.9896568 (83)\ttotal: 14.3s\tremaining: 42.7s\n",
      "1000:\tlearn: 0.9967090\ttest: 0.9896568\tbest: 0.9896568 (83)\ttotal: 28.7s\tremaining: 28.6s\n",
      "1500:\tlearn: 0.9967090\ttest: 0.9896568\tbest: 0.9896568 (83)\ttotal: 43s\tremaining: 14.3s\n",
      "1999:\tlearn: 0.9974142\ttest: 0.9891866\tbest: 0.9896568 (83)\ttotal: 57.3s\tremaining: 0us\n",
      "bestTest = 0.9896567936\n",
      "bestIteration = 83\n",
      "Shrink model to first 84 iterations.\n",
      "0:\tlearn: 0.9727315\ttest: 0.9783733\tbest: 0.9783733 (0)\ttotal: 32.2ms\tremaining: 1m 4s\n",
      "500:\tlearn: 0.9955336\ttest: 0.9920075\tbest: 0.9920075 (6)\ttotal: 14.3s\tremaining: 42.9s\n",
      "1000:\tlearn: 0.9960038\ttest: 0.9920075\tbest: 0.9920075 (6)\ttotal: 28.7s\tremaining: 28.7s\n",
      "1500:\tlearn: 0.9964739\ttest: 0.9920075\tbest: 0.9920075 (6)\ttotal: 43.2s\tremaining: 14.4s\n",
      "1999:\tlearn: 0.9964739\ttest: 0.9920075\tbest: 0.9920075 (6)\ttotal: 57.5s\tremaining: 0us\n",
      "bestTest = 0.9920075223\n",
      "bestIteration = 6\n",
      "Shrink model to first 7 iterations.\n",
      "0:\tlearn: 0.9750823\ttest: 0.9802539\tbest: 0.9802539 (0)\ttotal: 26.9ms\tremaining: 53.8s\n",
      "500:\tlearn: 0.9943583\ttest: 0.9915374\tbest: 0.9920075 (75)\ttotal: 14.2s\tremaining: 42.6s\n",
      "1000:\tlearn: 0.9948284\ttest: 0.9915374\tbest: 0.9920075 (75)\ttotal: 28.5s\tremaining: 28.5s\n",
      "1500:\tlearn: 0.9962388\ttest: 0.9920075\tbest: 0.9924777 (1233)\ttotal: 42.9s\tremaining: 14.2s\n",
      "1999:\tlearn: 0.9967090\ttest: 0.9924777\tbest: 0.9924777 (1233)\ttotal: 57.2s\tremaining: 0us\n",
      "bestTest = 0.9924776681\n",
      "bestIteration = 1233\n",
      "Shrink model to first 1234 iterations.\n",
      "0.9913806613383483 {'depth': 3, 'iterations': 2000, 'learning_rate': 0.3, 'l2_leaf_reg': 3, 'border_count': 100, 'thread_count': 4, 'eval_metric': 'Accuracy', 'task_type': 'GPU', 'early_stopping_rounds': 2000, 'use_best_model': True, 'verbose': 500} best: 0.9931045291662423 {'depth': 3, 'iterations': 1500, 'learning_rate': 0.1, 'l2_leaf_reg': 3, 'border_count': 100, 'thread_count': 4, 'eval_metric': 'Accuracy', 'task_type': 'GPU', 'early_stopping_rounds': 2000, 'use_best_model': True, 'verbose': 500}\n",
      "0:\tlearn: 0.9776681\ttest: 0.9774330\tbest: 0.9774330 (0)\ttotal: 30.1ms\tremaining: 1m 15s\n",
      "500:\tlearn: 0.9915374\ttest: 0.9891866\tbest: 0.9896568 (119)\ttotal: 14.6s\tremaining: 58.2s\n",
      "1000:\tlearn: 0.9922426\ttest: 0.9891866\tbest: 0.9896568 (119)\ttotal: 29s\tremaining: 43.4s\n",
      "1500:\tlearn: 0.9927127\ttest: 0.9887165\tbest: 0.9896568 (119)\ttotal: 43.3s\tremaining: 28.8s\n",
      "2000:\tlearn: 0.9929478\ttest: 0.9882464\tbest: 0.9896568 (119)\ttotal: 58.3s\tremaining: 14.5s\n"
     ]
    },
    {
     "name": "stdout",
     "output_type": "stream",
     "text": [
      "bestTest = 0.9896567936\n",
      "bestIteration = 119\n",
      "Shrink model to first 120 iterations.\n",
      "0:\tlearn: 0.9760226\ttest: 0.9835449\tbest: 0.9835449 (0)\ttotal: 30.7ms\tremaining: 1m 16s\n",
      "500:\tlearn: 0.9938881\ttest: 0.9910672\tbest: 0.9924777 (65)\ttotal: 14.3s\tremaining: 57.2s\n",
      "1000:\tlearn: 0.9960038\ttest: 0.9915374\tbest: 0.9924777 (65)\ttotal: 31.4s\tremaining: 47s\n",
      "1500:\tlearn: 0.9967090\ttest: 0.9915374\tbest: 0.9924777 (65)\ttotal: 47.6s\tremaining: 31.7s\n",
      "2000:\tlearn: 0.9969441\ttest: 0.9915374\tbest: 0.9924777 (65)\ttotal: 1m 2s\tremaining: 15.5s\n",
      "bestTest = 0.9924776681\n",
      "bestIteration = 65\n",
      "Shrink model to first 66 iterations.\n",
      "0:\tlearn: 0.9760226\ttest: 0.9779031\tbest: 0.9779031 (0)\ttotal: 33.3ms\tremaining: 1m 23s\n",
      "500:\tlearn: 0.9943583\ttest: 0.9924777\tbest: 0.9924777 (414)\ttotal: 14.7s\tremaining: 58.6s\n",
      "1000:\tlearn: 0.9945933\ttest: 0.9929478\tbest: 0.9929478 (721)\ttotal: 29.1s\tremaining: 43.6s\n",
      "1500:\tlearn: 0.9952985\ttest: 0.9929478\tbest: 0.9929478 (721)\ttotal: 43.4s\tremaining: 28.9s\n",
      "2000:\tlearn: 0.9962388\ttest: 0.9929478\tbest: 0.9929478 (721)\ttotal: 57.7s\tremaining: 14.4s\n",
      "2499:\tlearn: 0.9962388\ttest: 0.9929478\tbest: 0.9929478 (721)\ttotal: 1m 12s\tremaining: 0us\n",
      "bestTest = 0.9929478138\n",
      "bestIteration = 721\n",
      "Shrink model to first 722 iterations.\n",
      "0.9916940918351355 {'depth': 3, 'iterations': 2500, 'learning_rate': 0.03, 'l2_leaf_reg': 3, 'border_count': 100, 'thread_count': 4, 'eval_metric': 'Accuracy', 'task_type': 'GPU', 'early_stopping_rounds': 2000, 'use_best_model': True, 'verbose': 500} best: 0.9931045291662423 {'depth': 3, 'iterations': 1500, 'learning_rate': 0.1, 'l2_leaf_reg': 3, 'border_count': 100, 'thread_count': 4, 'eval_metric': 'Accuracy', 'task_type': 'GPU', 'early_stopping_rounds': 2000, 'use_best_model': True, 'verbose': 500}\n",
      "0:\tlearn: 0.9809591\ttest: 0.9868359\tbest: 0.9868359 (0)\ttotal: 28.5ms\tremaining: 1m 11s\n",
      "500:\tlearn: 0.9837800\ttest: 0.9887165\tbest: 0.9896568 (360)\ttotal: 14.5s\tremaining: 57.8s\n",
      "1000:\tlearn: 0.9844852\ttest: 0.9887165\tbest: 0.9896568 (360)\ttotal: 29s\tremaining: 43.4s\n",
      "1500:\tlearn: 0.9863658\ttest: 0.9887165\tbest: 0.9896568 (360)\ttotal: 43.5s\tremaining: 29s\n",
      "2000:\tlearn: 0.9877762\ttest: 0.9887165\tbest: 0.9896568 (360)\ttotal: 58s\tremaining: 14.5s\n",
      "bestTest = 0.9896567936\n",
      "bestIteration = 360\n",
      "Shrink model to first 361 iterations.\n",
      "0:\tlearn: 0.9757875\ttest: 0.9779031\tbest: 0.9779031 (0)\ttotal: 29.5ms\tremaining: 1m 13s\n",
      "500:\tlearn: 0.9802539\ttest: 0.9802539\tbest: 0.9844852 (237)\ttotal: 14.5s\tremaining: 57.9s\n",
      "1000:\tlearn: 0.9804890\ttest: 0.9802539\tbest: 0.9844852 (237)\ttotal: 29s\tremaining: 43.4s\n",
      "1500:\tlearn: 0.9823695\ttest: 0.9816643\tbest: 0.9844852 (237)\ttotal: 43.3s\tremaining: 28.8s\n",
      "2000:\tlearn: 0.9884814\ttest: 0.9910672\tbest: 0.9924777 (1735)\ttotal: 57.7s\tremaining: 14.4s\n",
      "2499:\tlearn: 0.9889516\ttest: 0.9905971\tbest: 0.9924777 (1735)\ttotal: 1m 12s\tremaining: 0us\n",
      "bestTest = 0.9924776681\n",
      "bestIteration = 1735\n",
      "Shrink model to first 1736 iterations.\n",
      "0:\tlearn: 0.9748472\ttest: 0.9760226\tbest: 0.9760226 (0)\ttotal: 28.3ms\tremaining: 1m 10s\n",
      "500:\tlearn: 0.9854255\ttest: 0.9910672\tbest: 0.9910672 (500)\ttotal: 14.3s\tremaining: 57.1s\n",
      "1000:\tlearn: 0.9870710\ttest: 0.9905971\tbest: 0.9910672 (500)\ttotal: 28.6s\tremaining: 42.8s\n",
      "1500:\tlearn: 0.9856606\ttest: 0.9882464\tbest: 0.9910672 (500)\ttotal: 43.3s\tremaining: 28.8s\n",
      "2000:\tlearn: 0.9856606\ttest: 0.9877762\tbest: 0.9910672 (500)\ttotal: 59.5s\tremaining: 14.8s\n",
      "2499:\tlearn: 0.9863658\ttest: 0.9882464\tbest: 0.9910672 (500)\ttotal: 1m 13s\tremaining: 0us\n",
      "bestTest = 0.9910672308\n",
      "bestIteration = 500\n",
      "Shrink model to first 501 iterations.\n",
      "0.9910672308415608 {'depth': 3, 'iterations': 2500, 'learning_rate': 0.001, 'l2_leaf_reg': 3, 'border_count': 100, 'thread_count': 4, 'eval_metric': 'Accuracy', 'task_type': 'GPU', 'early_stopping_rounds': 2000, 'use_best_model': True, 'verbose': 500} best: 0.9931045291662423 {'depth': 3, 'iterations': 1500, 'learning_rate': 0.1, 'l2_leaf_reg': 3, 'border_count': 100, 'thread_count': 4, 'eval_metric': 'Accuracy', 'task_type': 'GPU', 'early_stopping_rounds': 2000, 'use_best_model': True, 'verbose': 500}\n",
      "0:\tlearn: 0.9746121\ttest: 0.9788434\tbest: 0.9788434 (0)\ttotal: 28.8ms\tremaining: 1m 12s\n",
      "500:\tlearn: 0.9898919\ttest: 0.9901269\tbest: 0.9905971 (134)\ttotal: 14.4s\tremaining: 57.4s\n",
      "1000:\tlearn: 0.9915374\ttest: 0.9905971\tbest: 0.9915374 (764)\ttotal: 28.6s\tremaining: 42.8s\n",
      "1500:\tlearn: 0.9924777\ttest: 0.9905971\tbest: 0.9915374 (764)\ttotal: 42.4s\tremaining: 28.2s\n",
      "2000:\tlearn: 0.9948284\ttest: 0.9910672\tbest: 0.9915374 (764)\ttotal: 54.7s\tremaining: 13.6s\n",
      "2499:\tlearn: 0.9948284\ttest: 0.9905971\tbest: 0.9915374 (764)\ttotal: 1m 6s\tremaining: 0us\n",
      "bestTest = 0.9915373766\n",
      "bestIteration = 764\n",
      "Shrink model to first 765 iterations.\n",
      "0:\tlearn: 0.9727315\ttest: 0.9858956\tbest: 0.9858956 (0)\ttotal: 23.8ms\tremaining: 59.5s\n",
      "500:\tlearn: 0.9889516\ttest: 0.9948284\tbest: 0.9948284 (254)\ttotal: 11.8s\tremaining: 46.9s\n",
      "1000:\tlearn: 0.9898919\ttest: 0.9943583\tbest: 0.9948284 (254)\ttotal: 23.2s\tremaining: 34.7s\n",
      "1500:\tlearn: 0.9913023\ttest: 0.9943583\tbest: 0.9948284 (254)\ttotal: 34.9s\tremaining: 23.2s\n",
      "2000:\tlearn: 0.9922426\ttest: 0.9943583\tbest: 0.9948284 (254)\ttotal: 46.5s\tremaining: 11.6s\n",
      "bestTest = 0.9948283968\n",
      "bestIteration = 254\n",
      "Shrink model to first 255 iterations.\n",
      "0:\tlearn: 0.9729666\ttest: 0.9750823\tbest: 0.9750823 (0)\ttotal: 23.4ms\tremaining: 58.5s\n",
      "500:\tlearn: 0.9891866\ttest: 0.9887165\tbest: 0.9887165 (386)\ttotal: 11.6s\tremaining: 46.5s\n",
      "1000:\tlearn: 0.9905971\ttest: 0.9896568\tbest: 0.9896568 (818)\ttotal: 23.1s\tremaining: 34.6s\n",
      "1500:\tlearn: 0.9917724\ttest: 0.9896568\tbest: 0.9896568 (818)\ttotal: 34.5s\tremaining: 23s\n",
      "2000:\tlearn: 0.9927127\ttest: 0.9901269\tbest: 0.9901269 (1703)\ttotal: 45.9s\tremaining: 11.5s\n",
      "2499:\tlearn: 0.9931829\ttest: 0.9901269\tbest: 0.9901269 (1703)\ttotal: 57.4s\tremaining: 0us\n",
      "bestTest = 0.9901269394\n",
      "bestIteration = 1703\n",
      "Shrink model to first 1704 iterations.\n",
      "0.9921642375803166 {'depth': 3, 'iterations': 2500, 'learning_rate': 0.01, 'l2_leaf_reg': 3, 'border_count': 100, 'thread_count': 4, 'eval_metric': 'Accuracy', 'task_type': 'GPU', 'early_stopping_rounds': 2000, 'use_best_model': True, 'verbose': 500} best: 0.9931045291662423 {'depth': 3, 'iterations': 1500, 'learning_rate': 0.1, 'l2_leaf_reg': 3, 'border_count': 100, 'thread_count': 4, 'eval_metric': 'Accuracy', 'task_type': 'GPU', 'early_stopping_rounds': 2000, 'use_best_model': True, 'verbose': 500}\n",
      "0:\tlearn: 0.9727315\ttest: 0.9835449\tbest: 0.9835449 (0)\ttotal: 22ms\tremaining: 54.9s\n",
      "500:\tlearn: 0.9960038\ttest: 0.9905971\tbest: 0.9915374 (116)\ttotal: 11.6s\tremaining: 46.5s\n",
      "1000:\tlearn: 0.9962388\ttest: 0.9905971\tbest: 0.9915374 (116)\ttotal: 24.3s\tremaining: 36.5s\n",
      "1500:\tlearn: 0.9967090\ttest: 0.9910672\tbest: 0.9915374 (116)\ttotal: 38.7s\tremaining: 25.7s\n",
      "2000:\tlearn: 0.9971791\ttest: 0.9905971\tbest: 0.9915374 (116)\ttotal: 53.5s\tremaining: 13.3s\n",
      "bestTest = 0.9915373766\n",
      "bestIteration = 116\n",
      "Shrink model to first 117 iterations.\n",
      "0:\tlearn: 0.9743771\ttest: 0.9788434\tbest: 0.9788434 (0)\ttotal: 28.2ms\tremaining: 1m 10s\n",
      "500:\tlearn: 0.9955336\ttest: 0.9905971\tbest: 0.9915374 (103)\ttotal: 12.3s\tremaining: 49.2s\n",
      "1000:\tlearn: 0.9967090\ttest: 0.9920075\tbest: 0.9920075 (854)\ttotal: 23.7s\tremaining: 35.5s\n",
      "1500:\tlearn: 0.9967090\ttest: 0.9915374\tbest: 0.9924777 (1059)\ttotal: 35.6s\tremaining: 23.7s\n",
      "2000:\tlearn: 0.9971791\ttest: 0.9924777\tbest: 0.9924777 (1059)\ttotal: 47.1s\tremaining: 11.8s\n",
      "2499:\tlearn: 0.9969441\ttest: 0.9924777\tbest: 0.9924777 (1059)\ttotal: 58.2s\tremaining: 0us\n",
      "bestTest = 0.9924776681\n",
      "bestIteration = 1059\n",
      "Shrink model to first 1060 iterations.\n",
      "0:\tlearn: 0.9757875\ttest: 0.9783733\tbest: 0.9783733 (0)\ttotal: 22.3ms\tremaining: 55.8s\n",
      "500:\tlearn: 0.9943583\ttest: 0.9934180\tbest: 0.9934180 (178)\ttotal: 11.4s\tremaining: 45.7s\n",
      "1000:\tlearn: 0.9950635\ttest: 0.9934180\tbest: 0.9934180 (178)\ttotal: 23s\tremaining: 34.5s\n",
      "1500:\tlearn: 0.9950635\ttest: 0.9929478\tbest: 0.9934180 (178)\ttotal: 36.4s\tremaining: 24.2s\n",
      "2000:\tlearn: 0.9950635\ttest: 0.9934180\tbest: 0.9934180 (178)\ttotal: 50.7s\tremaining: 12.6s\n",
      "bestTest = 0.9934179596\n",
      "bestIteration = 178\n",
      "Shrink model to first 179 iterations.\n",
      "0.9924776680771039 {'depth': 3, 'iterations': 2500, 'learning_rate': 0.1, 'l2_leaf_reg': 3, 'border_count': 100, 'thread_count': 4, 'eval_metric': 'Accuracy', 'task_type': 'GPU', 'early_stopping_rounds': 2000, 'use_best_model': True, 'verbose': 500} best: 0.9931045291662423 {'depth': 3, 'iterations': 1500, 'learning_rate': 0.1, 'l2_leaf_reg': 3, 'border_count': 100, 'thread_count': 4, 'eval_metric': 'Accuracy', 'task_type': 'GPU', 'early_stopping_rounds': 2000, 'use_best_model': True, 'verbose': 500}\n"
     ]
    },
    {
     "name": "stdout",
     "output_type": "stream",
     "text": [
      "0:\tlearn: 0.9746121\ttest: 0.9835449\tbest: 0.9835449 (0)\ttotal: 26.7ms\tremaining: 1m 6s\n",
      "500:\tlearn: 0.9964739\ttest: 0.9938881\tbest: 0.9938881 (338)\ttotal: 14.3s\tremaining: 57s\n",
      "1000:\tlearn: 0.9967090\ttest: 0.9934180\tbest: 0.9938881 (338)\ttotal: 28.7s\tremaining: 43s\n",
      "1500:\tlearn: 0.9964739\ttest: 0.9934180\tbest: 0.9938881 (338)\ttotal: 43.1s\tremaining: 28.7s\n",
      "2000:\tlearn: 0.9962388\ttest: 0.9929478\tbest: 0.9938881 (338)\ttotal: 57.4s\tremaining: 14.3s\n",
      "bestTest = 0.9938881053\n",
      "bestIteration = 338\n",
      "Shrink model to first 339 iterations.\n",
      "0:\tlearn: 0.9741420\ttest: 0.9783733\tbest: 0.9783733 (0)\ttotal: 29.8ms\tremaining: 1m 14s\n",
      "500:\tlearn: 0.9931829\ttest: 0.9910672\tbest: 0.9920075 (8)\ttotal: 14s\tremaining: 56.1s\n",
      "1000:\tlearn: 0.9941232\ttest: 0.9910672\tbest: 0.9920075 (8)\ttotal: 28.3s\tremaining: 42.4s\n",
      "1500:\tlearn: 0.9945933\ttest: 0.9905971\tbest: 0.9920075 (8)\ttotal: 42.6s\tremaining: 28.4s\n",
      "2000:\tlearn: 0.9950635\ttest: 0.9905971\tbest: 0.9920075 (8)\ttotal: 57.1s\tremaining: 14.2s\n",
      "bestTest = 0.9920075223\n",
      "bestIteration = 8\n",
      "Shrink model to first 9 iterations.\n",
      "0:\tlearn: 0.9739069\ttest: 0.9783733\tbest: 0.9783733 (0)\ttotal: 30.6ms\tremaining: 1m 16s\n",
      "500:\tlearn: 0.9967090\ttest: 0.9910672\tbest: 0.9910672 (278)\ttotal: 14.5s\tremaining: 57.7s\n",
      "1000:\tlearn: 0.9971791\ttest: 0.9905971\tbest: 0.9910672 (278)\ttotal: 28.9s\tremaining: 43.4s\n",
      "1500:\tlearn: 0.9976493\ttest: 0.9905971\tbest: 0.9910672 (278)\ttotal: 43.2s\tremaining: 28.7s\n",
      "2000:\tlearn: 0.9976493\ttest: 0.9901269\tbest: 0.9910672 (278)\ttotal: 57.4s\tremaining: 14.3s\n",
      "bestTest = 0.9910672308\n",
      "bestIteration = 278\n",
      "Shrink model to first 279 iterations.\n",
      "0.9923209528287101 {'depth': 3, 'iterations': 2500, 'learning_rate': 0.2, 'l2_leaf_reg': 3, 'border_count': 100, 'thread_count': 4, 'eval_metric': 'Accuracy', 'task_type': 'GPU', 'early_stopping_rounds': 2000, 'use_best_model': True, 'verbose': 500} best: 0.9931045291662423 {'depth': 3, 'iterations': 1500, 'learning_rate': 0.1, 'l2_leaf_reg': 3, 'border_count': 100, 'thread_count': 4, 'eval_metric': 'Accuracy', 'task_type': 'GPU', 'early_stopping_rounds': 2000, 'use_best_model': True, 'verbose': 500}\n",
      "0:\tlearn: 0.9753173\ttest: 0.9807240\tbest: 0.9807240 (0)\ttotal: 30.3ms\tremaining: 1m 15s\n",
      "500:\tlearn: 0.9948284\ttest: 0.9934180\tbest: 0.9938881 (117)\ttotal: 14.3s\tremaining: 57.2s\n",
      "1000:\tlearn: 0.9957687\ttest: 0.9929478\tbest: 0.9938881 (117)\ttotal: 28.7s\tremaining: 43s\n",
      "1500:\tlearn: 0.9960038\ttest: 0.9934180\tbest: 0.9938881 (117)\ttotal: 43s\tremaining: 28.6s\n",
      "2000:\tlearn: 0.9962388\ttest: 0.9934180\tbest: 0.9938881 (117)\ttotal: 57.3s\tremaining: 14.3s\n",
      "bestTest = 0.9938881053\n",
      "bestIteration = 117\n",
      "Shrink model to first 118 iterations.\n",
      "0:\tlearn: 0.9720263\ttest: 0.9821345\tbest: 0.9821345 (0)\ttotal: 28.7ms\tremaining: 1m 11s\n",
      "500:\tlearn: 0.9969441\ttest: 0.9901269\tbest: 0.9905971 (189)\ttotal: 15.8s\tremaining: 1m 2s\n",
      "1000:\tlearn: 0.9969441\ttest: 0.9896568\tbest: 0.9905971 (189)\ttotal: 30.4s\tremaining: 45.5s\n",
      "1500:\tlearn: 0.9969441\ttest: 0.9901269\tbest: 0.9905971 (189)\ttotal: 44.8s\tremaining: 29.8s\n",
      "2000:\tlearn: 0.9971791\ttest: 0.9901269\tbest: 0.9915374 (1700)\ttotal: 59.2s\tremaining: 14.8s\n",
      "2499:\tlearn: 0.9971791\ttest: 0.9910672\tbest: 0.9915374 (1700)\ttotal: 1m 13s\tremaining: 0us\n",
      "bestTest = 0.9915373766\n",
      "bestIteration = 1700\n",
      "Shrink model to first 1701 iterations.\n",
      "0:\tlearn: 0.9753173\ttest: 0.9741420\tbest: 0.9741420 (0)\ttotal: 30.6ms\tremaining: 1m 16s\n",
      "500:\tlearn: 0.9962388\ttest: 0.9901269\tbest: 0.9910672 (18)\ttotal: 14.3s\tremaining: 57.3s\n",
      "1000:\tlearn: 0.9967090\ttest: 0.9891866\tbest: 0.9910672 (18)\ttotal: 28.7s\tremaining: 43s\n",
      "1500:\tlearn: 0.9967090\ttest: 0.9887165\tbest: 0.9910672 (18)\ttotal: 43.1s\tremaining: 28.7s\n",
      "2000:\tlearn: 0.9976493\ttest: 0.9891866\tbest: 0.9910672 (18)\ttotal: 57.4s\tremaining: 14.3s\n",
      "bestTest = 0.9910672308\n",
      "bestIteration = 18\n",
      "Shrink model to first 19 iterations.\n",
      "0.9921642375803166 {'depth': 3, 'iterations': 2500, 'learning_rate': 0.3, 'l2_leaf_reg': 3, 'border_count': 100, 'thread_count': 4, 'eval_metric': 'Accuracy', 'task_type': 'GPU', 'early_stopping_rounds': 2000, 'use_best_model': True, 'verbose': 500} best: 0.9931045291662423 {'depth': 3, 'iterations': 1500, 'learning_rate': 0.1, 'l2_leaf_reg': 3, 'border_count': 100, 'thread_count': 4, 'eval_metric': 'Accuracy', 'task_type': 'GPU', 'early_stopping_rounds': 2000, 'use_best_model': True, 'verbose': 500}\n",
      "0:\tlearn: 0.9729666\ttest: 0.9783733\tbest: 0.9783733 (0)\ttotal: 29.7ms\tremaining: 1m 29s\n",
      "500:\tlearn: 0.9924777\ttest: 0.9891866\tbest: 0.9891866 (113)\ttotal: 14.3s\tremaining: 1m 11s\n",
      "1000:\tlearn: 0.9934180\ttest: 0.9887165\tbest: 0.9891866 (113)\ttotal: 28.4s\tremaining: 56.6s\n",
      "1500:\tlearn: 0.9943583\ttest: 0.9891866\tbest: 0.9891866 (113)\ttotal: 42.8s\tremaining: 42.7s\n",
      "2000:\tlearn: 0.9948284\ttest: 0.9891866\tbest: 0.9891866 (113)\ttotal: 57.2s\tremaining: 28.6s\n",
      "bestTest = 0.9891866479\n",
      "bestIteration = 113\n",
      "Shrink model to first 114 iterations.\n",
      "0:\tlearn: 0.9757875\ttest: 0.9774330\tbest: 0.9774330 (0)\ttotal: 30.1ms\tremaining: 1m 30s\n",
      "500:\tlearn: 0.9945933\ttest: 0.9877762\tbest: 0.9891866 (87)\ttotal: 14.9s\tremaining: 1m 14s\n",
      "1000:\tlearn: 0.9960038\ttest: 0.9877762\tbest: 0.9891866 (87)\ttotal: 29.3s\tremaining: 58.6s\n",
      "1500:\tlearn: 0.9967090\ttest: 0.9877762\tbest: 0.9891866 (87)\ttotal: 41.8s\tremaining: 41.8s\n",
      "2000:\tlearn: 0.9967090\ttest: 0.9873061\tbest: 0.9891866 (87)\ttotal: 53.2s\tremaining: 26.5s\n",
      "bestTest = 0.9891866479\n",
      "bestIteration = 87\n",
      "Shrink model to first 88 iterations.\n",
      "0:\tlearn: 0.9750823\ttest: 0.9802539\tbest: 0.9802539 (0)\ttotal: 23.5ms\tremaining: 1m 10s\n",
      "500:\tlearn: 0.9936530\ttest: 0.9948284\tbest: 0.9948284 (494)\ttotal: 11.4s\tremaining: 56.6s\n",
      "1000:\tlearn: 0.9945933\ttest: 0.9948284\tbest: 0.9948284 (494)\ttotal: 23s\tremaining: 45.9s\n",
      "1500:\tlearn: 0.9955336\ttest: 0.9948284\tbest: 0.9948284 (494)\ttotal: 34.6s\tremaining: 34.5s\n",
      "2000:\tlearn: 0.9957687\ttest: 0.9948284\tbest: 0.9948284 (494)\ttotal: 46.3s\tremaining: 23.1s\n",
      "bestTest = 0.9948283968\n",
      "bestIteration = 494\n",
      "Shrink model to first 495 iterations.\n",
      "0.9910672308415608 {'depth': 3, 'iterations': 3000, 'learning_rate': 0.03, 'l2_leaf_reg': 3, 'border_count': 100, 'thread_count': 4, 'eval_metric': 'Accuracy', 'task_type': 'GPU', 'early_stopping_rounds': 2000, 'use_best_model': True, 'verbose': 500} best: 0.9931045291662423 {'depth': 3, 'iterations': 1500, 'learning_rate': 0.1, 'l2_leaf_reg': 3, 'border_count': 100, 'thread_count': 4, 'eval_metric': 'Accuracy', 'task_type': 'GPU', 'early_stopping_rounds': 2000, 'use_best_model': True, 'verbose': 500}\n",
      "0:\tlearn: 0.9727315\ttest: 0.9783733\tbest: 0.9783733 (0)\ttotal: 22.5ms\tremaining: 1m 7s\n",
      "500:\tlearn: 0.9757875\ttest: 0.9788434\tbest: 0.9788434 (378)\ttotal: 11.6s\tremaining: 57.6s\n",
      "1000:\tlearn: 0.9760226\ttest: 0.9788434\tbest: 0.9788434 (378)\ttotal: 23.1s\tremaining: 46.1s\n",
      "1500:\tlearn: 0.9828397\ttest: 0.9858956\tbest: 0.9858956 (1064)\ttotal: 34.7s\tremaining: 34.7s\n",
      "2000:\tlearn: 0.9833098\ttest: 0.9858956\tbest: 0.9858956 (1064)\ttotal: 46.5s\tremaining: 23.2s\n",
      "2500:\tlearn: 0.9870710\ttest: 0.9934180\tbest: 0.9934180 (2220)\ttotal: 57.9s\tremaining: 11.6s\n",
      "2999:\tlearn: 0.9889516\ttest: 0.9934180\tbest: 0.9934180 (2220)\ttotal: 1m 9s\tremaining: 0us\n",
      "bestTest = 0.9934179596\n",
      "bestIteration = 2220\n",
      "Shrink model to first 2221 iterations.\n",
      "0:\tlearn: 0.9797837\ttest: 0.9873061\tbest: 0.9873061 (0)\ttotal: 22.1ms\tremaining: 1m 6s\n",
      "500:\tlearn: 0.9804890\ttest: 0.9873061\tbest: 0.9873061 (0)\ttotal: 11.6s\tremaining: 57.9s\n",
      "1000:\tlearn: 0.9814292\ttest: 0.9877762\tbest: 0.9877762 (1000)\ttotal: 23.4s\tremaining: 46.8s\n",
      "1500:\tlearn: 0.9835449\ttest: 0.9901269\tbest: 0.9901269 (1395)\ttotal: 35s\tremaining: 35s\n",
      "2000:\tlearn: 0.9854255\ttest: 0.9901269\tbest: 0.9901269 (1395)\ttotal: 46.4s\tremaining: 23.2s\n",
      "2500:\tlearn: 0.9858956\ttest: 0.9901269\tbest: 0.9901269 (1395)\ttotal: 58.7s\tremaining: 11.7s\n",
      "2999:\tlearn: 0.9858956\ttest: 0.9905971\tbest: 0.9905971 (2621)\ttotal: 1m 10s\tremaining: 0us\n",
      "bestTest = 0.9905970851\n",
      "bestIteration = 2621\n",
      "Shrink model to first 2622 iterations.\n",
      "0:\tlearn: 0.9764927\ttest: 0.9774330\tbest: 0.9774330 (0)\ttotal: 21.7ms\tremaining: 1m 5s\n",
      "500:\tlearn: 0.9795487\ttest: 0.9769629\tbest: 0.9779031 (4)\ttotal: 11.3s\tremaining: 56.2s\n",
      "1000:\tlearn: 0.9835449\ttest: 0.9830748\tbest: 0.9849553 (528)\ttotal: 22.7s\tremaining: 45.3s\n",
      "1500:\tlearn: 0.9849553\ttest: 0.9849553\tbest: 0.9849553 (528)\ttotal: 34.3s\tremaining: 34.2s\n",
      "2000:\tlearn: 0.9858956\ttest: 0.9849553\tbest: 0.9849553 (528)\ttotal: 45.9s\tremaining: 22.9s\n"
     ]
    },
    {
     "name": "stdout",
     "output_type": "stream",
     "text": [
      "2500:\tlearn: 0.9887165\ttest: 0.9854255\tbest: 0.9858956 (2168)\ttotal: 58.1s\tremaining: 11.6s\n",
      "2999:\tlearn: 0.9894217\ttest: 0.9858956\tbest: 0.9858956 (2168)\ttotal: 1m 9s\tremaining: 0us\n",
      "bestTest = 0.9858956276\n",
      "bestIteration = 2168\n",
      "Shrink model to first 2169 iterations.\n",
      "0.9899702241028052 {'depth': 3, 'iterations': 3000, 'learning_rate': 0.001, 'l2_leaf_reg': 3, 'border_count': 100, 'thread_count': 4, 'eval_metric': 'Accuracy', 'task_type': 'GPU', 'early_stopping_rounds': 2000, 'use_best_model': True, 'verbose': 500} best: 0.9931045291662423 {'depth': 3, 'iterations': 1500, 'learning_rate': 0.1, 'l2_leaf_reg': 3, 'border_count': 100, 'thread_count': 4, 'eval_metric': 'Accuracy', 'task_type': 'GPU', 'early_stopping_rounds': 2000, 'use_best_model': True, 'verbose': 500}\n",
      "0:\tlearn: 0.9736718\ttest: 0.9755524\tbest: 0.9755524 (0)\ttotal: 22.7ms\tremaining: 1m 7s\n",
      "500:\tlearn: 0.9880113\ttest: 0.9920075\tbest: 0.9920075 (264)\ttotal: 11.7s\tremaining: 58.2s\n",
      "1000:\tlearn: 0.9901269\ttest: 0.9920075\tbest: 0.9920075 (264)\ttotal: 23s\tremaining: 45.9s\n",
      "1500:\tlearn: 0.9915374\ttest: 0.9924777\tbest: 0.9924777 (1127)\ttotal: 34.5s\tremaining: 34.5s\n",
      "2000:\tlearn: 0.9924777\ttest: 0.9924777\tbest: 0.9924777 (1127)\ttotal: 46.1s\tremaining: 23s\n",
      "2500:\tlearn: 0.9934180\ttest: 0.9920075\tbest: 0.9924777 (1127)\ttotal: 57.6s\tremaining: 11.5s\n",
      "2999:\tlearn: 0.9941232\ttest: 0.9920075\tbest: 0.9924777 (1127)\ttotal: 1m 9s\tremaining: 0us\n",
      "bestTest = 0.9924776681\n",
      "bestIteration = 1127\n",
      "Shrink model to first 1128 iterations.\n",
      "0:\tlearn: 0.9779031\ttest: 0.9769629\tbest: 0.9769629 (0)\ttotal: 22.4ms\tremaining: 1m 7s\n",
      "500:\tlearn: 0.9887165\ttest: 0.9901269\tbest: 0.9901269 (394)\ttotal: 11.6s\tremaining: 58s\n",
      "1000:\tlearn: 0.9913023\ttest: 0.9891866\tbest: 0.9901269 (394)\ttotal: 23.1s\tremaining: 46.2s\n",
      "1500:\tlearn: 0.9931829\ttest: 0.9905971\tbest: 0.9905971 (1278)\ttotal: 34.5s\tremaining: 34.4s\n",
      "2000:\tlearn: 0.9936530\ttest: 0.9924777\tbest: 0.9924777 (1720)\ttotal: 46.1s\tremaining: 23s\n",
      "2500:\tlearn: 0.9936530\ttest: 0.9924777\tbest: 0.9924777 (1720)\ttotal: 58.1s\tremaining: 11.6s\n",
      "2999:\tlearn: 0.9936530\ttest: 0.9929478\tbest: 0.9929478 (2557)\ttotal: 1m 9s\tremaining: 0us\n",
      "bestTest = 0.9929478138\n",
      "bestIteration = 2557\n",
      "Shrink model to first 2558 iterations.\n",
      "0:\tlearn: 0.9783733\ttest: 0.9849553\tbest: 0.9849553 (0)\ttotal: 21.8ms\tremaining: 1m 5s\n",
      "500:\tlearn: 0.9898919\ttest: 0.9905971\tbest: 0.9920075 (87)\ttotal: 11.7s\tremaining: 58.3s\n",
      "1000:\tlearn: 0.9924777\ttest: 0.9910672\tbest: 0.9920075 (87)\ttotal: 23.4s\tremaining: 46.8s\n",
      "1500:\tlearn: 0.9934180\ttest: 0.9910672\tbest: 0.9920075 (87)\ttotal: 35.3s\tremaining: 35.2s\n",
      "2000:\tlearn: 0.9936530\ttest: 0.9910672\tbest: 0.9920075 (87)\ttotal: 47s\tremaining: 23.5s\n",
      "bestTest = 0.9920075223\n",
      "bestIteration = 87\n",
      "Shrink model to first 88 iterations.\n",
      "0.9924776680771039 {'depth': 3, 'iterations': 3000, 'learning_rate': 0.01, 'l2_leaf_reg': 3, 'border_count': 100, 'thread_count': 4, 'eval_metric': 'Accuracy', 'task_type': 'GPU', 'early_stopping_rounds': 2000, 'use_best_model': True, 'verbose': 500} best: 0.9931045291662423 {'depth': 3, 'iterations': 1500, 'learning_rate': 0.1, 'l2_leaf_reg': 3, 'border_count': 100, 'thread_count': 4, 'eval_metric': 'Accuracy', 'task_type': 'GPU', 'early_stopping_rounds': 2000, 'use_best_model': True, 'verbose': 500}\n",
      "0:\tlearn: 0.9729666\ttest: 0.9835449\tbest: 0.9835449 (0)\ttotal: 22.8ms\tremaining: 1m 8s\n",
      "500:\tlearn: 0.9927127\ttest: 0.9915374\tbest: 0.9924777 (67)\ttotal: 11.4s\tremaining: 56.8s\n",
      "1000:\tlearn: 0.9943583\ttest: 0.9924777\tbest: 0.9924777 (67)\ttotal: 22.5s\tremaining: 44.9s\n",
      "1500:\tlearn: 0.9945933\ttest: 0.9924777\tbest: 0.9924777 (67)\ttotal: 33.2s\tremaining: 33.2s\n",
      "2000:\tlearn: 0.9955336\ttest: 0.9934180\tbest: 0.9934180 (1662)\ttotal: 44.5s\tremaining: 22.2s\n",
      "2500:\tlearn: 0.9957687\ttest: 0.9929478\tbest: 0.9934180 (1662)\ttotal: 55.6s\tremaining: 11.1s\n",
      "2999:\tlearn: 0.9960038\ttest: 0.9934180\tbest: 0.9934180 (1662)\ttotal: 1m 6s\tremaining: 0us\n",
      "bestTest = 0.9934179596\n",
      "bestIteration = 1662\n",
      "Shrink model to first 1663 iterations.\n",
      "0:\tlearn: 0.9736718\ttest: 0.9764927\tbest: 0.9764927 (0)\ttotal: 22.9ms\tremaining: 1m 8s\n",
      "500:\tlearn: 0.9952985\ttest: 0.9920075\tbest: 0.9924777 (144)\ttotal: 11.7s\tremaining: 58.6s\n",
      "1000:\tlearn: 0.9960038\ttest: 0.9924777\tbest: 0.9924777 (144)\ttotal: 23.6s\tremaining: 47.2s\n",
      "1500:\tlearn: 0.9962388\ttest: 0.9929478\tbest: 0.9929478 (1052)\ttotal: 35.1s\tremaining: 35s\n",
      "2000:\tlearn: 0.9964739\ttest: 0.9929478\tbest: 0.9934180 (1832)\ttotal: 46.5s\tremaining: 23.2s\n",
      "2500:\tlearn: 0.9964739\ttest: 0.9929478\tbest: 0.9934180 (1832)\ttotal: 58s\tremaining: 11.6s\n",
      "2999:\tlearn: 0.9964739\ttest: 0.9929478\tbest: 0.9934180 (1832)\ttotal: 1m 9s\tremaining: 0us\n",
      "bestTest = 0.9934179596\n",
      "bestIteration = 1832\n",
      "Shrink model to first 1833 iterations.\n",
      "0:\tlearn: 0.9753173\ttest: 0.9779031\tbest: 0.9779031 (0)\ttotal: 23.4ms\tremaining: 1m 10s\n",
      "500:\tlearn: 0.9950635\ttest: 0.9891866\tbest: 0.9891866 (481)\ttotal: 11.6s\tremaining: 57.8s\n",
      "1000:\tlearn: 0.9957687\ttest: 0.9891866\tbest: 0.9891866 (481)\ttotal: 22.9s\tremaining: 45.8s\n",
      "1500:\tlearn: 0.9960038\ttest: 0.9891866\tbest: 0.9891866 (481)\ttotal: 34.3s\tremaining: 34.2s\n",
      "2000:\tlearn: 0.9967090\ttest: 0.9891866\tbest: 0.9891866 (481)\ttotal: 46s\tremaining: 23s\n",
      "bestTest = 0.9891866479\n",
      "bestIteration = 481\n",
      "Shrink model to first 482 iterations.\n",
      "0.992007522331923 {'depth': 3, 'iterations': 3000, 'learning_rate': 0.1, 'l2_leaf_reg': 3, 'border_count': 100, 'thread_count': 4, 'eval_metric': 'Accuracy', 'task_type': 'GPU', 'early_stopping_rounds': 2000, 'use_best_model': True, 'verbose': 500} best: 0.9931045291662423 {'depth': 3, 'iterations': 1500, 'learning_rate': 0.1, 'l2_leaf_reg': 3, 'border_count': 100, 'thread_count': 4, 'eval_metric': 'Accuracy', 'task_type': 'GPU', 'early_stopping_rounds': 2000, 'use_best_model': True, 'verbose': 500}\n",
      "0:\tlearn: 0.9734368\ttest: 0.9788434\tbest: 0.9788434 (0)\ttotal: 23.2ms\tremaining: 1m 9s\n",
      "500:\tlearn: 0.9948284\ttest: 0.9924777\tbest: 0.9929478 (19)\ttotal: 11.7s\tremaining: 58.4s\n",
      "1000:\tlearn: 0.9957687\ttest: 0.9924777\tbest: 0.9929478 (19)\ttotal: 23.3s\tremaining: 46.6s\n",
      "1500:\tlearn: 0.9962388\ttest: 0.9929478\tbest: 0.9929478 (19)\ttotal: 34.8s\tremaining: 34.8s\n",
      "2000:\tlearn: 0.9969441\ttest: 0.9929478\tbest: 0.9929478 (19)\ttotal: 46.3s\tremaining: 23.1s\n",
      "bestTest = 0.9929478138\n",
      "bestIteration = 19\n",
      "Shrink model to first 20 iterations.\n",
      "0:\tlearn: 0.9708510\ttest: 0.9826046\tbest: 0.9826046 (0)\ttotal: 23ms\tremaining: 1m 9s\n",
      "500:\tlearn: 0.9950635\ttest: 0.9957687\tbest: 0.9957687 (427)\ttotal: 11.4s\tremaining: 56.9s\n",
      "1000:\tlearn: 0.9960038\ttest: 0.9943583\tbest: 0.9957687 (427)\ttotal: 22.8s\tremaining: 45.6s\n",
      "1500:\tlearn: 0.9967090\ttest: 0.9943583\tbest: 0.9957687 (427)\ttotal: 34.3s\tremaining: 34.2s\n",
      "2000:\tlearn: 0.9969441\ttest: 0.9943583\tbest: 0.9957687 (427)\ttotal: 45.8s\tremaining: 22.8s\n",
      "bestTest = 0.9957686883\n",
      "bestIteration = 427\n",
      "Shrink model to first 428 iterations.\n",
      "0:\tlearn: 0.9736718\ttest: 0.9741420\tbest: 0.9741420 (0)\ttotal: 22.5ms\tremaining: 1m 7s\n",
      "500:\tlearn: 0.9943583\ttest: 0.9868359\tbest: 0.9868359 (89)\ttotal: 11.5s\tremaining: 57.3s\n",
      "1000:\tlearn: 0.9971791\ttest: 0.9868359\tbest: 0.9873061 (668)\ttotal: 23s\tremaining: 46s\n",
      "1500:\tlearn: 0.9974142\ttest: 0.9882464\tbest: 0.9882464 (1126)\ttotal: 34.8s\tremaining: 34.8s\n",
      "2000:\tlearn: 0.9976493\ttest: 0.9877762\tbest: 0.9882464 (1126)\ttotal: 46.2s\tremaining: 23.1s\n",
      "2500:\tlearn: 0.9978843\ttest: 0.9877762\tbest: 0.9882464 (1126)\ttotal: 57.5s\tremaining: 11.5s\n",
      "2999:\tlearn: 0.9978843\ttest: 0.9877762\tbest: 0.9882464 (1126)\ttotal: 1m 8s\tremaining: 0us\n",
      "bestTest = 0.9882463564\n",
      "bestIteration = 1126\n",
      "Shrink model to first 1127 iterations.\n",
      "0.9923209528287101 {'depth': 3, 'iterations': 3000, 'learning_rate': 0.2, 'l2_leaf_reg': 3, 'border_count': 100, 'thread_count': 4, 'eval_metric': 'Accuracy', 'task_type': 'GPU', 'early_stopping_rounds': 2000, 'use_best_model': True, 'verbose': 500} best: 0.9931045291662423 {'depth': 3, 'iterations': 1500, 'learning_rate': 0.1, 'l2_leaf_reg': 3, 'border_count': 100, 'thread_count': 4, 'eval_metric': 'Accuracy', 'task_type': 'GPU', 'early_stopping_rounds': 2000, 'use_best_model': True, 'verbose': 500}\n",
      "0:\tlearn: 0.9722614\ttest: 0.9779031\tbest: 0.9779031 (0)\ttotal: 23.2ms\tremaining: 1m 9s\n",
      "500:\tlearn: 0.9969441\ttest: 0.9910672\tbest: 0.9910672 (499)\ttotal: 11.5s\tremaining: 57.5s\n",
      "1000:\tlearn: 0.9971791\ttest: 0.9910672\tbest: 0.9910672 (499)\ttotal: 23s\tremaining: 45.9s\n"
     ]
    },
    {
     "name": "stdout",
     "output_type": "stream",
     "text": [
      "1500:\tlearn: 0.9971791\ttest: 0.9910672\tbest: 0.9910672 (499)\ttotal: 34.6s\tremaining: 34.5s\n",
      "2000:\tlearn: 0.9976493\ttest: 0.9915374\tbest: 0.9915374 (1610)\ttotal: 45.9s\tremaining: 22.9s\n",
      "2500:\tlearn: 0.9976493\ttest: 0.9915374\tbest: 0.9915374 (1610)\ttotal: 57.1s\tremaining: 11.4s\n",
      "2999:\tlearn: 0.9976493\ttest: 0.9920075\tbest: 0.9920075 (2889)\ttotal: 1m 7s\tremaining: 0us\n",
      "bestTest = 0.9920075223\n",
      "bestIteration = 2889\n",
      "Shrink model to first 2890 iterations.\n",
      "0:\tlearn: 0.9741420\ttest: 0.9802539\tbest: 0.9802539 (0)\ttotal: 24.1ms\tremaining: 1m 12s\n",
      "500:\tlearn: 0.9971791\ttest: 0.9896568\tbest: 0.9901269 (160)\ttotal: 11.3s\tremaining: 56.4s\n",
      "1000:\tlearn: 0.9981194\ttest: 0.9910672\tbest: 0.9910672 (759)\ttotal: 22.8s\tremaining: 45.5s\n",
      "1500:\tlearn: 0.9983545\ttest: 0.9905971\tbest: 0.9910672 (759)\ttotal: 34.2s\tremaining: 34.1s\n",
      "2000:\tlearn: 0.9983545\ttest: 0.9901269\tbest: 0.9910672 (759)\ttotal: 45.5s\tremaining: 22.7s\n",
      "2500:\tlearn: 0.9983545\ttest: 0.9910672\tbest: 0.9910672 (759)\ttotal: 56.9s\tremaining: 11.3s\n",
      "bestTest = 0.9910672308\n",
      "bestIteration = 759\n",
      "Shrink model to first 760 iterations.\n",
      "0:\tlearn: 0.9755524\ttest: 0.9760226\tbest: 0.9760226 (0)\ttotal: 21.7ms\tremaining: 1m 5s\n",
      "500:\tlearn: 0.9957687\ttest: 0.9920075\tbest: 0.9920075 (272)\ttotal: 11.4s\tremaining: 56.7s\n",
      "1000:\tlearn: 0.9967090\ttest: 0.9915374\tbest: 0.9920075 (272)\ttotal: 23.4s\tremaining: 46.7s\n",
      "1500:\tlearn: 0.9971791\ttest: 0.9915374\tbest: 0.9920075 (272)\ttotal: 36.8s\tremaining: 36.8s\n",
      "2000:\tlearn: 0.9971791\ttest: 0.9910672\tbest: 0.9920075 (272)\ttotal: 47.9s\tremaining: 23.9s\n",
      "bestTest = 0.9920075223\n",
      "bestIteration = 272\n",
      "Shrink model to first 273 iterations.\n",
      "0.9916940918351355 {'depth': 3, 'iterations': 3000, 'learning_rate': 0.3, 'l2_leaf_reg': 3, 'border_count': 100, 'thread_count': 4, 'eval_metric': 'Accuracy', 'task_type': 'GPU', 'early_stopping_rounds': 2000, 'use_best_model': True, 'verbose': 500} best: 0.9931045291662423 {'depth': 3, 'iterations': 1500, 'learning_rate': 0.1, 'l2_leaf_reg': 3, 'border_count': 100, 'thread_count': 4, 'eval_metric': 'Accuracy', 'task_type': 'GPU', 'early_stopping_rounds': 2000, 'use_best_model': True, 'verbose': 500}\n",
      "0:\tlearn: 0.9732017\ttest: 0.9755524\tbest: 0.9755524 (0)\ttotal: 20.2ms\tremaining: 30.3s\n",
      "500:\tlearn: 0.9915374\ttest: 0.9868359\tbest: 0.9877762 (361)\ttotal: 9.44s\tremaining: 18.8s\n",
      "1000:\tlearn: 0.9934180\ttest: 0.9877762\tbest: 0.9877762 (361)\ttotal: 18.6s\tremaining: 9.25s\n",
      "1499:\tlearn: 0.9934180\ttest: 0.9882464\tbest: 0.9882464 (1088)\ttotal: 27.8s\tremaining: 0us\n",
      "bestTest = 0.9882463564\n",
      "bestIteration = 1088\n",
      "Shrink model to first 1089 iterations.\n",
      "0:\tlearn: 0.9750823\ttest: 0.9755524\tbest: 0.9755524 (0)\ttotal: 21.6ms\tremaining: 32.4s\n",
      "500:\tlearn: 0.9913023\ttest: 0.9915374\tbest: 0.9920075 (100)\ttotal: 9.11s\tremaining: 18.2s\n",
      "1000:\tlearn: 0.9927127\ttest: 0.9920075\tbest: 0.9920075 (100)\ttotal: 18.2s\tremaining: 9.07s\n",
      "1499:\tlearn: 0.9936530\ttest: 0.9920075\tbest: 0.9920075 (100)\ttotal: 27.3s\tremaining: 0us\n",
      "bestTest = 0.9920075223\n",
      "bestIteration = 100\n",
      "Shrink model to first 101 iterations.\n",
      "0:\tlearn: 0.9739069\ttest: 0.9802539\tbest: 0.9802539 (0)\ttotal: 18.2ms\tremaining: 27.3s\n",
      "500:\tlearn: 0.9920075\ttest: 0.9929478\tbest: 0.9938881 (116)\ttotal: 9.28s\tremaining: 18.5s\n",
      "1000:\tlearn: 0.9931829\ttest: 0.9929478\tbest: 0.9938881 (116)\ttotal: 18.5s\tremaining: 9.23s\n",
      "1499:\tlearn: 0.9934180\ttest: 0.9929478\tbest: 0.9938881 (116)\ttotal: 27.7s\tremaining: 0us\n",
      "bestTest = 0.9938881053\n",
      "bestIteration = 116\n",
      "Shrink model to first 117 iterations.\n",
      "0.9913806613383483 {'depth': 1, 'iterations': 1500, 'learning_rate': 0.1, 'l2_leaf_reg': 3, 'border_count': 100, 'thread_count': 4, 'eval_metric': 'Accuracy', 'task_type': 'GPU', 'early_stopping_rounds': 2000, 'use_best_model': True, 'verbose': 500} best: 0.9931045291662423 {'depth': 3, 'iterations': 1500, 'learning_rate': 0.1, 'l2_leaf_reg': 3, 'border_count': 100, 'thread_count': 4, 'eval_metric': 'Accuracy', 'task_type': 'GPU', 'early_stopping_rounds': 2000, 'use_best_model': True, 'verbose': 500}\n",
      "0:\tlearn: 0.9753173\ttest: 0.9835449\tbest: 0.9835449 (0)\ttotal: 20.2ms\tremaining: 30.2s\n",
      "500:\tlearn: 0.9948284\ttest: 0.9873061\tbest: 0.9915374 (63)\ttotal: 10.1s\tremaining: 20.2s\n",
      "1000:\tlearn: 0.9960038\ttest: 0.9891866\tbest: 0.9915374 (63)\ttotal: 20.4s\tremaining: 10.2s\n",
      "1499:\tlearn: 0.9960038\ttest: 0.9896568\tbest: 0.9915374 (63)\ttotal: 30.4s\tremaining: 0us\n",
      "bestTest = 0.9915373766\n",
      "bestIteration = 63\n",
      "Shrink model to first 64 iterations.\n",
      "0:\tlearn: 0.9717913\ttest: 0.9807240\tbest: 0.9807240 (0)\ttotal: 21.7ms\tremaining: 32.5s\n",
      "500:\tlearn: 0.9938881\ttest: 0.9910672\tbest: 0.9920075 (397)\ttotal: 10s\tremaining: 20s\n",
      "1000:\tlearn: 0.9943583\ttest: 0.9915374\tbest: 0.9920075 (397)\ttotal: 20s\tremaining: 9.96s\n",
      "1499:\tlearn: 0.9945933\ttest: 0.9920075\tbest: 0.9920075 (397)\ttotal: 29.9s\tremaining: 0us\n",
      "bestTest = 0.9920075223\n",
      "bestIteration = 397\n",
      "Shrink model to first 398 iterations.\n",
      "0:\tlearn: 0.9746121\ttest: 0.9788434\tbest: 0.9788434 (0)\ttotal: 22.7ms\tremaining: 34s\n",
      "500:\tlearn: 0.9927127\ttest: 0.9910672\tbest: 0.9910672 (121)\ttotal: 10.2s\tremaining: 20.3s\n",
      "1000:\tlearn: 0.9948284\ttest: 0.9915374\tbest: 0.9915374 (894)\ttotal: 20.1s\tremaining: 10s\n",
      "1499:\tlearn: 0.9960038\ttest: 0.9915374\tbest: 0.9915374 (894)\ttotal: 29.8s\tremaining: 0us\n",
      "bestTest = 0.9915373766\n",
      "bestIteration = 894\n",
      "Shrink model to first 895 iterations.\n",
      "0.9916940918351355 {'depth': 2, 'iterations': 1500, 'learning_rate': 0.1, 'l2_leaf_reg': 3, 'border_count': 100, 'thread_count': 4, 'eval_metric': 'Accuracy', 'task_type': 'GPU', 'early_stopping_rounds': 2000, 'use_best_model': True, 'verbose': 500} best: 0.9931045291662423 {'depth': 3, 'iterations': 1500, 'learning_rate': 0.1, 'l2_leaf_reg': 3, 'border_count': 100, 'thread_count': 4, 'eval_metric': 'Accuracy', 'task_type': 'GPU', 'early_stopping_rounds': 2000, 'use_best_model': True, 'verbose': 500}\n",
      "0:\tlearn: 0.9692055\ttest: 0.9788434\tbest: 0.9788434 (0)\ttotal: 45.1ms\tremaining: 1m 7s\n",
      "500:\tlearn: 0.9960038\ttest: 0.9920075\tbest: 0.9924777 (7)\ttotal: 20.1s\tremaining: 40.1s\n",
      "1000:\tlearn: 0.9962388\ttest: 0.9920075\tbest: 0.9924777 (7)\ttotal: 40s\tremaining: 19.9s\n",
      "1499:\tlearn: 0.9967090\ttest: 0.9920075\tbest: 0.9924777 (7)\ttotal: 59.9s\tremaining: 0us\n",
      "bestTest = 0.9924776681\n",
      "bestIteration = 7\n",
      "Shrink model to first 8 iterations.\n",
      "0:\tlearn: 0.9753173\ttest: 0.9722614\tbest: 0.9722614 (0)\ttotal: 38.6ms\tremaining: 57.9s\n",
      "500:\tlearn: 0.9962388\ttest: 0.9934180\tbest: 0.9934180 (18)\ttotal: 20.4s\tremaining: 40.7s\n",
      "1000:\tlearn: 0.9962388\ttest: 0.9934180\tbest: 0.9934180 (18)\ttotal: 39.9s\tremaining: 19.9s\n",
      "1499:\tlearn: 0.9962388\ttest: 0.9934180\tbest: 0.9934180 (18)\ttotal: 58.6s\tremaining: 0us\n",
      "bestTest = 0.9934179596\n",
      "bestIteration = 18\n",
      "Shrink model to first 19 iterations.\n",
      "0:\tlearn: 0.9736718\ttest: 0.9708510\tbest: 0.9708510 (0)\ttotal: 43.5ms\tremaining: 1m 5s\n",
      "500:\tlearn: 0.9962388\ttest: 0.9910672\tbest: 0.9910672 (410)\ttotal: 20.3s\tremaining: 40.6s\n",
      "1000:\tlearn: 0.9976493\ttest: 0.9920075\tbest: 0.9924777 (899)\ttotal: 40.3s\tremaining: 20.1s\n",
      "1499:\tlearn: 0.9976493\ttest: 0.9920075\tbest: 0.9924777 (899)\ttotal: 59.7s\tremaining: 0us\n",
      "bestTest = 0.9924776681\n",
      "bestIteration = 899\n",
      "Shrink model to first 900 iterations.\n",
      "0.9927910985738913 {'depth': 6, 'iterations': 1500, 'learning_rate': 0.1, 'l2_leaf_reg': 3, 'border_count': 100, 'thread_count': 4, 'eval_metric': 'Accuracy', 'task_type': 'GPU', 'early_stopping_rounds': 2000, 'use_best_model': True, 'verbose': 500} best: 0.9931045291662423 {'depth': 3, 'iterations': 1500, 'learning_rate': 0.1, 'l2_leaf_reg': 3, 'border_count': 100, 'thread_count': 4, 'eval_metric': 'Accuracy', 'task_type': 'GPU', 'early_stopping_rounds': 2000, 'use_best_model': True, 'verbose': 500}\n",
      "0:\tlearn: 0.9760226\ttest: 0.9736718\tbest: 0.9736718 (0)\ttotal: 24.7ms\tremaining: 37.1s\n",
      "500:\tlearn: 0.9955336\ttest: 0.9915374\tbest: 0.9929478 (17)\ttotal: 11.9s\tremaining: 23.8s\n",
      "1000:\tlearn: 0.9964739\ttest: 0.9915374\tbest: 0.9929478 (17)\ttotal: 24.2s\tremaining: 12.1s\n",
      "1499:\tlearn: 0.9964739\ttest: 0.9910672\tbest: 0.9929478 (17)\ttotal: 36.5s\tremaining: 0us\n",
      "bestTest = 0.9929478138\n",
      "bestIteration = 17\n",
      "Shrink model to first 18 iterations.\n",
      "0:\tlearn: 0.9732017\ttest: 0.9797837\tbest: 0.9797837 (0)\ttotal: 28.6ms\tremaining: 42.9s\n",
      "500:\tlearn: 0.9948284\ttest: 0.9910672\tbest: 0.9910672 (20)\ttotal: 12.6s\tremaining: 25.1s\n",
      "1000:\tlearn: 0.9952985\ttest: 0.9915374\tbest: 0.9920075 (595)\ttotal: 25s\tremaining: 12.4s\n"
     ]
    },
    {
     "name": "stdout",
     "output_type": "stream",
     "text": [
      "1499:\tlearn: 0.9955336\ttest: 0.9915374\tbest: 0.9920075 (595)\ttotal: 36.9s\tremaining: 0us\n",
      "bestTest = 0.9920075223\n",
      "bestIteration = 595\n",
      "Shrink model to first 596 iterations.\n",
      "0:\tlearn: 0.9741420\ttest: 0.9826046\tbest: 0.9826046 (0)\ttotal: 25.4ms\tremaining: 38s\n",
      "500:\tlearn: 0.9945933\ttest: 0.9901269\tbest: 0.9901269 (161)\ttotal: 12.9s\tremaining: 25.8s\n",
      "1000:\tlearn: 0.9955336\ttest: 0.9901269\tbest: 0.9901269 (161)\ttotal: 25.1s\tremaining: 12.5s\n",
      "1499:\tlearn: 0.9964739\ttest: 0.9901269\tbest: 0.9901269 (161)\ttotal: 37.7s\tremaining: 0us\n",
      "bestTest = 0.9901269394\n",
      "bestIteration = 161\n",
      "Shrink model to first 162 iterations.\n",
      "0.9916940918351355 {'depth': 4, 'iterations': 1500, 'learning_rate': 0.1, 'l2_leaf_reg': 3, 'border_count': 100, 'thread_count': 4, 'eval_metric': 'Accuracy', 'task_type': 'GPU', 'early_stopping_rounds': 2000, 'use_best_model': True, 'verbose': 500} best: 0.9931045291662423 {'depth': 3, 'iterations': 1500, 'learning_rate': 0.1, 'l2_leaf_reg': 3, 'border_count': 100, 'thread_count': 4, 'eval_metric': 'Accuracy', 'task_type': 'GPU', 'early_stopping_rounds': 2000, 'use_best_model': True, 'verbose': 500}\n",
      "0:\tlearn: 0.9764927\ttest: 0.9732017\tbest: 0.9732017 (0)\ttotal: 29.6ms\tremaining: 44.4s\n",
      "500:\tlearn: 0.9957687\ttest: 0.9868359\tbest: 0.9868359 (11)\ttotal: 15.4s\tremaining: 30.6s\n",
      "1000:\tlearn: 0.9967090\ttest: 0.9873061\tbest: 0.9873061 (622)\ttotal: 30.8s\tremaining: 15.4s\n",
      "1499:\tlearn: 0.9971791\ttest: 0.9877762\tbest: 0.9882464 (1495)\ttotal: 45.8s\tremaining: 0us\n",
      "bestTest = 0.9882463564\n",
      "bestIteration = 1495\n",
      "Shrink model to first 1496 iterations.\n",
      "0:\tlearn: 0.9743771\ttest: 0.9844852\tbest: 0.9844852 (0)\ttotal: 28.9ms\tremaining: 43.3s\n",
      "500:\tlearn: 0.9950635\ttest: 0.9924777\tbest: 0.9924777 (16)\ttotal: 15.1s\tremaining: 30.1s\n",
      "1000:\tlearn: 0.9971791\ttest: 0.9924777\tbest: 0.9924777 (16)\ttotal: 30.1s\tremaining: 15s\n",
      "1499:\tlearn: 0.9967090\ttest: 0.9929478\tbest: 0.9929478 (1089)\ttotal: 45s\tremaining: 0us\n",
      "bestTest = 0.9929478138\n",
      "bestIteration = 1089\n",
      "Shrink model to first 1090 iterations.\n",
      "0:\tlearn: 0.9760226\ttest: 0.9783733\tbest: 0.9783733 (0)\ttotal: 30.3ms\tremaining: 45.4s\n",
      "500:\tlearn: 0.9967090\ttest: 0.9929478\tbest: 0.9929478 (453)\ttotal: 15.7s\tremaining: 31.3s\n",
      "1000:\tlearn: 0.9974142\ttest: 0.9929478\tbest: 0.9934180 (649)\ttotal: 32.3s\tremaining: 16.1s\n",
      "1499:\tlearn: 0.9974142\ttest: 0.9929478\tbest: 0.9934180 (649)\ttotal: 47.3s\tremaining: 0us\n",
      "bestTest = 0.9934179596\n",
      "bestIteration = 649\n",
      "Shrink model to first 650 iterations.\n",
      "0.9915373765867419 {'depth': 5, 'iterations': 1500, 'learning_rate': 0.1, 'l2_leaf_reg': 3, 'border_count': 100, 'thread_count': 4, 'eval_metric': 'Accuracy', 'task_type': 'GPU', 'early_stopping_rounds': 2000, 'use_best_model': True, 'verbose': 500} best: 0.9931045291662423 {'depth': 3, 'iterations': 1500, 'learning_rate': 0.1, 'l2_leaf_reg': 3, 'border_count': 100, 'thread_count': 4, 'eval_metric': 'Accuracy', 'task_type': 'GPU', 'early_stopping_rounds': 2000, 'use_best_model': True, 'verbose': 500}\n",
      "0:\tlearn: 0.9734368\ttest: 0.9793136\tbest: 0.9793136 (0)\ttotal: 57.5ms\tremaining: 1m 26s\n",
      "500:\tlearn: 0.9976493\ttest: 0.9891866\tbest: 0.9891866 (6)\ttotal: 31.1s\tremaining: 1m 2s\n",
      "1000:\tlearn: 0.9978843\ttest: 0.9887165\tbest: 0.9891866 (6)\ttotal: 1m 2s\tremaining: 30.9s\n",
      "1499:\tlearn: 0.9978843\ttest: 0.9887165\tbest: 0.9891866 (6)\ttotal: 1m 32s\tremaining: 0us\n",
      "bestTest = 0.9891866479\n",
      "bestIteration = 6\n",
      "Shrink model to first 7 iterations.\n",
      "0:\tlearn: 0.9741420\ttest: 0.9760226\tbest: 0.9760226 (0)\ttotal: 58.2ms\tremaining: 1m 27s\n",
      "500:\tlearn: 0.9971791\ttest: 0.9910672\tbest: 0.9910672 (46)\ttotal: 32.7s\tremaining: 1m 5s\n",
      "1000:\tlearn: 0.9976493\ttest: 0.9905971\tbest: 0.9910672 (46)\ttotal: 1m 6s\tremaining: 32.9s\n",
      "1499:\tlearn: 0.9976493\ttest: 0.9905971\tbest: 0.9910672 (46)\ttotal: 1m 39s\tremaining: 0us\n",
      "bestTest = 0.9910672308\n",
      "bestIteration = 46\n",
      "Shrink model to first 47 iterations.\n",
      "0:\tlearn: 0.9713211\ttest: 0.9793136\tbest: 0.9793136 (0)\ttotal: 57.2ms\tremaining: 1m 25s\n",
      "500:\tlearn: 0.9967090\ttest: 0.9924777\tbest: 0.9929478 (103)\ttotal: 31.3s\tremaining: 1m 2s\n",
      "1000:\tlearn: 0.9971791\ttest: 0.9924777\tbest: 0.9929478 (103)\ttotal: 1m 3s\tremaining: 31.7s\n",
      "1499:\tlearn: 0.9971791\ttest: 0.9924777\tbest: 0.9929478 (103)\ttotal: 1m 34s\tremaining: 0us\n",
      "bestTest = 0.9929478138\n",
      "bestIteration = 103\n",
      "Shrink model to first 104 iterations.\n",
      "0.9910672308415608 {'depth': 7, 'iterations': 1500, 'learning_rate': 0.1, 'l2_leaf_reg': 3, 'border_count': 100, 'thread_count': 4, 'eval_metric': 'Accuracy', 'task_type': 'GPU', 'early_stopping_rounds': 2000, 'use_best_model': True, 'verbose': 500} best: 0.9931045291662423 {'depth': 3, 'iterations': 1500, 'learning_rate': 0.1, 'l2_leaf_reg': 3, 'border_count': 100, 'thread_count': 4, 'eval_metric': 'Accuracy', 'task_type': 'GPU', 'early_stopping_rounds': 2000, 'use_best_model': True, 'verbose': 500}\n",
      "0:\tlearn: 0.9755524\ttest: 0.9788434\tbest: 0.9788434 (0)\ttotal: 91.9ms\tremaining: 2m 17s\n",
      "500:\tlearn: 0.9967090\ttest: 0.9924777\tbest: 0.9924777 (414)\ttotal: 48.8s\tremaining: 1m 37s\n",
      "1000:\tlearn: 0.9969441\ttest: 0.9924777\tbest: 0.9924777 (414)\ttotal: 1m 37s\tremaining: 48.8s\n",
      "1499:\tlearn: 0.9969441\ttest: 0.9929478\tbest: 0.9929478 (1175)\ttotal: 2m 25s\tremaining: 0us\n",
      "bestTest = 0.9929478138\n",
      "bestIteration = 1175\n",
      "Shrink model to first 1176 iterations.\n",
      "0:\tlearn: 0.9753173\ttest: 0.9788434\tbest: 0.9788434 (0)\ttotal: 90.9ms\tremaining: 2m 16s\n",
      "500:\tlearn: 0.9967090\ttest: 0.9920075\tbest: 0.9920075 (169)\ttotal: 47.2s\tremaining: 1m 34s\n",
      "1000:\tlearn: 0.9967090\ttest: 0.9920075\tbest: 0.9920075 (169)\ttotal: 1m 16s\tremaining: 38.4s\n",
      "1499:\tlearn: 0.9967090\ttest: 0.9920075\tbest: 0.9920075 (169)\ttotal: 1m 32s\tremaining: 0us\n",
      "bestTest = 0.9920075223\n",
      "bestIteration = 169\n",
      "Shrink model to first 170 iterations.\n",
      "0:\tlearn: 0.9746121\ttest: 0.9764927\tbest: 0.9764927 (0)\ttotal: 110ms\tremaining: 2m 45s\n",
      "500:\tlearn: 0.9978843\ttest: 0.9882464\tbest: 0.9901269 (7)\ttotal: 47.6s\tremaining: 1m 34s\n",
      "1000:\tlearn: 0.9978843\ttest: 0.9891866\tbest: 0.9901269 (7)\ttotal: 1m 36s\tremaining: 47.9s\n",
      "1499:\tlearn: 0.9978843\ttest: 0.9882464\tbest: 0.9901269 (7)\ttotal: 2m 24s\tremaining: 0us\n",
      "bestTest = 0.9901269394\n",
      "bestIteration = 7\n",
      "Shrink model to first 8 iterations.\n",
      "0.9916940918351355 {'depth': 8, 'iterations': 1500, 'learning_rate': 0.1, 'l2_leaf_reg': 3, 'border_count': 100, 'thread_count': 4, 'eval_metric': 'Accuracy', 'task_type': 'GPU', 'early_stopping_rounds': 2000, 'use_best_model': True, 'verbose': 500} best: 0.9931045291662423 {'depth': 3, 'iterations': 1500, 'learning_rate': 0.1, 'l2_leaf_reg': 3, 'border_count': 100, 'thread_count': 4, 'eval_metric': 'Accuracy', 'task_type': 'GPU', 'early_stopping_rounds': 2000, 'use_best_model': True, 'verbose': 500}\n",
      "0:\tlearn: 0.9748472\ttest: 0.9727315\tbest: 0.9727315 (0)\ttotal: 231ms\tremaining: 5m 46s\n",
      "500:\tlearn: 0.9971791\ttest: 0.9887165\tbest: 0.9896568 (70)\ttotal: 1m 19s\tremaining: 2m 38s\n",
      "1000:\tlearn: 0.9971791\ttest: 0.9891866\tbest: 0.9896568 (70)\ttotal: 2m 38s\tremaining: 1m 18s\n",
      "1499:\tlearn: 0.9971791\ttest: 0.9891866\tbest: 0.9896568 (70)\ttotal: 3m 58s\tremaining: 0us\n",
      "bestTest = 0.9896567936\n",
      "bestIteration = 70\n",
      "Shrink model to first 71 iterations.\n",
      "0:\tlearn: 0.9743771\ttest: 0.9750823\tbest: 0.9750823 (0)\ttotal: 150ms\tremaining: 3m 44s\n",
      "500:\tlearn: 0.9978843\ttest: 0.9929478\tbest: 0.9929478 (73)\ttotal: 1m 17s\tremaining: 2m 34s\n",
      "1000:\tlearn: 0.9981194\ttest: 0.9929478\tbest: 0.9929478 (73)\ttotal: 2m 32s\tremaining: 1m 15s\n",
      "1499:\tlearn: 0.9981194\ttest: 0.9929478\tbest: 0.9929478 (73)\ttotal: 3m 45s\tremaining: 0us\n",
      "bestTest = 0.9929478138\n",
      "bestIteration = 73\n",
      "Shrink model to first 74 iterations.\n",
      "0:\tlearn: 0.9797837\ttest: 0.9849553\tbest: 0.9849553 (0)\ttotal: 178ms\tremaining: 4m 26s\n",
      "500:\tlearn: 0.9964739\ttest: 0.9929478\tbest: 0.9929478 (119)\ttotal: 1m 17s\tremaining: 2m 34s\n",
      "1000:\tlearn: 0.9967090\ttest: 0.9920075\tbest: 0.9929478 (119)\ttotal: 2m 35s\tremaining: 1m 17s\n",
      "1499:\tlearn: 0.9969441\ttest: 0.9915374\tbest: 0.9929478 (119)\ttotal: 3m 53s\tremaining: 0us\n",
      "bestTest = 0.9929478138\n",
      "bestIteration = 119\n",
      "Shrink model to first 120 iterations.\n",
      "0.9918508070835292 {'depth': 9, 'iterations': 1500, 'learning_rate': 0.1, 'l2_leaf_reg': 3, 'border_count': 100, 'thread_count': 4, 'eval_metric': 'Accuracy', 'task_type': 'GPU', 'early_stopping_rounds': 2000, 'use_best_model': True, 'verbose': 500} best: 0.9931045291662423 {'depth': 3, 'iterations': 1500, 'learning_rate': 0.1, 'l2_leaf_reg': 3, 'border_count': 100, 'thread_count': 4, 'eval_metric': 'Accuracy', 'task_type': 'GPU', 'early_stopping_rounds': 2000, 'use_best_model': True, 'verbose': 500}\n"
     ]
    },
    {
     "name": "stdout",
     "output_type": "stream",
     "text": [
      "0:\tlearn: 0.9750823\ttest: 0.9741420\tbest: 0.9741420 (0)\ttotal: 264ms\tremaining: 6m 36s\n",
      "500:\tlearn: 0.9971791\ttest: 0.9896568\tbest: 0.9896568 (111)\ttotal: 2m 21s\tremaining: 4m 41s\n",
      "1000:\tlearn: 0.9974142\ttest: 0.9905971\tbest: 0.9905971 (925)\ttotal: 4m 37s\tremaining: 2m 18s\n",
      "1499:\tlearn: 0.9974142\ttest: 0.9901269\tbest: 0.9905971 (925)\ttotal: 6m 48s\tremaining: 0us\n",
      "bestTest = 0.9905970851\n",
      "bestIteration = 925\n",
      "Shrink model to first 926 iterations.\n",
      "0:\tlearn: 0.9724965\ttest: 0.9774330\tbest: 0.9774330 (0)\ttotal: 307ms\tremaining: 7m 39s\n",
      "500:\tlearn: 0.9967090\ttest: 0.9943583\tbest: 0.9943583 (279)\ttotal: 2m 23s\tremaining: 4m 46s\n",
      "1000:\tlearn: 0.9971791\ttest: 0.9943583\tbest: 0.9943583 (279)\ttotal: 4m 37s\tremaining: 2m 18s\n",
      "1499:\tlearn: 0.9971791\ttest: 0.9943583\tbest: 0.9943583 (279)\ttotal: 6m 43s\tremaining: 0us\n",
      "bestTest = 0.9943582511\n",
      "bestIteration = 279\n",
      "Shrink model to first 280 iterations.\n",
      "0:\tlearn: 0.9713211\ttest: 0.9821345\tbest: 0.9821345 (0)\ttotal: 269ms\tremaining: 6m 42s\n",
      "500:\tlearn: 0.9978843\ttest: 0.9896568\tbest: 0.9905971 (183)\ttotal: 2m 23s\tremaining: 4m 45s\n",
      "1000:\tlearn: 0.9981194\ttest: 0.9896568\tbest: 0.9905971 (183)\ttotal: 3m 57s\tremaining: 1m 58s\n",
      "1499:\tlearn: 0.9985896\ttest: 0.9905971\tbest: 0.9905971 (183)\ttotal: 5m 28s\tremaining: 0us\n",
      "bestTest = 0.9905970851\n",
      "bestIteration = 183\n",
      "Shrink model to first 184 iterations.\n",
      "0.9918508070835292 {'depth': 10, 'iterations': 1500, 'learning_rate': 0.1, 'l2_leaf_reg': 3, 'border_count': 100, 'thread_count': 4, 'eval_metric': 'Accuracy', 'task_type': 'GPU', 'early_stopping_rounds': 2000, 'use_best_model': True, 'verbose': 500} best: 0.9931045291662423 {'depth': 3, 'iterations': 1500, 'learning_rate': 0.1, 'l2_leaf_reg': 3, 'border_count': 100, 'thread_count': 4, 'eval_metric': 'Accuracy', 'task_type': 'GPU', 'early_stopping_rounds': 2000, 'use_best_model': True, 'verbose': 500}\n"
     ]
    }
   ],
   "source": [
    "bestparams = catboost_param_tune(cb_params,X_train,y_train)"
   ]
  },
  {
   "cell_type": "code",
   "execution_count": 35,
   "id": "victorian-needle",
   "metadata": {
    "pycharm": {
     "name": "#%%\n"
    }
   },
   "outputs": [
    {
     "data": {
      "text/plain": [
       "{'depth': 3,\n",
       " 'iterations': 1500,\n",
       " 'learning_rate': 0.1,\n",
       " 'l2_leaf_reg': 3,\n",
       " 'border_count': 100,\n",
       " 'thread_count': 4,\n",
       " 'eval_metric': 'Accuracy',\n",
       " 'task_type': 'GPU',\n",
       " 'early_stopping_rounds': 2000,\n",
       " 'use_best_model': True,\n",
       " 'verbose': 500}"
      ]
     },
     "execution_count": 35,
     "metadata": {},
     "output_type": "execute_result"
    }
   ],
   "source": [
    "bestparams"
   ]
  },
  {
   "cell_type": "code",
   "execution_count": 36,
   "id": "blind-ceremony",
   "metadata": {
    "pycharm": {
     "name": "#%%\n"
    }
   },
   "outputs": [],
   "source": [
    "text_features = ['Text']"
   ]
  },
  {
   "cell_type": "code",
   "execution_count": 37,
   "id": "driving-formula",
   "metadata": {
    "pycharm": {
     "name": "#%%\n"
    }
   },
   "outputs": [
    {
     "name": "stdout",
     "output_type": "stream",
     "text": [
      "0:\tlearn: 0.9758659\ttest: 0.9831810\tbest: 0.9831810 (0)\ttotal: 23.7ms\tremaining: 35.5s\n",
      "500:\tlearn: 0.9931045\ttest: 0.9872029\tbest: 0.9882998 (368)\ttotal: 11.7s\tremaining: 23.3s\n",
      "1000:\tlearn: 0.9948284\ttest: 0.9872029\tbest: 0.9882998 (368)\ttotal: 23.1s\tremaining: 11.5s\n",
      "1499:\tlearn: 0.9954553\ttest: 0.9879342\tbest: 0.9882998 (368)\ttotal: 34.6s\tremaining: 0us\n",
      "bestTest = 0.9882998172\n",
      "bestIteration = 368\n",
      "Shrink model to first 369 iterations.\n"
     ]
    },
    {
     "data": {
      "text/plain": [
       "<catboost.core.CatBoostClassifier at 0x14ecda55640>"
      ]
     },
     "execution_count": 37,
     "metadata": {},
     "output_type": "execute_result"
    }
   ],
   "source": [
    "train_pool = Pool(\n",
    "    X_train,\n",
    "    y_train,\n",
    "    text_features=text_features,\n",
    "    feature_names=text_features\n",
    ")\n",
    "valid_pool = Pool(\n",
    "    X_test,\n",
    "    y_test,\n",
    "    text_features=text_features,\n",
    "    feature_names=text_features\n",
    ")\n",
    "\n",
    "\n",
    "model = CatBoostClassifier(**bestparams)\n",
    "model.fit(train_pool, eval_set=valid_pool)"
   ]
  },
  {
   "cell_type": "code",
   "execution_count": 38,
   "id": "loved-apple",
   "metadata": {
    "pycharm": {
     "name": "#%%\n"
    }
   },
   "outputs": [
    {
     "name": "stdout",
     "output_type": "stream",
     "text": [
      "              precision    recall  f1-score   support\n",
      "\n",
      "           0       0.99      0.99      0.99      1426\n",
      "           1       0.98      0.99      0.99      1309\n",
      "\n",
      "    accuracy                           0.99      2735\n",
      "   macro avg       0.99      0.99      0.99      2735\n",
      "weighted avg       0.99      0.99      0.99      2735\n",
      "\n",
      "0.9882998171846435\n"
     ]
    }
   ],
   "source": [
    "pred = model.predict(X_test)\n",
    "print(classification_report(y_test,pred))\n",
    "print(accuracy_score(y_test,pred))"
   ]
  },
  {
   "cell_type": "code",
   "execution_count": 39,
   "id": "conceptual-academy",
   "metadata": {
    "pycharm": {
     "name": "#%%\n"
    }
   },
   "outputs": [
    {
     "name": "stderr",
     "output_type": "stream",
     "text": [
      "C:\\Users\\jayan\\AppData\\Local\\Programs\\Python\\Python38\\lib\\site-packages\\sklearn\\utils\\validation.py:70: FutureWarning: Pass display_labels=['Non Phishing', 'Phishing'] as keyword args. From version 1.0 (renaming of 0.25) passing these as positional arguments will result in an error\n",
      "  warnings.warn(f\"Pass {args_msg} as keyword args. From version \"\n"
     ]
    },
    {
     "data": {
      "text/plain": [
       "<sklearn.metrics._plot.confusion_matrix.ConfusionMatrixDisplay at 0x14ecd6bcb50>"
      ]
     },
     "execution_count": 39,
     "metadata": {},
     "output_type": "execute_result"
    },
    {
     "data": {
      "image/png": "[encoded data removed]",
      "text/plain": [
       "<Figure size 432x288 with 2 Axes>"
      ]
     },
     "metadata": {
      "needs_background": "light"
     },
     "output_type": "display_data"
    }
   ],
   "source": [
    "cm = confusion_matrix(y_test, pred)\n",
    "plot = ConfusionMatrixDisplay(cm, ['Non Phishing', 'Phishing'])\n",
    "plot.plot()"
   ]
  },
  {
   "cell_type": "markdown",
   "id": "inappropriate-might",
   "metadata": {
    "pycharm": {
     "name": "#%%\n"
    }
   },
   "source": [
    "## Text processing for SVM and Naive Bayes"
   ]
  },
  {
   "cell_type": "code",
   "execution_count": 40,
   "id": "direct-armstrong",
   "metadata": {
    "pycharm": {
     "name": "#%%\n"
    }
   },
   "outputs": [],
   "source": [
    "df['Text'] = df['Text'].apply(lambda x: word_tokenize(x))\n",
    "\n",
    "tag_map = defaultdict(lambda : wn.NOUN)\n",
    "tag_map['J'] = wn.ADJ\n",
    "tag_map['V'] = wn.VERB\n",
    "tag_map['R'] = wn.ADV\n",
    "\n",
    "for index,entry in df['Text'].iteritems():\n",
    "    # Declaring Empty List to store the words that follow the rules for this step\n",
    "    Final_words = []\n",
    "    # Initializing WordNetLemmatizer()\n",
    "    word_Lemmatized = WordNetLemmatizer()\n",
    "    # pos_tag function below will provide the 'tag' i.e if the word is Noun(N) or Verb(V) or something else.\n",
    "    for word, tag in pos_tag(entry):\n",
    "        # Below condition is to check for Stop words and consider only alphabets\n",
    "        if word not in stopwords.words('english') and word.isalpha():\n",
    "            word_Final = word_Lemmatized.lemmatize(word,tag_map[tag[0]])\n",
    "            Final_words.append(word_Final)\n",
    "    # The final processed set of words for each iteration will be stored in 'text_final'\n",
    "    df.loc[index,'text_final'] = str(Final_words)"
   ]
  },
  {
   "cell_type": "code",
   "execution_count": 41,
   "id": "egyptian-breed",
   "metadata": {
    "pycharm": {
     "name": "#%%\n"
    }
   },
   "outputs": [],
   "source": [
    "df['text_final']=df['text_final'].astype(str)"
   ]
  },
  {
   "cell_type": "code",
   "execution_count": 42,
   "id": "enormous-cholesterol",
   "metadata": {
    "pycharm": {
     "name": "#%%\n"
    }
   },
   "outputs": [
    {
     "name": "stdout",
     "output_type": "stream",
     "text": [
      "<class 'pandas.core.frame.DataFrame'>\n",
      "Int64Index: 9116 entries, 0 to 11928\n",
      "Data columns (total 6 columns):\n",
      " #   Column       Non-Null Count  Dtype \n",
      "---  ------       --------------  ----- \n",
      " 0   Text         9116 non-null   object\n",
      " 1   Class        9116 non-null   int64 \n",
      " 2   Has_Email    9116 non-null   int64 \n",
      " 3   Has_URL      9116 non-null   int64 \n",
      " 4   Text_Length  9116 non-null   int64 \n",
      " 5   text_final   9116 non-null   object\n",
      "dtypes: int64(4), object(2)\n",
      "memory usage: 756.6+ KB\n"
     ]
    }
   ],
   "source": [
    "df.info()"
   ]
  },
  {
   "cell_type": "markdown",
   "id": "gentle-customs",
   "metadata": {},
   "source": [
    "#### Split into train and test data"
   ]
  },
  {
   "cell_type": "code",
   "execution_count": 43,
   "id": "occasional-evaluation",
   "metadata": {
    "pycharm": {
     "name": "#%%\n"
    }
   },
   "outputs": [],
   "source": [
    "Train_X, Test_X, Train_Y, Test_Y = model_selection.train_test_split(df['text_final'], df['Class'],test_size=0.3)"
   ]
  },
  {
   "cell_type": "code",
   "execution_count": 44,
   "id": "closing-south",
   "metadata": {
    "pycharm": {
     "name": "#%%\n"
    }
   },
   "outputs": [
    {
     "data": {
      "text/plain": [
       "count     9116\n",
       "unique    8775\n",
       "top         []\n",
       "freq       130\n",
       "Name: text_final, dtype: object"
      ]
     },
     "execution_count": 44,
     "metadata": {},
     "output_type": "execute_result"
    }
   ],
   "source": [
    "df['text_final'].describe()"
   ]
  },
  {
   "cell_type": "markdown",
   "id": "expected-carroll",
   "metadata": {},
   "source": [
    "####  Extracting text features from the data using TFID to fit and transform the data"
   ]
  },
  {
   "cell_type": "code",
   "execution_count": 45,
   "id": "juvenile-destiny",
   "metadata": {
    "pycharm": {
     "name": "#%%\n"
    }
   },
   "outputs": [],
   "source": [
    "Tfidf_vect = TfidfVectorizer(max_features=5000)\n",
    "Tfidf_vect.fit(df['text_final'])\n",
    "Train_X_Tfidf = Tfidf_vect.transform(Train_X)\n",
    "Test_X_Tfidf = Tfidf_vect.transform(Test_X)"
   ]
  },
  {
   "cell_type": "markdown",
   "id": "identified-nightlife",
   "metadata": {},
   "source": [
    "#### Build piplelines to manage the workflow"
   ]
  },
  {
   "cell_type": "code",
   "execution_count": 46,
   "id": "arctic-instrumentation",
   "metadata": {
    "pycharm": {
     "name": "#%%\n"
    }
   },
   "outputs": [],
   "source": [
    "pipe_svm = Pipeline([('clf', SVC(random_state=42))])\n",
    "\n",
    "pipe_nb = Pipeline([('clf', naive_bayes.MultinomialNB())])\n",
    "\n",
    "pipe_lr = Pipeline([('clf', LogisticRegression())])"
   ]
  },
  {
   "cell_type": "code",
   "execution_count": 52,
   "id": "israeli-relaxation",
   "metadata": {
    "pycharm": {
     "name": "#%%\n"
    }
   },
   "outputs": [],
   "source": [
    "\n",
    "grid_params_svm = [{'clf__kernel': ['linear', 'rbf'],\n",
    "                    'clf__C': list(range(1, 11, 2))}]\n",
    "\n",
    "grid_params_nb = [{'clf__alpha': [0,1.0]}]\n",
    "\n",
    "grid_params_lr = [{\"clf__C\":np.logspace(-3,3,7),\n",
    "                   \"clf__penalty\":[\"none\",\"l1\",\"l2\"]}]"
   ]
  },
  {
   "cell_type": "code",
   "execution_count": 53,
   "id": "annual-fireplace",
   "metadata": {
    "pycharm": {
     "name": "#%%\n"
    }
   },
   "outputs": [],
   "source": [
    "inner_cv = KFold(n_splits=3, shuffle=True, random_state=42)\n",
    "outer_cv = KFold(n_splits=3, shuffle=True, random_state=42)"
   ]
  },
  {
   "cell_type": "code",
   "execution_count": 54,
   "id": "material-stand",
   "metadata": {
    "pycharm": {
     "name": "#%%\n"
    }
   },
   "outputs": [],
   "source": [
    "jobs = -1\n",
    "\n",
    "gs_lr = GridSearchCV(estimator=pipe_lr,\n",
    "\t\t\tparam_grid=grid_params_lr,\n",
    "\t\t\tscoring='accuracy',\n",
    "\t\t\tcv=inner_cv)\n",
    "\n",
    "gs_nb = GridSearchCV(estimator=pipe_nb,\n",
    "\t\t\tparam_grid=grid_params_nb,\n",
    "\t\t\tscoring='accuracy',\n",
    "\t\t\tcv=inner_cv)\n",
    "\n",
    "\n",
    "gs_svm = GridSearchCV(estimator=pipe_svm,\n",
    "\t\t\tparam_grid=grid_params_svm,\n",
    "\t\t\tscoring='accuracy',\n",
    "\t\t\tcv=inner_cv,\n",
    "\t\t\tn_jobs=jobs)\n",
    "\n",
    "grids = [gs_svm, gs_nb, gs_lr]\n",
    "\n",
    "grid_dict = {0: 'SVM',\n",
    "             1: 'Naive Bayes',\n",
    "             2: 'Logistic Regression'}"
   ]
  },
  {
   "cell_type": "code",
   "execution_count": 55,
   "id": "attached-politics",
   "metadata": {
    "pycharm": {
     "name": "#%%\n"
    }
   },
   "outputs": [
    {
     "name": "stdout",
     "output_type": "stream",
     "text": [
      "Performing model optimizations...\n",
      "\n",
      "Estimator: SVM\n",
      "Best params: {'clf__C': 3, 'clf__kernel': 'rbf'}\n",
      "Best training accuracy: 0.985\n",
      "Test set accuracy score for best params: 0.987 \n",
      "\n",
      "Estimator: Logistic Regression\n",
      "Best params: {'clf__alpha': 1.0}\n",
      "Best training accuracy: 0.974\n",
      "Test set accuracy score for best params: 0.974 \n"
     ]
    },
    {
     "name": "stderr",
     "output_type": "stream",
     "text": [
      "C:\\Users\\jayan\\AppData\\Local\\Programs\\Python\\Python38\\lib\\site-packages\\sklearn\\naive_bayes.py:508: UserWarning: alpha too small will result in numeric errors, setting alpha = 1.0e-10\n",
      "  warnings.warn('alpha too small will result in numeric errors, '\n",
      "C:\\Users\\jayan\\AppData\\Local\\Programs\\Python\\Python38\\lib\\site-packages\\sklearn\\naive_bayes.py:508: UserWarning: alpha too small will result in numeric errors, setting alpha = 1.0e-10\n",
      "  warnings.warn('alpha too small will result in numeric errors, '\n",
      "C:\\Users\\jayan\\AppData\\Local\\Programs\\Python\\Python38\\lib\\site-packages\\sklearn\\naive_bayes.py:508: UserWarning: alpha too small will result in numeric errors, setting alpha = 1.0e-10\n",
      "  warnings.warn('alpha too small will result in numeric errors, '\n",
      "C:\\Users\\jayan\\AppData\\Local\\Programs\\Python\\Python38\\lib\\site-packages\\sklearn\\naive_bayes.py:508: UserWarning: alpha too small will result in numeric errors, setting alpha = 1.0e-10\n",
      "  warnings.warn('alpha too small will result in numeric errors, '\n",
      "C:\\Users\\jayan\\AppData\\Local\\Programs\\Python\\Python38\\lib\\site-packages\\sklearn\\naive_bayes.py:508: UserWarning: alpha too small will result in numeric errors, setting alpha = 1.0e-10\n",
      "  warnings.warn('alpha too small will result in numeric errors, '\n",
      "C:\\Users\\jayan\\AppData\\Local\\Programs\\Python\\Python38\\lib\\site-packages\\sklearn\\naive_bayes.py:508: UserWarning: alpha too small will result in numeric errors, setting alpha = 1.0e-10\n",
      "  warnings.warn('alpha too small will result in numeric errors, '\n",
      "C:\\Users\\jayan\\AppData\\Local\\Programs\\Python\\Python38\\lib\\site-packages\\sklearn\\naive_bayes.py:508: UserWarning: alpha too small will result in numeric errors, setting alpha = 1.0e-10\n",
      "  warnings.warn('alpha too small will result in numeric errors, '\n",
      "C:\\Users\\jayan\\AppData\\Local\\Programs\\Python\\Python38\\lib\\site-packages\\sklearn\\naive_bayes.py:508: UserWarning: alpha too small will result in numeric errors, setting alpha = 1.0e-10\n",
      "  warnings.warn('alpha too small will result in numeric errors, '\n",
      "C:\\Users\\jayan\\AppData\\Local\\Programs\\Python\\Python38\\lib\\site-packages\\sklearn\\naive_bayes.py:508: UserWarning: alpha too small will result in numeric errors, setting alpha = 1.0e-10\n",
      "  warnings.warn('alpha too small will result in numeric errors, '\n",
      "C:\\Users\\jayan\\AppData\\Local\\Programs\\Python\\Python38\\lib\\site-packages\\sklearn\\naive_bayes.py:508: UserWarning: alpha too small will result in numeric errors, setting alpha = 1.0e-10\n",
      "  warnings.warn('alpha too small will result in numeric errors, '\n",
      "C:\\Users\\jayan\\AppData\\Local\\Programs\\Python\\Python38\\lib\\site-packages\\sklearn\\naive_bayes.py:508: UserWarning: alpha too small will result in numeric errors, setting alpha = 1.0e-10\n",
      "  warnings.warn('alpha too small will result in numeric errors, '\n",
      "C:\\Users\\jayan\\AppData\\Local\\Programs\\Python\\Python38\\lib\\site-packages\\sklearn\\naive_bayes.py:508: UserWarning: alpha too small will result in numeric errors, setting alpha = 1.0e-10\n",
      "  warnings.warn('alpha too small will result in numeric errors, '\n"
     ]
    },
    {
     "ename": "KeyError",
     "evalue": "2",
     "output_type": "error",
     "traceback": [
      "\u001b[1;31m---------------------------------------------------------------------------\u001b[0m",
      "\u001b[1;31mKeyError\u001b[0m                                  Traceback (most recent call last)",
      "\u001b[1;32m<ipython-input-55-fd4f4864d647>\u001b[0m in \u001b[0;36m<module>\u001b[1;34m\u001b[0m\n\u001b[0;32m      6\u001b[0m \u001b[0mclf_dict\u001b[0m\u001b[1;33m,\u001b[0m \u001b[0mcv_results\u001b[0m \u001b[1;33m=\u001b[0m \u001b[0mdict\u001b[0m\u001b[1;33m(\u001b[0m\u001b[1;33m)\u001b[0m\u001b[1;33m,\u001b[0m \u001b[0mdict\u001b[0m\u001b[1;33m(\u001b[0m\u001b[1;33m)\u001b[0m\u001b[1;33m\u001b[0m\u001b[1;33m\u001b[0m\u001b[0m\n\u001b[0;32m      7\u001b[0m \u001b[1;32mfor\u001b[0m \u001b[0midx\u001b[0m\u001b[1;33m,\u001b[0m \u001b[0mgs\u001b[0m \u001b[1;32min\u001b[0m \u001b[0menumerate\u001b[0m\u001b[1;33m(\u001b[0m\u001b[0mgrids\u001b[0m\u001b[1;33m)\u001b[0m\u001b[1;33m:\u001b[0m\u001b[1;33m\u001b[0m\u001b[1;33m\u001b[0m\u001b[0m\n\u001b[1;32m----> 8\u001b[1;33m     \u001b[0mprint\u001b[0m\u001b[1;33m(\u001b[0m\u001b[1;34m'\\nEstimator: %s'\u001b[0m \u001b[1;33m%\u001b[0m \u001b[0mgrid_dict\u001b[0m\u001b[1;33m[\u001b[0m\u001b[0midx\u001b[0m\u001b[1;33m]\u001b[0m\u001b[1;33m)\u001b[0m\u001b[1;33m\u001b[0m\u001b[1;33m\u001b[0m\u001b[0m\n\u001b[0m\u001b[0;32m      9\u001b[0m     \u001b[1;31m# Fit grid search\u001b[0m\u001b[1;33m\u001b[0m\u001b[1;33m\u001b[0m\u001b[1;33m\u001b[0m\u001b[0m\n\u001b[0;32m     10\u001b[0m     \u001b[0mgs\u001b[0m\u001b[1;33m.\u001b[0m\u001b[0mfit\u001b[0m\u001b[1;33m(\u001b[0m\u001b[0mTrain_X_Tfidf\u001b[0m\u001b[1;33m,\u001b[0m \u001b[0mTrain_Y\u001b[0m\u001b[1;33m)\u001b[0m\u001b[1;33m\u001b[0m\u001b[1;33m\u001b[0m\u001b[0m\n",
      "\u001b[1;31mKeyError\u001b[0m: 2"
     ]
    }
   ],
   "source": [
    "# Fit the grid search objects\n",
    "print('Performing model optimizations...')\n",
    "best_acc = 0.0\n",
    "best_clf = 0\n",
    "best_gs = ''\n",
    "clf_dict, cv_results = dict(), dict()\n",
    "for idx, gs in enumerate(grids):\n",
    "    print('\\nEstimator: %s' % grid_dict[idx])\n",
    "    # Fit grid search\n",
    "    gs.fit(Train_X_Tfidf, Train_Y)\n",
    "    clf_dict[idx] = gs\n",
    "    # Best params\n",
    "    print('Best params: %s' % gs.best_params_)\n",
    "    # Best training data accuracy\n",
    "    print('Best training accuracy: %.3f' % gs.best_score_)\n",
    "    # Outer cross validation loop\n",
    "    cv_scores = cross_val_score(gs, Train_X_Tfidf, Train_Y, cv=outer_cv)\n",
    "    cv_results[grid_dict[idx]] = cv_scores\n",
    "    # Predict on test data with best params\n",
    "    y_pred = gs.predict(Test_X_Tfidf)\n",
    "    # Test data accuracy of model with best params\n",
    "    print('Test set accuracy score for best params: %.3f ' % metrics.accuracy_score(Test_Y, y_pred))\n",
    "    # Track best (highest test accuracy) model\n",
    "    if metrics.accuracy_score(Test_Y, y_pred) > best_acc:\n",
    "        best_acc = metrics.accuracy_score(Test_Y, y_pred)\n",
    "        best_gs = gs\n",
    "        best_clf = idx\n",
    "print('\\nClassifier with best test set accuracy: %s' % grid_dict[best_clf])\n",
    "# plot model performance for comparison\n",
    "plt.boxplot(list(cv_results.values()), labels=list(cv_results.keys()), showmeans=True)\n",
    "plt.xticks(rotation = 90)\n",
    "plt.title('Model cross validation performance')\n",
    "plt.show()"
   ]
  },
  {
   "cell_type": "code",
   "execution_count": null,
   "id": "peaceful-carol",
   "metadata": {},
   "outputs": [],
   "source": [
    "naive_bayes.MultinomialNB().get_params().keys()"
   ]
  },
  {
   "cell_type": "code",
   "execution_count": null,
   "id": "fluid-diamond",
   "metadata": {
    "pycharm": {
     "name": "#%%\n"
    }
   },
   "outputs": [],
   "source": [
    "\n",
    "# fit the training dataset on the NB classifier\n",
    "Naive = naive_bayes.MultinomialNB()\n",
    "Naive.fit(Train_X_Tfidf,Train_Y)\n",
    "# predict the labels on validation dataset\n",
    "predictions_NB = Naive.predict(Test_X_Tfidf)\n",
    "# Use accuracy_score function to get the accuracy\n",
    "print(\"Naive Bayes Accuracy Score -> \",accuracy_score(Test_Y, predictions_NB)*100)"
   ]
  },
  {
   "cell_type": "code",
   "execution_count": null,
   "id": "therapeutic-photographer",
   "metadata": {
    "pycharm": {
     "name": "#%%\n"
    }
   },
   "outputs": [],
   "source": [
    "Train_X_Tfidf\n"
   ]
  },
  {
   "cell_type": "code",
   "execution_count": null,
   "id": "opposite-relationship",
   "metadata": {
    "pycharm": {
     "name": "#%%\n"
    }
   },
   "outputs": [],
   "source": [
    "train_pool = Pool(\n",
    "    X_train,\n",
    "    y_train,\n",
    "    cat_features=cat_features,\n",
    "    text_features=text_features,\n",
    "    feature_names=list(X_train)\n",
    ")\n",
    "valid_pool = Pool(\n",
    "    X_test,\n",
    "    y_test,\n",
    "    cat_features=cat_features,\n",
    "    text_features=text_features,\n",
    "    feature_names=list(X_train)\n",
    ")\n",
    "\n",
    "catboost_params = {\n",
    "    'iterations': 3000,\n",
    "    'learning_rate': 0.01,\n",
    "    'eval_metric': 'Accuracy',\n",
    "    'task_type': 'GPU',\n",
    "    'early_stopping_rounds': 2000,\n",
    "    'use_best_model': True,\n",
    "    'verbose': 500\n",
    "}\n",
    "class_weight = [5,4]\n",
    "model = CatBoostClassifier(**catboost_params,class_weights=class_weight)\n",
    "model.fit(train_pool, eval_set=valid_pool)"
   ]
  },
  {
   "cell_type": "code",
   "execution_count": null,
   "id": "numerical-ranch",
   "metadata": {
    "pycharm": {
     "name": "#%%\n"
    }
   },
   "outputs": [],
   "source": [
    "pred = model.predict(X_test)\n",
    "print(classification_report(y_test,pred))\n",
    "print(accuracy_score(y_test,pred))"
   ]
  },
  {
   "cell_type": "code",
   "execution_count": null,
   "id": "medical-regular",
   "metadata": {
    "pycharm": {
     "name": "#%%\n"
    }
   },
   "outputs": [],
   "source": []
  },
  {
   "cell_type": "code",
   "execution_count": null,
   "id": "lined-offset",
   "metadata": {},
   "outputs": [],
   "source": []
  }
 ],
 "metadata": {
  "kernelspec": {
   "display_name": "PyCharm (Untitled.ipynb)",
   "language": "python",
   "name": "pycharm-65500aff"
  },
  "language_info": {
   "codemirror_mode": {
    "name": "ipython",
    "version": 3
   },
   "file_extension": ".py",
   "mimetype": "text/x-python",
   "name": "python",
   "nbconvert_exporter": "python",
   "pygments_lexer": "ipython3",
   "version": "3.8.7"
  }
 },
 "nbformat": 4,
 "nbformat_minor": 5
}
